{
 "cells": [
  {
   "cell_type": "markdown",
   "id": "spare-portsmouth",
   "metadata": {},
   "source": [
    "# Ex10 뉴스기사 요약해보기"
   ]
  },
  {
   "cell_type": "markdown",
   "id": "blank-tomato",
   "metadata": {},
   "source": [
    "## Step1 데이터 수집하기"
   ]
  },
  {
   "cell_type": "markdown",
   "id": "instant-labor",
   "metadata": {},
   "source": [
    "### 뉴스기사를 다운받습니다."
   ]
  },
  {
   "cell_type": "code",
   "execution_count": 1,
   "id": "square-barcelona",
   "metadata": {},
   "outputs": [
    {
     "name": "stderr",
     "output_type": "stream",
     "text": [
      "[nltk_data] Downloading package stopwords to /aiffel/nltk_data...\n",
      "[nltk_data]   Package stopwords is already up-to-date!\n"
     ]
    }
   ],
   "source": [
    "import nltk\n",
    "nltk.download('stopwords')\n",
    "\n",
    "import numpy as np\n",
    "import pandas as pd\n",
    "import os\n",
    "import re\n",
    "import matplotlib.pyplot as plt\n",
    "from nltk.corpus import stopwords\n",
    "from bs4 import BeautifulSoup \n",
    "from tensorflow.keras.preprocessing.text import Tokenizer \n",
    "from tensorflow.keras.preprocessing.sequence import pad_sequences\n",
    "import urllib.request\n",
    "import warnings\n",
    "warnings.filterwarnings(\"ignore\", category=UserWarning, module='bs4')\n",
    "\n",
    "urllib.request.urlretrieve(\"https://raw.githubusercontent.com/sunnysai12345/News_Summary/master/news_summary_more.csv\", filename=\"news_summary_more.csv\")\n",
    "data = pd.read_csv('news_summary_more.csv', encoding='iso-8859-1')"
   ]
  },
  {
   "cell_type": "markdown",
   "id": "chronic-syndrome",
   "metadata": {},
   "source": [
    "### 이 데이터는 헤드라인과 텍스트 내용이 있습니다."
   ]
  },
  {
   "cell_type": "code",
   "execution_count": 2,
   "id": "polished-siemens",
   "metadata": {
    "scrolled": true
   },
   "outputs": [
    {
     "data": {
      "text/html": [
       "<div>\n",
       "<style scoped>\n",
       "    .dataframe tbody tr th:only-of-type {\n",
       "        vertical-align: middle;\n",
       "    }\n",
       "\n",
       "    .dataframe tbody tr th {\n",
       "        vertical-align: top;\n",
       "    }\n",
       "\n",
       "    .dataframe thead th {\n",
       "        text-align: right;\n",
       "    }\n",
       "</style>\n",
       "<table border=\"1\" class=\"dataframe\">\n",
       "  <thead>\n",
       "    <tr style=\"text-align: right;\">\n",
       "      <th></th>\n",
       "      <th>headlines</th>\n",
       "      <th>text</th>\n",
       "    </tr>\n",
       "  </thead>\n",
       "  <tbody>\n",
       "    <tr>\n",
       "      <th>92821</th>\n",
       "      <td>Pleasure to open innings with you: Gayle to Kohli</td>\n",
       "      <td>Following their 122-run stand for the first wi...</td>\n",
       "    </tr>\n",
       "    <tr>\n",
       "      <th>16925</th>\n",
       "      <td>Nigeria declares national disaster after flood...</td>\n",
       "      <td>At least 100 people have died in floods across...</td>\n",
       "    </tr>\n",
       "    <tr>\n",
       "      <th>15077</th>\n",
       "      <td>Saudi puts world's biggest solar power project...</td>\n",
       "      <td>Saudi Arabia has put on hold a $200 billion pl...</td>\n",
       "    </tr>\n",
       "    <tr>\n",
       "      <th>70752</th>\n",
       "      <td>Russia investigation waste of time: Ex-Trump a...</td>\n",
       "      <td>The investigation into possible collusion betw...</td>\n",
       "    </tr>\n",
       "    <tr>\n",
       "      <th>49703</th>\n",
       "      <td>Facebook posts $13 billion in revenue in 2017 Q4</td>\n",
       "      <td>Facebook has posted a revenue of $12.97 billio...</td>\n",
       "    </tr>\n",
       "    <tr>\n",
       "      <th>78672</th>\n",
       "      <td>Swiggy CEO responds to blog post claiming it f...</td>\n",
       "      <td>Swiggy CEO Sriharsha Majety has responded to a...</td>\n",
       "    </tr>\n",
       "    <tr>\n",
       "      <th>65579</th>\n",
       "      <td>Women must use 'Doklam diplomacy' to convince ...</td>\n",
       "      <td>Replying to a question during an interaction w...</td>\n",
       "    </tr>\n",
       "    <tr>\n",
       "      <th>36757</th>\n",
       "      <td>Hope I get to work with Kareena in future: Kar...</td>\n",
       "      <td>Kartik Aaryan, who recently walked the ramp wi...</td>\n",
       "    </tr>\n",
       "    <tr>\n",
       "      <th>3774</th>\n",
       "      <td>I'll be your sister for life: Dipika to Sreesa...</td>\n",
       "      <td>After winning Bigg Boss 12, television actress...</td>\n",
       "    </tr>\n",
       "    <tr>\n",
       "      <th>46408</th>\n",
       "      <td>Apple devices at US centre making fake calls t...</td>\n",
       "      <td>Apple devices at a repair centre in California...</td>\n",
       "    </tr>\n",
       "  </tbody>\n",
       "</table>\n",
       "</div>"
      ],
      "text/plain": [
       "                                               headlines  \\\n",
       "92821  Pleasure to open innings with you: Gayle to Kohli   \n",
       "16925  Nigeria declares national disaster after flood...   \n",
       "15077  Saudi puts world's biggest solar power project...   \n",
       "70752  Russia investigation waste of time: Ex-Trump a...   \n",
       "49703   Facebook posts $13 billion in revenue in 2017 Q4   \n",
       "78672  Swiggy CEO responds to blog post claiming it f...   \n",
       "65579  Women must use 'Doklam diplomacy' to convince ...   \n",
       "36757  Hope I get to work with Kareena in future: Kar...   \n",
       "3774   I'll be your sister for life: Dipika to Sreesa...   \n",
       "46408  Apple devices at US centre making fake calls t...   \n",
       "\n",
       "                                                    text  \n",
       "92821  Following their 122-run stand for the first wi...  \n",
       "16925  At least 100 people have died in floods across...  \n",
       "15077  Saudi Arabia has put on hold a $200 billion pl...  \n",
       "70752  The investigation into possible collusion betw...  \n",
       "49703  Facebook has posted a revenue of $12.97 billio...  \n",
       "78672  Swiggy CEO Sriharsha Majety has responded to a...  \n",
       "65579  Replying to a question during an interaction w...  \n",
       "36757  Kartik Aaryan, who recently walked the ramp wi...  \n",
       "3774   After winning Bigg Boss 12, television actress...  \n",
       "46408  Apple devices at a repair centre in California...  "
      ]
     },
     "execution_count": 2,
     "metadata": {},
     "output_type": "execute_result"
    }
   ],
   "source": [
    "data.sample(10)"
   ]
  },
  {
   "cell_type": "markdown",
   "id": "several-indie",
   "metadata": {},
   "source": [
    "## Step2 데이터 전처리하기(추상적 요약)"
   ]
  },
  {
   "cell_type": "markdown",
   "id": "disabled-garage",
   "metadata": {},
   "source": [
    "### 텍스트열 데이터에 대한 중복값을 제외했습니다."
   ]
  },
  {
   "cell_type": "code",
   "execution_count": 3,
   "id": "julian-cycle",
   "metadata": {
    "scrolled": true
   },
   "outputs": [
    {
     "name": "stdout",
     "output_type": "stream",
     "text": [
      "headlines 열에서 중복을 배제한 유일한 샘플의 수 : 98280\n",
      "text 열에서 중복을 배제한 유일한 샘플의 수 : 98360\n"
     ]
    }
   ],
   "source": [
    "print('headlines 열에서 중복을 배제한 유일한 샘플의 수 :', data['headlines'].nunique())\n",
    "print('text 열에서 중복을 배제한 유일한 샘플의 수 :', data['text'].nunique())"
   ]
  },
  {
   "cell_type": "code",
   "execution_count": 4,
   "id": "enormous-security",
   "metadata": {
    "scrolled": true
   },
   "outputs": [
    {
     "name": "stdout",
     "output_type": "stream",
     "text": [
      "전체 샘플수 : 98360\n"
     ]
    }
   ],
   "source": [
    "data.drop_duplicates(subset = ['text'], inplace=True)\n",
    "print('전체 샘플수 :', (len(data)))"
   ]
  },
  {
   "cell_type": "markdown",
   "id": "rubber-newark",
   "metadata": {},
   "source": [
    "### 결측치가 있나 확인해봤습니다."
   ]
  },
  {
   "cell_type": "code",
   "execution_count": 5,
   "id": "terminal-rochester",
   "metadata": {
    "scrolled": true
   },
   "outputs": [
    {
     "name": "stdout",
     "output_type": "stream",
     "text": [
      "headlines    0\n",
      "text         0\n",
      "dtype: int64\n"
     ]
    }
   ],
   "source": [
    "print(data.isnull().sum())"
   ]
  },
  {
   "cell_type": "markdown",
   "id": "cheap-inside",
   "metadata": {},
   "source": [
    "### 축약어에대한 사전을 만들었습니다."
   ]
  },
  {
   "cell_type": "code",
   "execution_count": 6,
   "id": "hollywood-saskatchewan",
   "metadata": {},
   "outputs": [
    {
     "name": "stdout",
     "output_type": "stream",
     "text": [
      "정규화 사전의 수:  120\n"
     ]
    }
   ],
   "source": [
    "contractions = {\"ain't\": \"is not\", \"aren't\": \"are not\",\"can't\": \"cannot\", \"'cause\": \"because\", \"could've\": \"could have\", \"couldn't\": \"could not\",\n",
    "                           \"didn't\": \"did not\",  \"doesn't\": \"does not\", \"don't\": \"do not\", \"hadn't\": \"had not\", \"hasn't\": \"has not\", \"haven't\": \"have not\",\n",
    "                           \"he'd\": \"he would\",\"he'll\": \"he will\", \"he's\": \"he is\", \"how'd\": \"how did\", \"how'd'y\": \"how do you\", \"how'll\": \"how will\", \"how's\": \"how is\",\n",
    "                           \"I'd\": \"I would\", \"I'd've\": \"I would have\", \"I'll\": \"I will\", \"I'll've\": \"I will have\",\"I'm\": \"I am\", \"I've\": \"I have\", \"i'd\": \"i would\",\n",
    "                           \"i'd've\": \"i would have\", \"i'll\": \"i will\",  \"i'll've\": \"i will have\",\"i'm\": \"i am\", \"i've\": \"i have\", \"isn't\": \"is not\", \"it'd\": \"it would\",\n",
    "                           \"it'd've\": \"it would have\", \"it'll\": \"it will\", \"it'll've\": \"it will have\",\"it's\": \"it is\", \"let's\": \"let us\", \"ma'am\": \"madam\",\n",
    "                           \"mayn't\": \"may not\", \"might've\": \"might have\",\"mightn't\": \"might not\",\"mightn't've\": \"might not have\", \"must've\": \"must have\",\n",
    "                           \"mustn't\": \"must not\", \"mustn't've\": \"must not have\", \"needn't\": \"need not\", \"needn't've\": \"need not have\",\"o'clock\": \"of the clock\",\n",
    "                           \"oughtn't\": \"ought not\", \"oughtn't've\": \"ought not have\", \"shan't\": \"shall not\", \"sha'n't\": \"shall not\", \"shan't've\": \"shall not have\",\n",
    "                           \"she'd\": \"she would\", \"she'd've\": \"she would have\", \"she'll\": \"she will\", \"she'll've\": \"she will have\", \"she's\": \"she is\",\n",
    "                           \"should've\": \"should have\", \"shouldn't\": \"should not\", \"shouldn't've\": \"should not have\", \"so've\": \"so have\",\"so's\": \"so as\",\n",
    "                           \"this's\": \"this is\",\"that'd\": \"that would\", \"that'd've\": \"that would have\", \"that's\": \"that is\", \"there'd\": \"there would\",\n",
    "                           \"there'd've\": \"there would have\", \"there's\": \"there is\", \"here's\": \"here is\",\"they'd\": \"they would\", \"they'd've\": \"they would have\",\n",
    "                           \"they'll\": \"they will\", \"they'll've\": \"they will have\", \"they're\": \"they are\", \"they've\": \"they have\", \"to've\": \"to have\",\n",
    "                           \"wasn't\": \"was not\", \"we'd\": \"we would\", \"we'd've\": \"we would have\", \"we'll\": \"we will\", \"we'll've\": \"we will have\", \"we're\": \"we are\",\n",
    "                           \"we've\": \"we have\", \"weren't\": \"were not\", \"what'll\": \"what will\", \"what'll've\": \"what will have\", \"what're\": \"what are\",\n",
    "                           \"what's\": \"what is\", \"what've\": \"what have\", \"when's\": \"when is\", \"when've\": \"when have\", \"where'd\": \"where did\", \"where's\": \"where is\",\n",
    "                           \"where've\": \"where have\", \"who'll\": \"who will\", \"who'll've\": \"who will have\", \"who's\": \"who is\", \"who've\": \"who have\",\n",
    "                           \"why's\": \"why is\", \"why've\": \"why have\", \"will've\": \"will have\", \"won't\": \"will not\", \"won't've\": \"will not have\",\n",
    "                           \"would've\": \"would have\", \"wouldn't\": \"would not\", \"wouldn't've\": \"would not have\", \"y'all\": \"you all\",\n",
    "                           \"y'all'd\": \"you all would\",\"y'all'd've\": \"you all would have\",\"y'all're\": \"you all are\",\"y'all've\": \"you all have\",\n",
    "                           \"you'd\": \"you would\", \"you'd've\": \"you would have\", \"you'll\": \"you will\", \"you'll've\": \"you will have\",\n",
    "                           \"you're\": \"you are\", \"you've\": \"you have\"}\n",
    "\n",
    "print(\"정규화 사전의 수: \", len(contractions))"
   ]
  },
  {
   "cell_type": "markdown",
   "id": "removable-course",
   "metadata": {},
   "source": [
    "### 불용어를 확인했습니다."
   ]
  },
  {
   "cell_type": "code",
   "execution_count": 7,
   "id": "worthy-techno",
   "metadata": {
    "scrolled": true
   },
   "outputs": [
    {
     "name": "stdout",
     "output_type": "stream",
     "text": [
      "불용어 개수 : 179\n",
      "['i', 'me', 'my', 'myself', 'we', 'our', 'ours', 'ourselves', 'you', \"you're\", \"you've\", \"you'll\", \"you'd\", 'your', 'yours', 'yourself', 'yourselves', 'he', 'him', 'his', 'himself', 'she', \"she's\", 'her', 'hers', 'herself', 'it', \"it's\", 'its', 'itself', 'they', 'them', 'their', 'theirs', 'themselves', 'what', 'which', 'who', 'whom', 'this', 'that', \"that'll\", 'these', 'those', 'am', 'is', 'are', 'was', 'were', 'be', 'been', 'being', 'have', 'has', 'had', 'having', 'do', 'does', 'did', 'doing', 'a', 'an', 'the', 'and', 'but', 'if', 'or', 'because', 'as', 'until', 'while', 'of', 'at', 'by', 'for', 'with', 'about', 'against', 'between', 'into', 'through', 'during', 'before', 'after', 'above', 'below', 'to', 'from', 'up', 'down', 'in', 'out', 'on', 'off', 'over', 'under', 'again', 'further', 'then', 'once', 'here', 'there', 'when', 'where', 'why', 'how', 'all', 'any', 'both', 'each', 'few', 'more', 'most', 'other', 'some', 'such', 'no', 'nor', 'not', 'only', 'own', 'same', 'so', 'than', 'too', 'very', 's', 't', 'can', 'will', 'just', 'don', \"don't\", 'should', \"should've\", 'now', 'd', 'll', 'm', 'o', 're', 've', 'y', 'ain', 'aren', \"aren't\", 'couldn', \"couldn't\", 'didn', \"didn't\", 'doesn', \"doesn't\", 'hadn', \"hadn't\", 'hasn', \"hasn't\", 'haven', \"haven't\", 'isn', \"isn't\", 'ma', 'mightn', \"mightn't\", 'mustn', \"mustn't\", 'needn', \"needn't\", 'shan', \"shan't\", 'shouldn', \"shouldn't\", 'wasn', \"wasn't\", 'weren', \"weren't\", 'won', \"won't\", 'wouldn', \"wouldn't\"]\n"
     ]
    }
   ],
   "source": [
    "print('불용어 개수 :', len(stopwords.words('english') ))\n",
    "print(stopwords.words('english'))"
   ]
  },
  {
   "cell_type": "markdown",
   "id": "patent-timeline",
   "metadata": {},
   "source": [
    "### 불용어 및 특수문자를 제거했습니다."
   ]
  },
  {
   "cell_type": "code",
   "execution_count": 8,
   "id": "chicken-anime",
   "metadata": {},
   "outputs": [],
   "source": [
    "def preprocess_sentence(sentence, remove_stopwords=True):\n",
    "    sentence = sentence.lower() # 텍스트 소문자화\n",
    "    sentence = BeautifulSoup(sentence, \"lxml\").text # <br />, <a href = ...> 등의 html 태그 제거\n",
    "    sentence = re.sub(r'\\([^)]*\\)', '', sentence) # 괄호로 닫힌 문자열 (...) 제거 Ex) my husband (and myself!) for => my husband for\n",
    "    sentence = re.sub('\"','', sentence) # 쌍따옴표 \" 제거\n",
    "    sentence = ' '.join([contractions[t] if t in contractions else t for t in sentence.split(\" \")]) # 약어 정규화\n",
    "    sentence = re.sub(r\"'s\\b\",\"\", sentence) # 소유격 제거. Ex) roland's -> roland\n",
    "    sentence = re.sub(\"[^a-zA-Z]\", \" \", sentence) # 영어 외 문자(숫자, 특수문자 등) 공백으로 변환\n",
    "    sentence = re.sub('[m]{2,}', 'mm', sentence) # m이 3개 이상이면 2개로 변경. Ex) ummmmmmm yeah -> umm yeah\n",
    "    \n",
    "    # 불용어 제거 (Text)\n",
    "    if remove_stopwords:\n",
    "        tokens = ' '.join(word for word in sentence.split() if not word in stopwords.words('english') if len(word) > 1)\n",
    "    # 불용어 미제거 (Summary)\n",
    "    else:\n",
    "        tokens = ' '.join(word for word in sentence.split() if len(word) > 1)\n",
    "    return tokens"
   ]
  },
  {
   "cell_type": "markdown",
   "id": "dimensional-planet",
   "metadata": {},
   "source": [
    "### 예제를 적용시켜 확인해봤습니다."
   ]
  },
  {
   "cell_type": "code",
   "execution_count": 9,
   "id": "passing-empty",
   "metadata": {
    "scrolled": true
   },
   "outputs": [
    {
     "name": "stdout",
     "output_type": "stream",
     "text": [
      "everything bought great infact ordered twice third ordered wasfor mother father\n",
      "great way to start the day\n"
     ]
    }
   ],
   "source": [
    "temp_text = 'Everything I bought was great, infact I ordered twice and the third ordered was<br />for my mother and father.'\n",
    "temp_summary = 'Great way to start (or finish) the day!!!'\n",
    "\n",
    "print(preprocess_sentence(temp_text))\n",
    "print(preprocess_sentence(temp_summary, False))  # 불용어를 제거하지 않습니다."
   ]
  },
  {
   "cell_type": "markdown",
   "id": "danish-budapest",
   "metadata": {},
   "source": [
    "### 전체 데이터에 적용시켰습니다."
   ]
  },
  {
   "cell_type": "code",
   "execution_count": 10,
   "id": "cordless-spending",
   "metadata": {},
   "outputs": [
    {
     "name": "stdout",
     "output_type": "stream",
     "text": [
      "421.05774545669556  seconds\n",
      "['saurav kant alumnus upgrad iiit pg program machine learning artificial intelligence sr systems engineer infosys almost years work experience program upgrad degree career support helped transition data scientist tech mahindra salary hike upgrad online power learning powered lakh careers'\n",
      " 'kunal shah credit card bill payment platform cred gave users chance win free food swiggy one year pranav kaushik delhi techie bagged reward spending cred coins users get one cred coin per rupee bill paid used avail rewards brands like ixigo bookmyshow ubereats cult fit'\n",
      " 'new zealand defeated india wickets fourth odi hamilton thursday win first match five match odi series india lost international match rohit sharma captaincy consecutive victories dating back march match witnessed india getting seventh lowest total odi cricket history'\n",
      " ...\n",
      " 'according reports new version science fiction film matrix development michael jordan reportedly play lead role film screenwriter zak penn talks write script film reports added actor keanu reeves starred original film followed two sequels'\n",
      " 'new music video shows rapper snoop dogg aiming toy gun clown character parodying us president donald trump video also shows tv airing news conference headline ronald klump wants deport doggs airing live clown house video remixed version song lavender'\n",
      " 'madhesi morcha alliance seven political parties withdrawn support pm pushpa kamal dahal led nepal government failed meet seven day ultimatum fulfil demands including endorsement revised constitution amendment bill morcha seats parliament despite withdrawal support immediate threat government']\n",
      "12.33422064781189  seconds\n",
      "['upgrad learner switches to career in ml al with salary hike'\n",
      " 'delhi techie wins free food from swiggy for one year on cred'\n",
      " 'new zealand end rohit sharma led india match winning streak' ...\n",
      " 'the matrix film to get reboot reports'\n",
      " 'snoop dogg aims gun at clown dressed as trump in new video'\n",
      " 'madhesi morcha withdraws support to nepalese government']\n"
     ]
    }
   ],
   "source": [
    "import multiprocessing as mp   # 멀티 프로세싱으로 전처리 속도를 획기적으로 줄여봅시다\n",
    "from multiprocessing import Pool\n",
    "import numpy as np\n",
    "import time\n",
    "from functools import partial  # map을 할 때 함수에 여러 인자를 넣어줄 수 있도록 합니다\n",
    "\n",
    "start = time.time()\n",
    "\n",
    "# num_cores 만큼 쪼개진 데이터를 전처리하여 반환합니다\n",
    "def appendTexts(sentences, remove_stopwords):\n",
    "    texts = []\n",
    "    for s in sentences:\n",
    "        texts += preprocess_sentence(s, remove_stopwords),\n",
    "    return texts\n",
    "\n",
    "def preprocess_data(data, remove_stopwords=True):\n",
    "    start_time = time.time()\n",
    "    num_cores = mp.cpu_count()  # 컴퓨터의 코어 수를 구합니다\n",
    "\n",
    "    text_data_split = np.array_split(data, num_cores)  # 코어 수만큼 데이터를 배분하여 병렬적으로 처리할 수 있게 합니다\n",
    "    pool = Pool(num_cores)\n",
    "\n",
    "    processed_data = np.concatenate(pool.map(partial(appendTexts, remove_stopwords=remove_stopwords), text_data_split))  # 각자 작업한 데이터를 하나로 합쳐줍니다\n",
    "    pool.close()\n",
    "    pool.join()\n",
    "    print(time.time() - start_time, \" seconds\")\n",
    "    return processed_data\n",
    "\n",
    "clean_text = preprocess_data(data['text'])  # 클라우드 기준으로 3~4분 정도 소요 됩니다\n",
    "print(clean_text)\n",
    "\n",
    "clean_headlines = preprocess_data(data['headlines'], remove_stopwords=False) # 클라우드 기준 1분정도 소요됩니다.\n",
    "print(clean_headlines)\n"
   ]
  },
  {
   "cell_type": "markdown",
   "id": "characteristic-syndrome",
   "metadata": {},
   "source": [
    "### 빈 값이 있으면 null값으로 대체했습니다."
   ]
  },
  {
   "cell_type": "code",
   "execution_count": 11,
   "id": "worst-survey",
   "metadata": {},
   "outputs": [],
   "source": [
    "data['text'] = clean_text\n",
    "data['headlines'] = clean_headlines\n",
    "\n",
    "# 빈 값을 Null 값으로 변환\n",
    "data.replace('', np.nan, inplace=True)"
   ]
  },
  {
   "cell_type": "code",
   "execution_count": 12,
   "id": "destroyed-insulin",
   "metadata": {
    "scrolled": true
   },
   "outputs": [
    {
     "data": {
      "text/plain": [
       "headlines    0\n",
       "text         0\n",
       "dtype: int64"
      ]
     },
     "execution_count": 12,
     "metadata": {},
     "output_type": "execute_result"
    }
   ],
   "source": [
    "data.isnull().sum()"
   ]
  },
  {
   "cell_type": "code",
   "execution_count": 13,
   "id": "tribal-chase",
   "metadata": {},
   "outputs": [
    {
     "name": "stdout",
     "output_type": "stream",
     "text": [
      "전체 샘플수 : 98360\n"
     ]
    }
   ],
   "source": [
    "data.dropna(axis=0, inplace=True)\n",
    "print('전체 샘플수 :', (len(data)))"
   ]
  },
  {
   "cell_type": "markdown",
   "id": "veterinary-tanzania",
   "metadata": {},
   "source": [
    "### 텍스트와 헤드라인에 대한 데이터 시각화를 했습니다."
   ]
  },
  {
   "cell_type": "code",
   "execution_count": 14,
   "id": "excited-saturn",
   "metadata": {},
   "outputs": [
    {
     "name": "stdout",
     "output_type": "stream",
     "text": [
      "텍스트의 최소 길이 : 1\n",
      "텍스트의 최대 길이 : 60\n",
      "텍스트의 평균 길이 : 35.09968483123221\n",
      "헤드라인의 최소 길이 : 1\n",
      "헤드라인의 최대 길이 : 16\n",
      "헤드라인의 평균 길이 : 9.299532330215534\n"
     ]
    },
    {
     "data": {
      "image/png": "[encoded data removed]",
      "text/plain": [
       "<Figure size 432x288 with 2 Axes>"
      ]
     },
     "metadata": {
      "needs_background": "light"
     },
     "output_type": "display_data"
    },
    {
     "data": {
      "image/png": "[encoded data removed]",
      "text/plain": [
       "<Figure size 432x288 with 1 Axes>"
      ]
     },
     "metadata": {
      "needs_background": "light"
     },
     "output_type": "display_data"
    },
    {
     "data": {
      "image/png": "[encoded data removed]",
      "text/plain": [
       "<Figure size 432x288 with 1 Axes>"
      ]
     },
     "metadata": {
      "needs_background": "light"
     },
     "output_type": "display_data"
    }
   ],
   "source": [
    "import matplotlib.pyplot as plt\n",
    "\n",
    "text_len = [len(s.split()) for s in data['text']]\n",
    "headline_len = [len(s.split()) for s in data['headlines']]\n",
    "\n",
    "print('텍스트의 최소 길이 : {}'.format(np.min(text_len)))\n",
    "print('텍스트의 최대 길이 : {}'.format(np.max(text_len)))\n",
    "print('텍스트의 평균 길이 : {}'.format(np.mean(text_len)))\n",
    "print('헤드라인의 최소 길이 : {}'.format(np.min(headline_len)))\n",
    "print('헤드라인의 최대 길이 : {}'.format(np.max(headline_len)))\n",
    "print('헤드라인의 평균 길이 : {}'.format(np.mean(headline_len)))\n",
    "\n",
    "plt.subplot(1,2,1)\n",
    "plt.boxplot(text_len)\n",
    "plt.title('Text')\n",
    "plt.subplot(1,2,2)\n",
    "plt.boxplot(headline_len)\n",
    "plt.title('headlines')\n",
    "plt.tight_layout()\n",
    "plt.show()\n",
    "\n",
    "plt.title('Text')\n",
    "plt.hist(text_len, bins = 40)\n",
    "plt.xlabel('length of samples')\n",
    "plt.ylabel('number of samples')\n",
    "plt.show()\n",
    "\n",
    "plt.title('headlines')\n",
    "plt.hist(headline_len, bins = 40)\n",
    "plt.xlabel('length of samples')\n",
    "plt.ylabel('number of samples')\n",
    "plt.show()"
   ]
  },
  {
   "cell_type": "markdown",
   "id": "sunrise-louis",
   "metadata": {},
   "source": [
    "### 샘플을 대부분 활용할 수 있도록 텍스트와 헤드라인의 최대길이를 정했습니다."
   ]
  },
  {
   "cell_type": "code",
   "execution_count": 15,
   "id": "honest-limit",
   "metadata": {},
   "outputs": [
    {
     "name": "stdout",
     "output_type": "stream",
     "text": [
      "=3\n"
     ]
    }
   ],
   "source": [
    "text_max_len = 50\n",
    "headlines_max_len = 13\n",
    "print('=3')"
   ]
  },
  {
   "cell_type": "code",
   "execution_count": 16,
   "id": "funky-location",
   "metadata": {},
   "outputs": [
    {
     "name": "stdout",
     "output_type": "stream",
     "text": [
      "=3\n"
     ]
    }
   ],
   "source": [
    "def below_threshold_len(max_len, nested_list):\n",
    "  cnt = 0\n",
    "  for s in nested_list:\n",
    "    if(len(s.split()) <= max_len):\n",
    "        cnt = cnt + 1\n",
    "  print('전체 샘플 중 길이가 %s 이하인 샘플의 비율: %s'%(max_len, (cnt / len(nested_list))))\n",
    "print('=3')"
   ]
  },
  {
   "cell_type": "code",
   "execution_count": 17,
   "id": "younger-group",
   "metadata": {
    "scrolled": true
   },
   "outputs": [
    {
     "name": "stdout",
     "output_type": "stream",
     "text": [
      "전체 샘플 중 길이가 50 이하인 샘플의 비율: 0.9998576657177715\n",
      "전체 샘플 중 길이가 13 이하인 샘플의 비율: 0.9981699877999186\n"
     ]
    }
   ],
   "source": [
    "below_threshold_len(text_max_len, data['text'])\n",
    "below_threshold_len(headlines_max_len,  data['headlines'])"
   ]
  },
  {
   "cell_type": "code",
   "execution_count": 18,
   "id": "developmental-bernard",
   "metadata": {},
   "outputs": [
    {
     "name": "stdout",
     "output_type": "stream",
     "text": [
      "전체 샘플수 : 98166\n"
     ]
    }
   ],
   "source": [
    "data = data[data['text'].apply(lambda x: len(x.split()) <= text_max_len)]\n",
    "data = data[data['headlines'].apply(lambda x: len(x.split()) <= headlines_max_len)]\n",
    "print('전체 샘플수 :', (len(data)))"
   ]
  },
  {
   "cell_type": "markdown",
   "id": "graduate-territory",
   "metadata": {},
   "source": [
    "### 시작토큰과 종료토큰 추가했습니다."
   ]
  },
  {
   "cell_type": "code",
   "execution_count": 19,
   "id": "individual-assessment",
   "metadata": {},
   "outputs": [
    {
     "data": {
      "text/html": [
       "<div>\n",
       "<style scoped>\n",
       "    .dataframe tbody tr th:only-of-type {\n",
       "        vertical-align: middle;\n",
       "    }\n",
       "\n",
       "    .dataframe tbody tr th {\n",
       "        vertical-align: top;\n",
       "    }\n",
       "\n",
       "    .dataframe thead th {\n",
       "        text-align: right;\n",
       "    }\n",
       "</style>\n",
       "<table border=\"1\" class=\"dataframe\">\n",
       "  <thead>\n",
       "    <tr style=\"text-align: right;\">\n",
       "      <th></th>\n",
       "      <th>headlines</th>\n",
       "      <th>text</th>\n",
       "      <th>decoder_input</th>\n",
       "      <th>decoder_target</th>\n",
       "    </tr>\n",
       "  </thead>\n",
       "  <tbody>\n",
       "    <tr>\n",
       "      <th>0</th>\n",
       "      <td>upgrad learner switches to career in ml al wit...</td>\n",
       "      <td>saurav kant alumnus upgrad iiit pg program mac...</td>\n",
       "      <td>sostoken upgrad learner switches to career in ...</td>\n",
       "      <td>upgrad learner switches to career in ml al wit...</td>\n",
       "    </tr>\n",
       "    <tr>\n",
       "      <th>1</th>\n",
       "      <td>delhi techie wins free food from swiggy for on...</td>\n",
       "      <td>kunal shah credit card bill payment platform c...</td>\n",
       "      <td>sostoken delhi techie wins free food from swig...</td>\n",
       "      <td>delhi techie wins free food from swiggy for on...</td>\n",
       "    </tr>\n",
       "    <tr>\n",
       "      <th>2</th>\n",
       "      <td>new zealand end rohit sharma led india match w...</td>\n",
       "      <td>new zealand defeated india wickets fourth odi ...</td>\n",
       "      <td>sostoken new zealand end rohit sharma led indi...</td>\n",
       "      <td>new zealand end rohit sharma led india match w...</td>\n",
       "    </tr>\n",
       "    <tr>\n",
       "      <th>3</th>\n",
       "      <td>aegon life iterm insurance plan helps customer...</td>\n",
       "      <td>aegon life iterm insurance plan customers enjo...</td>\n",
       "      <td>sostoken aegon life iterm insurance plan helps...</td>\n",
       "      <td>aegon life iterm insurance plan helps customer...</td>\n",
       "    </tr>\n",
       "    <tr>\n",
       "      <th>4</th>\n",
       "      <td>have known hirani for yrs what if metoo claims...</td>\n",
       "      <td>speaking sexual harassment allegations rajkuma...</td>\n",
       "      <td>sostoken have known hirani for yrs what if met...</td>\n",
       "      <td>have known hirani for yrs what if metoo claims...</td>\n",
       "    </tr>\n",
       "  </tbody>\n",
       "</table>\n",
       "</div>"
      ],
      "text/plain": [
       "                                           headlines  \\\n",
       "0  upgrad learner switches to career in ml al wit...   \n",
       "1  delhi techie wins free food from swiggy for on...   \n",
       "2  new zealand end rohit sharma led india match w...   \n",
       "3  aegon life iterm insurance plan helps customer...   \n",
       "4  have known hirani for yrs what if metoo claims...   \n",
       "\n",
       "                                                text  \\\n",
       "0  saurav kant alumnus upgrad iiit pg program mac...   \n",
       "1  kunal shah credit card bill payment platform c...   \n",
       "2  new zealand defeated india wickets fourth odi ...   \n",
       "3  aegon life iterm insurance plan customers enjo...   \n",
       "4  speaking sexual harassment allegations rajkuma...   \n",
       "\n",
       "                                       decoder_input  \\\n",
       "0  sostoken upgrad learner switches to career in ...   \n",
       "1  sostoken delhi techie wins free food from swig...   \n",
       "2  sostoken new zealand end rohit sharma led indi...   \n",
       "3  sostoken aegon life iterm insurance plan helps...   \n",
       "4  sostoken have known hirani for yrs what if met...   \n",
       "\n",
       "                                      decoder_target  \n",
       "0  upgrad learner switches to career in ml al wit...  \n",
       "1  delhi techie wins free food from swiggy for on...  \n",
       "2  new zealand end rohit sharma led india match w...  \n",
       "3  aegon life iterm insurance plan helps customer...  \n",
       "4  have known hirani for yrs what if metoo claims...  "
      ]
     },
     "execution_count": 19,
     "metadata": {},
     "output_type": "execute_result"
    }
   ],
   "source": [
    "data['decoder_input'] = data['headlines'].apply(lambda x : 'sostoken '+ x)\n",
    "data['decoder_target'] = data['headlines'].apply(lambda x : x + ' eostoken')\n",
    "data.head()"
   ]
  },
  {
   "cell_type": "code",
   "execution_count": 20,
   "id": "endangered-sheet",
   "metadata": {},
   "outputs": [
    {
     "name": "stdout",
     "output_type": "stream",
     "text": [
      "=3\n"
     ]
    }
   ],
   "source": [
    "encoder_input = np.array(data['text']) # 인코더의 입력\n",
    "decoder_input = np.array(data['decoder_input']) # 디코더의 입력\n",
    "decoder_target = np.array(data['decoder_target']) # 디코더의 레이블\n",
    "print('=3')"
   ]
  },
  {
   "cell_type": "code",
   "execution_count": 21,
   "id": "irish-religious",
   "metadata": {},
   "outputs": [
    {
     "name": "stdout",
     "output_type": "stream",
     "text": [
      "[ 1470 70412 61078 ... 39266 17777 57844]\n"
     ]
    }
   ],
   "source": [
    "indices = np.arange(encoder_input.shape[0])\n",
    "np.random.shuffle(indices)\n",
    "print(indices)"
   ]
  },
  {
   "cell_type": "code",
   "execution_count": 22,
   "id": "catholic-guess",
   "metadata": {},
   "outputs": [
    {
     "name": "stdout",
     "output_type": "stream",
     "text": [
      "=3\n"
     ]
    }
   ],
   "source": [
    "encoder_input = encoder_input[indices]\n",
    "decoder_input = decoder_input[indices]\n",
    "decoder_target = decoder_target[indices]\n",
    "print('=3')"
   ]
  },
  {
   "cell_type": "markdown",
   "id": "moral-folks",
   "metadata": {},
   "source": [
    "### 훈련데이터와 테스트데이터를 8:2로 나눴습니다."
   ]
  },
  {
   "cell_type": "code",
   "execution_count": 23,
   "id": "inappropriate-fancy",
   "metadata": {},
   "outputs": [
    {
     "name": "stdout",
     "output_type": "stream",
     "text": [
      "테스트 데이터의 수 : 19633\n"
     ]
    }
   ],
   "source": [
    "n_of_val = int(len(encoder_input)*0.2)\n",
    "print('테스트 데이터의 수 :', n_of_val)"
   ]
  },
  {
   "cell_type": "code",
   "execution_count": 24,
   "id": "constitutional-fitness",
   "metadata": {},
   "outputs": [
    {
     "name": "stdout",
     "output_type": "stream",
     "text": [
      "훈련 데이터의 개수 : 78533\n",
      "훈련 레이블의 개수 : 78533\n",
      "테스트 데이터의 개수 : 19633\n",
      "테스트 레이블의 개수 : 19633\n"
     ]
    }
   ],
   "source": [
    "encoder_input_train = encoder_input[:-n_of_val]\n",
    "decoder_input_train = decoder_input[:-n_of_val]\n",
    "decoder_target_train = decoder_target[:-n_of_val]\n",
    "\n",
    "encoder_input_test = encoder_input[-n_of_val:]\n",
    "decoder_input_test = decoder_input[-n_of_val:]\n",
    "decoder_target_test = decoder_target[-n_of_val:]\n",
    "\n",
    "print('훈련 데이터의 개수 :', len(encoder_input_train))\n",
    "print('훈련 레이블의 개수 :', len(decoder_input_train))\n",
    "print('테스트 데이터의 개수 :', len(encoder_input_test))\n",
    "print('테스트 레이블의 개수 :', len(decoder_input_test))"
   ]
  },
  {
   "cell_type": "code",
   "execution_count": 25,
   "id": "bizarre-witness",
   "metadata": {},
   "outputs": [
    {
     "name": "stdout",
     "output_type": "stream",
     "text": [
      "=3\n"
     ]
    }
   ],
   "source": [
    "src_vocab = 8000\n",
    "src_tokenizer = Tokenizer(num_words=src_vocab) # 단어 집합의 크기를 8,000으로 제한\n",
    "src_tokenizer.fit_on_texts(encoder_input_train) # 단어 집합 재생성\n",
    "print('=3')"
   ]
  },
  {
   "cell_type": "markdown",
   "id": "pediatric-nudist",
   "metadata": {},
   "source": [
    "### 단어집합을만들고 정수값을 부여했습니다."
   ]
  },
  {
   "cell_type": "code",
   "execution_count": 26,
   "id": "verbal-occasion",
   "metadata": {},
   "outputs": [
    {
     "name": "stdout",
     "output_type": "stream",
     "text": [
      "단어 집합(vocabulary)의 크기 : 69580\n",
      "등장 빈도가 6번 이하인 희귀 단어의 수: 47443\n",
      "단어 집합에서 희귀 단어를 제외시킬 경우의 단어 집합의 크기 22137\n",
      "단어 집합에서 희귀 단어의 비율: 68.18482322506468\n",
      "전체 등장 빈도에서 희귀 단어 등장 빈도 비율: 3.4965689536197413\n"
     ]
    }
   ],
   "source": [
    "threshold = 7\n",
    "total_cnt = len(src_tokenizer.word_index) # 단어의 수\n",
    "rare_cnt = 0 # 등장 빈도수가 threshold보다 작은 단어의 개수를 카운트\n",
    "total_freq = 0 # 훈련 데이터의 전체 단어 빈도수 총 합\n",
    "rare_freq = 0 # 등장 빈도수가 threshold보다 작은 단어의 등장 빈도수의 총 합\n",
    "\n",
    "# 단어와 빈도수의 쌍(pair)을 key와 value로 받는다.\n",
    "for key, value in src_tokenizer.word_counts.items():\n",
    "    total_freq = total_freq + value\n",
    "\n",
    "    # 단어의 등장 빈도수가 threshold보다 작으면\n",
    "    if(value < threshold):\n",
    "        rare_cnt = rare_cnt + 1\n",
    "        rare_freq = rare_freq + value\n",
    "\n",
    "print('단어 집합(vocabulary)의 크기 :', total_cnt)\n",
    "print('등장 빈도가 %s번 이하인 희귀 단어의 수: %s'%(threshold - 1, rare_cnt))\n",
    "print('단어 집합에서 희귀 단어를 제외시킬 경우의 단어 집합의 크기 %s'%(total_cnt - rare_cnt))\n",
    "print(\"단어 집합에서 희귀 단어의 비율:\", (rare_cnt / total_cnt)*100)\n",
    "print(\"전체 등장 빈도에서 희귀 단어 등장 빈도 비율:\", (rare_freq / total_freq)*100)"
   ]
  },
  {
   "cell_type": "code",
   "execution_count": 27,
   "id": "outdoor-monte",
   "metadata": {},
   "outputs": [
    {
     "name": "stdout",
     "output_type": "stream",
     "text": [
      "[[1780, 635, 2941, 756, 1799, 1455, 644, 1104, 4247, 3, 1269, 514, 185, 2, 7, 3175, 4646, 1158, 177, 2836, 2895, 298, 1269, 208, 1847, 67, 172, 6375, 2531, 1848], [692, 6064, 7864, 3919, 208, 496, 286, 99, 7, 184, 7, 961, 2439, 654, 3065, 1141, 286, 24, 1, 210, 30, 5814, 173, 961, 303], [66, 53, 728, 4177, 90, 1673, 1044, 922, 2369, 64, 977, 223, 62, 2776, 66, 1044, 1573, 146, 37, 5866, 1256, 1, 950, 352, 51, 1044, 41, 175, 402, 37, 23, 786]]\n"
     ]
    }
   ],
   "source": [
    "# 텍스트 시퀀스를 정수 시퀀스로 변환\n",
    "encoder_input_train = src_tokenizer.texts_to_sequences(encoder_input_train) \n",
    "encoder_input_test = src_tokenizer.texts_to_sequences(encoder_input_test)\n",
    "\n",
    "# 잘 진행되었는지 샘플 출력\n",
    "print(encoder_input_train[:3])"
   ]
  },
  {
   "cell_type": "code",
   "execution_count": 28,
   "id": "tracked-questionnaire",
   "metadata": {},
   "outputs": [
    {
     "name": "stdout",
     "output_type": "stream",
     "text": [
      "=3\n"
     ]
    }
   ],
   "source": [
    "tar_tokenizer = Tokenizer()\n",
    "tar_tokenizer.fit_on_texts(decoder_input_train)\n",
    "print('=3')"
   ]
  },
  {
   "cell_type": "code",
   "execution_count": 29,
   "id": "biblical-person",
   "metadata": {},
   "outputs": [
    {
     "name": "stdout",
     "output_type": "stream",
     "text": [
      "단어 집합(vocabulary)의 크기 : 30055\n",
      "등장 빈도가 5번 이하인 희귀 단어의 수: 19670\n",
      "단어 집합에서 희귀 단어를 제외시킬 경우의 단어 집합의 크기 10385\n",
      "단어 집합에서 희귀 단어의 비율: 65.44668108467809\n",
      "전체 등장 빈도에서 희귀 단어 등장 빈도 비율: 4.6603964021017426\n"
     ]
    }
   ],
   "source": [
    "threshold = 6\n",
    "total_cnt = len(tar_tokenizer.word_index) # 단어의 수\n",
    "rare_cnt = 0 # 등장 빈도수가 threshold보다 작은 단어의 개수를 카운트\n",
    "total_freq = 0 # 훈련 데이터의 전체 단어 빈도수 총 합\n",
    "rare_freq = 0 # 등장 빈도수가 threshold보다 작은 단어의 등장 빈도수의 총 합\n",
    "\n",
    "# 단어와 빈도수의 쌍(pair)을 key와 value로 받는다.\n",
    "for key, value in tar_tokenizer.word_counts.items():\n",
    "    total_freq = total_freq + value\n",
    "\n",
    "    # 단어의 등장 빈도수가 threshold보다 작으면\n",
    "    if(value < threshold):\n",
    "        rare_cnt = rare_cnt + 1\n",
    "        rare_freq = rare_freq + value\n",
    "\n",
    "print('단어 집합(vocabulary)의 크기 :', total_cnt)\n",
    "print('등장 빈도가 %s번 이하인 희귀 단어의 수: %s'%(threshold - 1, rare_cnt))\n",
    "print('단어 집합에서 희귀 단어를 제외시킬 경우의 단어 집합의 크기 %s'%(total_cnt - rare_cnt))\n",
    "print(\"단어 집합에서 희귀 단어의 비율:\", (rare_cnt / total_cnt)*100)\n",
    "print(\"전체 등장 빈도에서 희귀 단어 등장 빈도 비율:\", (rare_freq / total_freq)*100)"
   ]
  },
  {
   "cell_type": "markdown",
   "id": "structured-editing",
   "metadata": {},
   "source": [
    "### 등장 빈도가 6회 미만인 단어들의 집합의 크기에 따라 단어집합의 크기를 제한했습니다."
   ]
  },
  {
   "cell_type": "code",
   "execution_count": 30,
   "id": "phantom-filing",
   "metadata": {},
   "outputs": [
    {
     "name": "stdout",
     "output_type": "stream",
     "text": [
      "input\n",
      "input  [[1, 748, 777, 3, 249, 9, 45, 4, 430], [1, 4, 1009, 6, 4, 61], [1, 1131, 1348, 1543, 284, 78, 330], [1, 50, 92, 58, 258, 167, 3, 835, 176], [1, 1269, 6, 686, 387, 94, 57, 403, 7, 231]]\n",
      "target\n",
      "decoder  [[748, 777, 3, 249, 9, 45, 4, 430, 2], [4, 1009, 6, 4, 61, 2], [1131, 1348, 1543, 284, 78, 330, 2], [50, 92, 58, 258, 167, 3, 835, 176, 2], [1269, 6, 686, 387, 94, 57, 403, 7, 231, 2]]\n"
     ]
    }
   ],
   "source": [
    "tar_vocab = 2000\n",
    "tar_tokenizer = Tokenizer(num_words=tar_vocab) \n",
    "tar_tokenizer.fit_on_texts(decoder_input_train)\n",
    "tar_tokenizer.fit_on_texts(decoder_target_train)\n",
    "\n",
    "# 텍스트 시퀀스를 정수 시퀀스로 변환\n",
    "decoder_input_train = tar_tokenizer.texts_to_sequences(decoder_input_train) \n",
    "decoder_target_train = tar_tokenizer.texts_to_sequences(decoder_target_train)\n",
    "decoder_input_test = tar_tokenizer.texts_to_sequences(decoder_input_test)\n",
    "decoder_target_test = tar_tokenizer.texts_to_sequences(decoder_target_test)\n",
    "\n",
    "# 잘 변환되었는지 확인\n",
    "print('input')\n",
    "print('input ',decoder_input_train[:5])\n",
    "print('target')\n",
    "print('decoder ',decoder_target_train[:5])"
   ]
  },
  {
   "cell_type": "markdown",
   "id": "caring-polish",
   "metadata": {},
   "source": [
    "### 빈 것에대해 삭제했습니다."
   ]
  },
  {
   "cell_type": "code",
   "execution_count": 31,
   "id": "civil-villa",
   "metadata": {},
   "outputs": [
    {
     "name": "stdout",
     "output_type": "stream",
     "text": [
      "삭제할 훈련 데이터의 개수 : 12\n",
      "삭제할 테스트 데이터의 개수 : 2\n"
     ]
    },
    {
     "name": "stderr",
     "output_type": "stream",
     "text": [
      "/opt/conda/lib/python3.7/site-packages/numpy/core/_asarray.py:83: VisibleDeprecationWarning: Creating an ndarray from ragged nested sequences (which is a list-or-tuple of lists-or-tuples-or ndarrays with different lengths or shapes) is deprecated. If you meant to do this, you must specify 'dtype=object' when creating the ndarray\n",
      "  return array(a, dtype, copy=False, order=order)\n"
     ]
    },
    {
     "name": "stdout",
     "output_type": "stream",
     "text": [
      "훈련 데이터의 개수 : 78521\n",
      "훈련 레이블의 개수 : 78521\n",
      "테스트 데이터의 개수 : 19631\n",
      "테스트 레이블의 개수 : 19631\n"
     ]
    }
   ],
   "source": [
    "drop_train = [index for index, sentence in enumerate(decoder_input_train) if len(sentence) == 1]\n",
    "drop_test = [index for index, sentence in enumerate(decoder_input_test) if len(sentence) == 1]\n",
    "\n",
    "print('삭제할 훈련 데이터의 개수 :', len(drop_train))\n",
    "print('삭제할 테스트 데이터의 개수 :', len(drop_test))\n",
    "\n",
    "encoder_input_train = np.delete(encoder_input_train, drop_train, axis=0)\n",
    "decoder_input_train = np.delete(decoder_input_train, drop_train, axis=0)\n",
    "decoder_target_train = np.delete(decoder_target_train, drop_train, axis=0)\n",
    "\n",
    "encoder_input_test = np.delete(encoder_input_test, drop_test, axis=0)\n",
    "decoder_input_test = np.delete(decoder_input_test, drop_test, axis=0)\n",
    "decoder_target_test = np.delete(decoder_target_test, drop_test, axis=0)\n",
    "\n",
    "print('훈련 데이터의 개수 :', len(encoder_input_train))\n",
    "print('훈련 레이블의 개수 :', len(decoder_input_train))\n",
    "print('테스트 데이터의 개수 :', len(encoder_input_test))\n",
    "print('테스트 레이블의 개수 :', len(decoder_input_test))"
   ]
  },
  {
   "cell_type": "markdown",
   "id": "relevant-flesh",
   "metadata": {},
   "source": [
    "### LSTM기반으로 모델을 설계했으며 드랍아웃을 적용했습니다."
   ]
  },
  {
   "cell_type": "code",
   "execution_count": 32,
   "id": "needed-union",
   "metadata": {},
   "outputs": [
    {
     "name": "stdout",
     "output_type": "stream",
     "text": [
      "WARNING:tensorflow:Layer lstm will not use cuDNN kernel since it doesn't meet the cuDNN kernel criteria. It will use generic GPU kernel as fallback when running on GPU\n",
      "WARNING:tensorflow:Layer lstm_1 will not use cuDNN kernel since it doesn't meet the cuDNN kernel criteria. It will use generic GPU kernel as fallback when running on GPU\n",
      "WARNING:tensorflow:Layer lstm_2 will not use cuDNN kernel since it doesn't meet the cuDNN kernel criteria. It will use generic GPU kernel as fallback when running on GPU\n"
     ]
    }
   ],
   "source": [
    "from tensorflow.keras.layers import Input, LSTM, Embedding, Dense, Concatenate\n",
    "from tensorflow.keras.models import Model\n",
    "from tensorflow.keras.callbacks import EarlyStopping, ModelCheckpoint\n",
    "\n",
    "\n",
    "# 인코더 설계 시작\n",
    "embedding_dim = 128\n",
    "hidden_size = 256\n",
    "\n",
    "# 인코더\n",
    "encoder_inputs = Input(shape=(text_max_len,))\n",
    "\n",
    "# 인코더의 임베딩 층\n",
    "enc_emb = Embedding(src_vocab, embedding_dim)(encoder_inputs)\n",
    "\n",
    "# 인코더의 LSTM 1\n",
    "encoder_lstm1 = LSTM(hidden_size, return_sequences=True, return_state=True ,dropout = 0.4, recurrent_dropout = 0.4)\n",
    "encoder_output1, state_h1, state_c1 = encoder_lstm1(enc_emb)\n",
    "\n",
    "# 인코더의 LSTM 2\n",
    "encoder_lstm2 = LSTM(hidden_size, return_sequences=True, return_state=True, dropout=0.4, recurrent_dropout=0.4)\n",
    "encoder_output2, state_h2, state_c2 = encoder_lstm2(encoder_output1)\n",
    "\n",
    "# 인코더의 LSTM 3\n",
    "encoder_lstm3 = LSTM(hidden_size, return_state=True, return_sequences=True, dropout=0.4, recurrent_dropout=0.4)\n",
    "encoder_outputs, state_h, state_c= encoder_lstm3(encoder_output2)"
   ]
  },
  {
   "cell_type": "code",
   "execution_count": 33,
   "id": "framed-canada",
   "metadata": {},
   "outputs": [
    {
     "name": "stdout",
     "output_type": "stream",
     "text": [
      "=3\n"
     ]
    }
   ],
   "source": [
    "encoder_input_train = pad_sequences(encoder_input_train, maxlen=text_max_len, padding='post')\n",
    "encoder_input_test = pad_sequences(encoder_input_test, maxlen=text_max_len, padding='post')\n",
    "decoder_input_train = pad_sequences(decoder_input_train, maxlen=headlines_max_len, padding='post')\n",
    "decoder_target_train = pad_sequences(decoder_target_train, maxlen=headlines_max_len, padding='post')\n",
    "decoder_input_test = pad_sequences(decoder_input_test, maxlen=headlines_max_len, padding='post')\n",
    "decoder_target_test = pad_sequences(decoder_target_test, maxlen=headlines_max_len, padding='post')\n",
    "print('=3')"
   ]
  },
  {
   "cell_type": "markdown",
   "id": "extraordinary-escape",
   "metadata": {},
   "source": [
    "### 디코더를 설계했습니다."
   ]
  },
  {
   "cell_type": "code",
   "execution_count": 34,
   "id": "binding-immunology",
   "metadata": {},
   "outputs": [
    {
     "name": "stdout",
     "output_type": "stream",
     "text": [
      "WARNING:tensorflow:Layer lstm_3 will not use cuDNN kernel since it doesn't meet the cuDNN kernel criteria. It will use generic GPU kernel as fallback when running on GPU\n"
     ]
    }
   ],
   "source": [
    "# 디코더 설계\n",
    "decoder_inputs = Input(shape=(None,))\n",
    "\n",
    "# 디코더의 임베딩 층\n",
    "dec_emb_layer = Embedding(tar_vocab, embedding_dim)\n",
    "dec_emb = dec_emb_layer(decoder_inputs)\n",
    "\n",
    "# 디코더의 LSTM\n",
    "decoder_lstm = LSTM(hidden_size, return_sequences=True, return_state=True, dropout=0.4, recurrent_dropout=0.2)\n",
    "decoder_outputs, _, _ = decoder_lstm(dec_emb, initial_state=[state_h, state_c])"
   ]
  },
  {
   "cell_type": "code",
   "execution_count": 35,
   "id": "willing-warrior",
   "metadata": {},
   "outputs": [
    {
     "name": "stdout",
     "output_type": "stream",
     "text": [
      "Model: \"model\"\n",
      "__________________________________________________________________________________________________\n",
      "Layer (type)                    Output Shape         Param #     Connected to                     \n",
      "==================================================================================================\n",
      "input_1 (InputLayer)            [(None, 50)]         0                                            \n",
      "__________________________________________________________________________________________________\n",
      "embedding (Embedding)           (None, 50, 128)      1024000     input_1[0][0]                    \n",
      "__________________________________________________________________________________________________\n",
      "lstm (LSTM)                     [(None, 50, 256), (N 394240      embedding[0][0]                  \n",
      "__________________________________________________________________________________________________\n",
      "input_2 (InputLayer)            [(None, None)]       0                                            \n",
      "__________________________________________________________________________________________________\n",
      "lstm_1 (LSTM)                   [(None, 50, 256), (N 525312      lstm[0][0]                       \n",
      "__________________________________________________________________________________________________\n",
      "embedding_1 (Embedding)         (None, None, 128)    256000      input_2[0][0]                    \n",
      "__________________________________________________________________________________________________\n",
      "lstm_2 (LSTM)                   [(None, 50, 256), (N 525312      lstm_1[0][0]                     \n",
      "__________________________________________________________________________________________________\n",
      "lstm_3 (LSTM)                   [(None, None, 256),  394240      embedding_1[0][0]                \n",
      "                                                                 lstm_2[0][1]                     \n",
      "                                                                 lstm_2[0][2]                     \n",
      "__________________________________________________________________________________________________\n",
      "dense (Dense)                   (None, None, 2000)   514000      lstm_3[0][0]                     \n",
      "==================================================================================================\n",
      "Total params: 3,633,104\n",
      "Trainable params: 3,633,104\n",
      "Non-trainable params: 0\n",
      "__________________________________________________________________________________________________\n"
     ]
    }
   ],
   "source": [
    "# 디코더의 출력층\n",
    "decoder_softmax_layer = Dense(tar_vocab, activation='softmax')\n",
    "decoder_softmax_outputs = decoder_softmax_layer(decoder_outputs) \n",
    "\n",
    "# 모델 정의\n",
    "model = Model([encoder_inputs, decoder_inputs], decoder_softmax_outputs)\n",
    "model.summary()"
   ]
  },
  {
   "cell_type": "markdown",
   "id": "hairy-thesaurus",
   "metadata": {},
   "source": [
    "## Step 3 어텐션 메커니즘 사용하기(추상적 요약)"
   ]
  },
  {
   "cell_type": "markdown",
   "id": "assigned-logging",
   "metadata": {},
   "source": [
    "### 어텐션 함수를 다운받고 적용했습니다."
   ]
  },
  {
   "cell_type": "code",
   "execution_count": 36,
   "id": "right-queens",
   "metadata": {},
   "outputs": [],
   "source": [
    "urllib.request.urlretrieve(\"https://raw.githubusercontent.com/thushv89/attention_keras/master/src/layers/attention.py\", filename=\"attention.py\")\n",
    "from attention import AttentionLayer"
   ]
  },
  {
   "cell_type": "code",
   "execution_count": 37,
   "id": "operating-inflation",
   "metadata": {},
   "outputs": [
    {
     "name": "stdout",
     "output_type": "stream",
     "text": [
      "Model: \"model_1\"\n",
      "__________________________________________________________________________________________________\n",
      "Layer (type)                    Output Shape         Param #     Connected to                     \n",
      "==================================================================================================\n",
      "input_1 (InputLayer)            [(None, 50)]         0                                            \n",
      "__________________________________________________________________________________________________\n",
      "embedding (Embedding)           (None, 50, 128)      1024000     input_1[0][0]                    \n",
      "__________________________________________________________________________________________________\n",
      "lstm (LSTM)                     [(None, 50, 256), (N 394240      embedding[0][0]                  \n",
      "__________________________________________________________________________________________________\n",
      "input_2 (InputLayer)            [(None, None)]       0                                            \n",
      "__________________________________________________________________________________________________\n",
      "lstm_1 (LSTM)                   [(None, 50, 256), (N 525312      lstm[0][0]                       \n",
      "__________________________________________________________________________________________________\n",
      "embedding_1 (Embedding)         (None, None, 128)    256000      input_2[0][0]                    \n",
      "__________________________________________________________________________________________________\n",
      "lstm_2 (LSTM)                   [(None, 50, 256), (N 525312      lstm_1[0][0]                     \n",
      "__________________________________________________________________________________________________\n",
      "lstm_3 (LSTM)                   [(None, None, 256),  394240      embedding_1[0][0]                \n",
      "                                                                 lstm_2[0][1]                     \n",
      "                                                                 lstm_2[0][2]                     \n",
      "__________________________________________________________________________________________________\n",
      "attention_layer (AttentionLayer ((None, None, 256),  131328      lstm_2[0][0]                     \n",
      "                                                                 lstm_3[0][0]                     \n",
      "__________________________________________________________________________________________________\n",
      "concat_layer (Concatenate)      (None, None, 512)    0           lstm_3[0][0]                     \n",
      "                                                                 attention_layer[0][0]            \n",
      "__________________________________________________________________________________________________\n",
      "dense_1 (Dense)                 (None, None, 2000)   1026000     concat_layer[0][0]               \n",
      "==================================================================================================\n",
      "Total params: 4,276,432\n",
      "Trainable params: 4,276,432\n",
      "Non-trainable params: 0\n",
      "__________________________________________________________________________________________________\n"
     ]
    }
   ],
   "source": [
    "# 어텐션 층(어텐션 함수)\n",
    "attn_layer = AttentionLayer(name='attention_layer')\n",
    "# 인코더와 디코더의 모든 time step의 hidden state를 어텐션 층에 전달하고 결과를 리턴\n",
    "attn_out, attn_states = attn_layer([encoder_outputs, decoder_outputs])\n",
    "\n",
    "# 어텐션의 결과와 디코더의 hidden state들을 연결\n",
    "decoder_concat_input = Concatenate(axis=-1, name='concat_layer')([decoder_outputs, attn_out])\n",
    "\n",
    "# 디코더의 출력층\n",
    "decoder_softmax_layer = Dense(tar_vocab, activation='softmax')\n",
    "decoder_softmax_outputs = decoder_softmax_layer(decoder_concat_input)\n",
    "\n",
    "# 모델 정의\n",
    "model = Model([encoder_inputs, decoder_inputs], decoder_softmax_outputs)\n",
    "model.summary()"
   ]
  },
  {
   "cell_type": "markdown",
   "id": "based-communications",
   "metadata": {},
   "source": [
    "### 훈련을 시작했습니다."
   ]
  },
  {
   "cell_type": "code",
   "execution_count": 38,
   "id": "accessible-approach",
   "metadata": {
    "scrolled": true
   },
   "outputs": [
    {
     "name": "stdout",
     "output_type": "stream",
     "text": [
      "Epoch 1/50\n",
      "307/307 [==============================] - 262s 811ms/step - loss: 3.9187 - val_loss: 3.2839\n",
      "Epoch 2/50\n",
      "307/307 [==============================] - 247s 806ms/step - loss: 3.2142 - val_loss: 2.9841\n",
      "Epoch 3/50\n",
      "307/307 [==============================] - 247s 805ms/step - loss: 2.9561 - val_loss: 2.7958\n",
      "Epoch 4/50\n",
      "307/307 [==============================] - 247s 806ms/step - loss: 2.7571 - val_loss: 2.6545\n",
      "Epoch 5/50\n",
      "307/307 [==============================] - 248s 806ms/step - loss: 2.6060 - val_loss: 2.5536\n",
      "Epoch 6/50\n",
      "307/307 [==============================] - 247s 805ms/step - loss: 2.4924 - val_loss: 2.4822\n",
      "Epoch 7/50\n",
      "307/307 [==============================] - 247s 805ms/step - loss: 2.4045 - val_loss: 2.4243\n",
      "Epoch 8/50\n",
      "307/307 [==============================] - 247s 806ms/step - loss: 2.3210 - val_loss: 2.3853\n",
      "Epoch 9/50\n",
      "307/307 [==============================] - 246s 800ms/step - loss: 2.2715 - val_loss: 2.3477\n",
      "Epoch 10/50\n",
      "307/307 [==============================] - 245s 798ms/step - loss: 2.2070 - val_loss: 2.3173\n",
      "Epoch 11/50\n",
      "307/307 [==============================] - 245s 799ms/step - loss: 2.1530 - val_loss: 2.2956\n",
      "Epoch 12/50\n",
      "307/307 [==============================] - 245s 799ms/step - loss: 2.1142 - val_loss: 2.2725\n",
      "Epoch 13/50\n",
      "307/307 [==============================] - 245s 800ms/step - loss: 2.0724 - val_loss: 2.2500\n",
      "Epoch 14/50\n",
      "307/307 [==============================] - 245s 799ms/step - loss: 2.0290 - val_loss: 2.2381\n",
      "Epoch 15/50\n",
      "307/307 [==============================] - 245s 800ms/step - loss: 1.9917 - val_loss: 2.2202\n",
      "Epoch 16/50\n",
      "307/307 [==============================] - 246s 800ms/step - loss: 1.9626 - val_loss: 2.2134\n",
      "Epoch 17/50\n",
      "307/307 [==============================] - 247s 804ms/step - loss: 1.9317 - val_loss: 2.2012\n",
      "Epoch 18/50\n",
      "307/307 [==============================] - 247s 805ms/step - loss: 1.9054 - val_loss: 2.2030\n",
      "Epoch 19/50\n",
      "307/307 [==============================] - 247s 805ms/step - loss: 1.8769 - val_loss: 2.1988\n",
      "Epoch 20/50\n",
      "307/307 [==============================] - 248s 806ms/step - loss: 1.8502 - val_loss: 2.1842\n",
      "Epoch 21/50\n",
      "307/307 [==============================] - 248s 806ms/step - loss: 1.8258 - val_loss: 2.1814\n",
      "Epoch 22/50\n",
      "307/307 [==============================] - 248s 807ms/step - loss: 1.8095 - val_loss: 2.1836\n",
      "Epoch 23/50\n",
      "307/307 [==============================] - 248s 807ms/step - loss: 1.7827 - val_loss: 2.1746\n",
      "Epoch 24/50\n",
      "307/307 [==============================] - 248s 807ms/step - loss: 1.7636 - val_loss: 2.1714\n",
      "Epoch 25/50\n",
      "307/307 [==============================] - 248s 807ms/step - loss: 1.7461 - val_loss: 2.1664\n",
      "Epoch 26/50\n",
      "307/307 [==============================] - 247s 806ms/step - loss: 1.7249 - val_loss: 2.1654\n",
      "Epoch 27/50\n",
      "307/307 [==============================] - 248s 807ms/step - loss: 1.7110 - val_loss: 2.1683\n",
      "Epoch 28/50\n",
      "307/307 [==============================] - 248s 807ms/step - loss: 1.6966 - val_loss: 2.1687\n",
      "Epoch 00028: early stopping\n"
     ]
    }
   ],
   "source": [
    "model.compile(optimizer='rmsprop', loss='sparse_categorical_crossentropy')\n",
    "es = EarlyStopping(monitor='val_loss', patience=2, verbose=1)\n",
    "history = model.fit(x=[encoder_input_train, decoder_input_train], y=decoder_target_train, \\\n",
    "          validation_data=([encoder_input_test, decoder_input_test], decoder_target_test), \\\n",
    "          batch_size=256, callbacks=[es], epochs=50)"
   ]
  },
  {
   "cell_type": "code",
   "execution_count": 39,
   "id": "sustainable-minority",
   "metadata": {},
   "outputs": [
    {
     "data": {
      "image/png": "[encoded data removed]",
      "text/plain": [
       "<Figure size 432x288 with 1 Axes>"
      ]
     },
     "metadata": {
      "needs_background": "light"
     },
     "output_type": "display_data"
    }
   ],
   "source": [
    "plt.plot(history.history['loss'], label='train')\n",
    "plt.plot(history.history['val_loss'], label='test')\n",
    "plt.legend()\n",
    "plt.show()"
   ]
  },
  {
   "cell_type": "code",
   "execution_count": 40,
   "id": "disturbed-blogger",
   "metadata": {},
   "outputs": [],
   "source": [
    "src_index_to_word = src_tokenizer.index_word # 원문 단어 집합에서 정수 -> 단어를 얻음\n",
    "tar_word_to_index = tar_tokenizer.word_index # 요약 단어 집합에서 단어 -> 정수를 얻음\n",
    "tar_index_to_word = tar_tokenizer.index_word # 요약 단어 집합에서 정수 -> 단어를 얻음"
   ]
  },
  {
   "cell_type": "markdown",
   "id": "trying-joyce",
   "metadata": {},
   "source": [
    "### 인퍼런스 모델 구현했습니다."
   ]
  },
  {
   "cell_type": "code",
   "execution_count": 41,
   "id": "collect-bobby",
   "metadata": {},
   "outputs": [],
   "source": [
    "# 인코더 설계\n",
    "encoder_model = Model(inputs=encoder_inputs, outputs=[encoder_outputs, state_h, state_c])\n",
    "\n",
    "# 이전 시점의 상태들을 저장하는 텐서\n",
    "decoder_state_input_h = Input(shape=(hidden_size,))\n",
    "decoder_state_input_c = Input(shape=(hidden_size,))\n",
    "\n",
    "dec_emb2 = dec_emb_layer(decoder_inputs)\n",
    "\n",
    "# 문장의 다음 단어를 예측하기 위해서 초기 상태(initial_state)를 이전 시점의 상태로 사용. 이는 뒤의 함수 decode_sequence()에 구현\n",
    "# 훈련 과정에서와 달리 LSTM의 리턴하는 은닉 상태와 셀 상태인 state_h와 state_c를 버리지 않음.\n",
    "decoder_outputs2, state_h2, state_c2 = decoder_lstm(dec_emb2, initial_state=[decoder_state_input_h, decoder_state_input_c])"
   ]
  },
  {
   "cell_type": "code",
   "execution_count": 42,
   "id": "unavailable-heath",
   "metadata": {},
   "outputs": [],
   "source": [
    "# 어텐션 함수\n",
    "decoder_hidden_state_input = Input(shape=(text_max_len, hidden_size))\n",
    "attn_out_inf, attn_states_inf = attn_layer([decoder_hidden_state_input, decoder_outputs2])\n",
    "decoder_inf_concat = Concatenate(axis=-1, name='concat')([decoder_outputs2, attn_out_inf])\n",
    "\n",
    "# 디코더의 출력층\n",
    "decoder_outputs2 = decoder_softmax_layer(decoder_inf_concat) \n",
    "\n",
    "# 최종 디코더 모델\n",
    "decoder_model = Model(\n",
    "    [decoder_inputs] + [decoder_hidden_state_input,decoder_state_input_h, decoder_state_input_c],\n",
    "    [decoder_outputs2] + [state_h2, state_c2])"
   ]
  },
  {
   "cell_type": "code",
   "execution_count": 43,
   "id": "immediate-belfast",
   "metadata": {},
   "outputs": [],
   "source": [
    "def decode_sequence(input_seq):\n",
    "    # 입력으로부터 인코더의 상태를 얻음\n",
    "    e_out, e_h, e_c = encoder_model.predict(input_seq)\n",
    "\n",
    "     # <SOS>에 해당하는 토큰 생성\n",
    "    target_seq = np.zeros((1,1))\n",
    "    target_seq[0, 0] = tar_word_to_index['sostoken']\n",
    "\n",
    "    stop_condition = False\n",
    "    decoded_sentence = ''\n",
    "    while not stop_condition: # stop_condition이 True가 될 때까지 루프 반복\n",
    "\n",
    "        output_tokens, h, c = decoder_model.predict([target_seq] + [e_out, e_h, e_c])\n",
    "        sampled_token_index = np.argmax(output_tokens[0, -1, :])\n",
    "        sampled_token = tar_index_to_word[sampled_token_index]\n",
    "\n",
    "        if (sampled_token!='eostoken'):\n",
    "            decoded_sentence += ' '+sampled_token\n",
    "\n",
    "        #  <eos>에 도달하거나 최대 길이를 넘으면 중단.\n",
    "        if (sampled_token == 'eostoken'  or len(decoded_sentence.split()) >= (headlines_max_len-1)):\n",
    "            stop_condition = True\n",
    "\n",
    "        # 길이가 1인 타겟 시퀀스를 업데이트\n",
    "        target_seq = np.zeros((1,1))\n",
    "        target_seq[0, 0] = sampled_token_index\n",
    "\n",
    "        # 상태를 업데이트 합니다.\n",
    "        e_h, e_c = h, c\n",
    "\n",
    "    return decoded_sentence"
   ]
  },
  {
   "cell_type": "markdown",
   "id": "mature-concern",
   "metadata": {},
   "source": [
    "### 모델 테스트하기"
   ]
  },
  {
   "cell_type": "code",
   "execution_count": 44,
   "id": "stuck-violence",
   "metadata": {},
   "outputs": [],
   "source": [
    "# 원문의 정수 시퀀스를 텍스트 시퀀스로 변환\n",
    "def seq2text(input_seq):\n",
    "    temp=''\n",
    "    for i in input_seq:\n",
    "        if (i!=0):\n",
    "            temp = temp + src_index_to_word[i]+' '\n",
    "    return temp\n",
    "\n",
    "# 요약문의 정수 시퀀스를 텍스트 시퀀스로 변환\n",
    "def seq2headline(input_seq):\n",
    "    temp=''\n",
    "    for i in input_seq:\n",
    "        if ((i!=0 and i!=tar_word_to_index['sostoken']) and i!=tar_word_to_index['eostoken']):\n",
    "            temp = temp + tar_index_to_word[i] + ' '\n",
    "    return temp"
   ]
  },
  {
   "cell_type": "markdown",
   "id": "injured-characteristic",
   "metadata": {},
   "source": [
    "### 50개의 샘플을통해 실제요약과 예측요약을 살펴봤습니다."
   ]
  },
  {
   "cell_type": "code",
   "execution_count": 45,
   "id": "efficient-merit",
   "metadata": {},
   "outputs": [
    {
     "name": "stdout",
     "output_type": "stream",
     "text": [
      "원문 : pm narendra modi sunday inaugurated dedicated nation newly national police memorial newly built police museum delhi foot tall tonne heavy black sculpture wall bearing names martyred personnel also unveiled event \n",
      "실제 헤드라인 : pm modi police museum in delhi \n",
      "예측 헤드라인 :  pm modi to be built in red\n",
      "\n",
      "\n",
      "원문 : actress neha dhupia recently got married actor angad bedi thanked karan johar congratulating tweeting thank added karan hearts joy huge reason happiness neha angad tied knot traditional sikh wedding ceremony thursday \n",
      "실제 헤드라인 : you to johar on her marriage to \n",
      "예측 헤드라인 :  karan johar on johar\n",
      "\n",
      "\n",
      "원문 : th birthday monday madhya pradesh cm shivraj singh chouhan announced state government give birth child poor family adding government wants poor live comfortable life birth till death chouhan said also provided last rites poor person \n",
      "실제 헤드라인 : madhya pradesh announces on for poor \n",
      "예측 헤드라인 :  day of birth of poor govt mp cm\n",
      "\n",
      "\n",
      "원문 : european organisation nuclear research world largest particle physics laboratory inaugurated accelerator metre long machine three times powerful year old predecessor would increase potential experiments would help discover new physics study god particle said \n",
      "실제 헤드라인 : world largest gets new \n",
      "예측 헤드라인 :  world largest in\n",
      "\n",
      "\n",
      "원문 : pacer umesh yadav bowled dismiss opener test saturday umesh bowled couple short deliveries bowling attempted drive ball missed inside edge hit stump dismissing second day \n",
      "실제 헤드라인 : off off \n",
      "예측 헤드라인 :  yadav takes bowling catch\n",
      "\n",
      "\n",
      "원문 : gujarat mla dalit leader said least one lakh dalits take pledge name br ambedkar vote bjp upcoming rajasthan elections added campaign extended maharashtra pm narendra modi least provide employment unemployed rss workers added \n",
      "실제 헤드라인 : will against bjp in name guj mla \n",
      "예측 헤드라인 :  lakh people in gujarat are bjp mla\n",
      "\n",
      "\n",
      "원문 : indian student allegedly assaulted poland reported died survived attack external affairs minister sushma swaraj said asked indian ambassador poland ajay report incident comes indian national tagged minister media report regarding assault \n",
      "실제 헤드라인 : indian student attacked in swaraj seeks report \n",
      "예측 헤드라인 :  student killed in attack on pak govt\n",
      "\n",
      "\n",
      "원문 : zimbabwe president robert mugabe ignored deadline set ruling party resign post mugabe declared planned remain president party ousted leader last week gave resign monday face impeachment vote parliament \n",
      "실제 헤드라인 : prez deadline to quit faces \n",
      "예측 헤드라인 :  prez kovind quits party\n",
      "\n",
      "\n",
      "원문 : google parent alphabet looking volunteers four year long health study findings study collected health data used towards prevention diseases volunteers required sign number doctor appointments wear sleep monitor share health records \n",
      "실제 헤드라인 : google looking for people for year health study \n",
      "예측 헤드라인 :  google to find people in food\n",
      "\n",
      "\n",
      "원문 : sunil arora senior election commissioner appointed new chief election commissioner president ram nath kovind cleared appointment post year old take charge op rawat december batch ias officer rajasthan arora appointed election body september last year \n",
      "실제 헤드라인 : sunil new chief election takes charge on dec \n",
      "예측 헤드라인 :  sunil to contest elections in chief\n",
      "\n",
      "\n",
      "원문 : international police agency interpol said tonnes illicit drugs available online seized police raids carried nations interpol added arrests made across world operation xi potentially dangerous worth around million seized haul \n",
      "실제 헤드라인 : of drugs in global raids \n",
      "예측 헤드라인 :  drug waste seized in gurugram\n",
      "\n",
      "\n",
      "원문 : border roads organisation constructed world highest road construction crew faced several life threatening challenges personnel involved faced health problems like loss memory officials also informed machines declined due harsh climate less oxygen level region \n",
      "실제 헤드라인 : in what was highest road built \n",
      "예측 헤드라인 :  bsf launches highest of\n",
      "\n",
      "\n",
      "원문 : rohit sharma liked tweet said anushka sharma filled team india tweet came response picture posted bcci team india members posed indian high commission london along anushka sharma notably rohit sharma part india squad england tests \n",
      "실제 헤드라인 : rohit tweet saying anushka up his in team \n",
      "예측 헤드라인 :  rohit sharma trolls virat kohli for india\n",
      "\n",
      "\n",
      "원문 : people treatment animals named indonesian monkey sparked copyright case selfie british wildlife photographer camera person year animal rights group said monkey recognise someone something \n",
      "실제 헤드라인 : names indonesia selfie person of the year \n",
      "예측 헤드라인 :  in pictures spain\n",
      "\n",
      "\n",
      "원문 : mumbai based health tech startup co founder ceo resigned august changed business model fired nearly employees right time take time work good team said founded enables communication doctors patients separate \n",
      "실제 헤드라인 : ceo resigns after employees fired \n",
      "예측 헤드라인 :  founder quits after ceo denies\n",
      "\n",
      "\n",
      "원문 : producer nanda revealed informed alok nath wife singh alleged rape almost twenty years ago said cannot say anything stated earlier facebook post talked alleged incident wrote alok wife best friend \n",
      "실제 헤드라인 : told wife about rape she said she cannot do \n",
      "예측 헤드라인 :  did not have kathua victim on kathua rape case\n",
      "\n",
      "\n",
      "원문 : raveena tandon reacting compared malayalam actress priya prakash tweeted every generation referring old song se meanwhile priya gained popularity song especially clips seen making various facial went viral \n",
      "실제 헤드라인 : reacts to being to actress \n",
      "예측 헤드라인 :  is not on rumours of\n",
      "\n",
      "\n",
      "원문 : england midfielder accused showing middle finger referee england world cup qualifier match monday seen referee rejected appeal free kick following foul minutes time later claimed gesture joke teammate \n",
      "실제 헤드라인 : player accused of showing middle to in match \n",
      "예측 헤드라인 :  player pulls off for min during match\n",
      "\n",
      "\n",
      "원문 : us based co working space startup wework tuesday said raised billion funding japan softbank latest funding form warrant softbank pay wework billion january remaining april deal would raise wework valuation least billion according startup \n",
      "실제 헤드라인 : co working space startup raises bn from softbank \n",
      "예측 헤드라인 :  softbank may invest mn in softbank at billion valuation\n",
      "\n",
      "\n",
      "원문 : indian railways declared plans add women strength railway protection force next year sub inspector level reserved women constable level reserved women \n",
      "실제 헤드라인 : railway force posts to be for women \n",
      "예측 헤드라인 :  railways to get women to women\n",
      "\n",
      "\n",
      "원문 : reacting bjp leader remarks taj mahal west bengal cm mamata banerjee said day far away bjp try change country name history added saffron party development work making statements political agenda \n",
      "실제 헤드라인 : day not when bjp will try nation name mamata \n",
      "예측 헤드라인 :  bjp has become cm on bjp\n",
      "\n",
      "\n",
      "원문 : filmmaker shah directed films like bhi kabhi kabhi passed away age following heart attack shah national award best first film director bhi last film director movie se pm \n",
      "실제 헤드라인 : do director shah passes away at \n",
      "예측 헤드라인 :  to be at film on\n",
      "\n",
      "\n",
      "원문 : minister state electronics information technology alphons wednesday informed parliament indian websites hacked april january government websites used malware minister said security regarding potential issued period \n",
      "실제 헤드라인 : over indian hacked from april to jan \n",
      "예측 헤드라인 :  govt to union minister\n",
      "\n",
      "\n",
      "원문 : governor china central bank people bank china said country currently recognise bitcoin digital currencies tool retail payments added spread rapidly may big negative impact consumers said cryptocurrencies could also effects financial stability monetary policy \n",
      "실제 헤드라인 : crypto not china central bank \n",
      "예측 헤드라인 :  bank to buy bitcoin for china\n",
      "\n",
      "\n",
      "원문 : brad refuted claims paid child support since separation lawyers said actor million help buy new home court filing lawyers added brad paid million bills children since separation \n",
      "실제 헤드라인 : gave mn loan to to help her buy new home \n",
      "예측 헤드라인 :  denies report of mn in uae\n",
      "\n",
      "\n",
      "원문 : indian air force thursday successfully conducted first air air mission using aircraft allow jet conduct early warning control functions fly duration beyond stated ten minute flight generate additional four hours flying \n",
      "실제 헤드라인 : iaf out first air to air in jet \n",
      "예측 헤드라인 :  iaf jet to air force flying flight\n",
      "\n",
      "\n",
      "원문 : amazon stock fell around monday nearly billion market capitalisation us president donald trump slammed online retailer deliveries pricing us service last week company lost billion amid reports claiming trump amazon talked changing tax treatment \n",
      "실제 헤드라인 : amazon loses another billion as trump slams the company \n"
     ]
    },
    {
     "name": "stdout",
     "output_type": "stream",
     "text": [
      "예측 헤드라인 :  amazon loses billion in market value\n",
      "\n",
      "\n",
      "원문 : school japan adopted school uniforms designed italian fashion brand students school said aims create atmosphere suitable school uniform costs students parents criticised move saying sends wrong message expensive things good \n",
      "실제 헤드라인 : japan school worth for kids \n",
      "예측 헤드라인 :  school school students with in school\n",
      "\n",
      "\n",
      "원문 : maharashtra cabinet thursday announced crore relief farmers government also decided grant ex gratia per upper limit per farmer kitchen sold november december comes amid reports farmers selling per kg \n",
      "실제 헤드라인 : maha cabinet approves crore relief for farmers \n",
      "예측 헤드라인 :  maharashtra govt approves crore loan for farmers\n",
      "\n",
      "\n",
      "원문 : brian vice president maps uber quit ride hailing startup almost two years joining joined uber years working google moving explore politics exit follows number top level uber including president self driving technology unit head \n",
      "실제 헤드라인 : uber vice president of quits \n",
      "예측 헤드라인 :  uber ceo quits after years\n",
      "\n",
      "\n",
      "원문 : nearly us military half us worldwide threatened climate change according study us department defence based conducted military site study revealed floods triggered climate change may influence environment troops carry missions \n",
      "실제 헤드라인 : us military by climate change study \n",
      "예측 헤드라인 :  us to climate change\n",
      "\n",
      "\n",
      "원문 : rejecting around petitions regulation private school fee gujarat high court wednesday upheld gujarat self schools act aims regulate fee charged private schools act schools required submit proposals fee regulatory committee imposing hike state prescribed fee structure \n",
      "실제 헤드라인 : private school fee act hc \n",
      "예측 헤드라인 :  tn govt schools to protest schools\n",
      "\n",
      "\n",
      "원문 : actor miller seen upcoming superhero film justice league revealed told done thing coming gay would cost acting jobs think would done anything wrong though moments doubt result conversations added \n",
      "실제 헤드라인 : was told did by out as gay \n",
      "예측 헤드라인 :  do not want to be on\n",
      "\n",
      "\n",
      "원문 : two accused killing apple executive vivek tiwari taken uttar pradesh police crime spot incident brought car allowed step tiwari shot dead one constable allegedly refused stop car patrol inspection \n",
      "실제 헤드라인 : accused taken to spot to apple exec death \n",
      "예측 헤드라인 :  apple exec shot dead in police station\n",
      "\n",
      "\n",
      "원문 : dead people named voter list madhya pradesh assembly constituency letter state chief electoral officer informed election commission multiple found voter list bypolls held february ceo blamed district collector district electoral officer error \n",
      "실제 헤드라인 : over dead in mp list \n",
      "예측 헤드라인 :  who is the richest man who died in gujarat\n",
      "\n",
      "\n",
      "원문 : brihanmumbai municipal corporation approved construction three electric stray animals city environment friendly operated areas run free cost currently city one animals run ngo \n",
      "실제 헤드라인 : mumbai to get three electric \n",
      "예측 헤드라인 :  mumbai civic body to build\n",
      "\n",
      "\n",
      "원문 : youtuber named revealed rejected girlfriend proposed hidden message spider man game message placed game developers within game request however girlfriend rejected proposal saying way wanted proposed \n",
      "실제 헤드라인 : man proposes girlfriend with message in man game rejected \n",
      "예측 헤드라인 :  singer proposes to fan who fan\n",
      "\n",
      "\n",
      "원문 : cab driver delhi allegedly raped female influence alcohol later death post mortem report confirmed rape death due excessive bleeding private parts well shock notably police register fir man issue senior officials \n",
      "실제 헤드라인 : man rapes female to death in delhi \n",
      "예측 헤드라인 :  delhi driver rapes yr old girl raped by men in delhi\n",
      "\n",
      "\n",
      "원문 : flipkart announced acquisition ebay india operations raised million ebay ceo said flipkart strong close last year going winners maybe one two flipkart given natural party added \n",
      "실제 헤드라인 : why did sell its india to flipkart \n",
      "예측 헤드라인 :  flipkart to get more than ceo\n",
      "\n",
      "\n",
      "원문 : according research wealth world richest families lost money families average fortune billion increased wealth reported change notably average return generated family offices invest manage rich people came \n",
      "실제 헤드라인 : only of world richest lost money in \n",
      "예측 헤드라인 :  richest people lost wealth in wealth this year\n",
      "\n",
      "\n",
      "원문 : mumbai police registered fir unidentified mumbai man allegedly photos woman face morphed onto nude body fake facebook profile profile blocked man reportedly created another uploaded pictures man allegedly threatened take revenge woman rejected advances earlier \n",
      "실제 헤드라인 : mumbai man posts pics of woman on fake fb \n",
      "예측 헤드라인 :  mumbai police booked for fake news on fb\n",
      "\n",
      "\n",
      "원문 : talking first ever tour england brian lara said threw keys car gifted towards sat passenger seat knew roads england lara revealed delivering spirit cricket lord cricket ground london \n",
      "실제 헤드라인 : the time he driver \n",
      "예측 헤드라인 :  was stolen from car\n",
      "\n",
      "\n",
      "원문 : us president donald trump showed interior nicknamed north korean leader kim jong un summit two leaders trump kim walked towards car secret service agent opened door north korean leader inside look interior kim also brought singapore \n",
      "실제 헤드라인 : video trump shows his to kim after summit \n",
      "예측 헤드라인 :  trump kim jong un to meet kim jong un meet\n",
      "\n",
      "\n",
      "원문 : bangkok police investigating reports two men posing thai air scam men sending money one victim claims sent air hostess asked loan whose photos used said charged fraud despite involved scam \n",
      "실제 헤드라인 : act as women on to men into giving cash \n",
      "예측 헤드라인 :  men held for money to air india\n",
      "\n",
      "\n",
      "원문 : marriage interrupted man pushed aside elder brother tied around year old bride neck two dating visited elder brother marriage younger brother beaten elder brother remains missing bride refused marry anyone else \n",
      "실제 헤드라인 : man away brother his at last \n",
      "예측 헤드라인 :  couple brother in law brother in\n",
      "\n",
      "\n",
      "원문 : actor aamir khan revealed salman khan class year second standard talking first time met salman officially aamir added director aditya bhattacharya house know aamir said years old time \n",
      "실제 헤드라인 : salman and were in the same class for year aamir khan \n",
      "예측 헤드라인 :  aamir is aamir on aamir\n",
      "\n",
      "\n",
      "원문 : electric company tesla ceo elon musk tuesday tweeted considering taking tesla private funding secured share price suggested musk buying outstanding shares company around higher share current price tweet pushed tesla shares higher \n",
      "실제 헤드라인 : tesla ceo elon musk says he is taking tesla private \n",
      "예측 헤드라인 :  tesla is the price of tesla\n",
      "\n",
      "\n",
      "원문 : candidates seeking election indian presidential elections deposit sum filing nomination papers candidates allowed make payments cheque according reports presidential elections scheduled held july counting votes july \n",
      "실제 헤드라인 : no card only hard cash for presidential poll \n",
      "예측 헤드라인 :  candidates to contest polls in polls\n",
      "\n",
      "\n",
      "원문 : telangana rashtra tuesday member telangana assembly elections set secure second straight term youngest state india seats telangana far congress second position seats chief chandrashekar rao constituency votes \n",
      "실제 헤드라인 : set for nd straight term in telangana \n",
      "예측 헤드라인 :  telangana telangana assembly wins telangana elections\n",
      "\n",
      "\n",
      "원문 : extending support andhra pradesh leaders demanding special category status state congress president rahul gandhi tuesday said party fulfil demand voted power general elections ruling tdp part bjp led nda alliance also protesting centre alleging andhra pradesh \n",
      "실제 헤드라인 : will give special status to andhra if to power rahul \n",
      "예측 헤드라인 :  rahul to be in andhra pradesh govt\n",
      "\n",
      "\n"
     ]
    }
   ],
   "source": [
    "for i in range(50, 100):\n",
    "    print(\"원문 :\", seq2text(encoder_input_test[i]))\n",
    "    print(\"실제 헤드라인 :\", seq2headline(decoder_input_test[i]))\n",
    "    print(\"예측 헤드라인 :\", decode_sequence(encoder_input_test[i].reshape(1, text_max_len)))\n",
    "    print(\"\\n\")"
   ]
  },
  {
   "cell_type": "markdown",
   "id": "academic-candidate",
   "metadata": {},
   "source": [
    "### Step5 Summa을 이용해서 추출적 요약 적용하기"
   ]
  },
  {
   "cell_type": "code",
   "execution_count": 48,
   "id": "fatal-occasion",
   "metadata": {},
   "outputs": [],
   "source": [
    "urllib.request.urlretrieve(\"https://raw.githubusercontent.com/sunnysai12345/News_Summary/master/news_summary_more.csv\", filename=\"news_summary_more.csv\")\n",
    "data = pd.read_csv('news_summary_more.csv', encoding='iso-8859-1')"
   ]
  },
  {
   "cell_type": "code",
   "execution_count": 51,
   "id": "sporting-stereo",
   "metadata": {},
   "outputs": [
    {
     "data": {
      "text/html": [
       "<div>\n",
       "<style scoped>\n",
       "    .dataframe tbody tr th:only-of-type {\n",
       "        vertical-align: middle;\n",
       "    }\n",
       "\n",
       "    .dataframe tbody tr th {\n",
       "        vertical-align: top;\n",
       "    }\n",
       "\n",
       "    .dataframe thead th {\n",
       "        text-align: right;\n",
       "    }\n",
       "</style>\n",
       "<table border=\"1\" class=\"dataframe\">\n",
       "  <thead>\n",
       "    <tr style=\"text-align: right;\">\n",
       "      <th></th>\n",
       "      <th>headlines</th>\n",
       "      <th>text</th>\n",
       "    </tr>\n",
       "  </thead>\n",
       "  <tbody>\n",
       "    <tr>\n",
       "      <th>0</th>\n",
       "      <td>upGrad learner switches to career in ML &amp; Al w...</td>\n",
       "      <td>Saurav Kant, an alumnus of upGrad and IIIT-B's...</td>\n",
       "    </tr>\n",
       "    <tr>\n",
       "      <th>1</th>\n",
       "      <td>Delhi techie wins free food from Swiggy for on...</td>\n",
       "      <td>Kunal Shah's credit card bill payment platform...</td>\n",
       "    </tr>\n",
       "    <tr>\n",
       "      <th>2</th>\n",
       "      <td>New Zealand end Rohit Sharma-led India's 12-ma...</td>\n",
       "      <td>New Zealand defeated India by 8 wickets in the...</td>\n",
       "    </tr>\n",
       "    <tr>\n",
       "      <th>3</th>\n",
       "      <td>Aegon life iTerm insurance plan helps customer...</td>\n",
       "      <td>With Aegon Life iTerm Insurance plan, customer...</td>\n",
       "    </tr>\n",
       "    <tr>\n",
       "      <th>4</th>\n",
       "      <td>Have known Hirani for yrs, what if MeToo claim...</td>\n",
       "      <td>Speaking about the sexual harassment allegatio...</td>\n",
       "    </tr>\n",
       "  </tbody>\n",
       "</table>\n",
       "</div>"
      ],
      "text/plain": [
       "                                           headlines  \\\n",
       "0  upGrad learner switches to career in ML & Al w...   \n",
       "1  Delhi techie wins free food from Swiggy for on...   \n",
       "2  New Zealand end Rohit Sharma-led India's 12-ma...   \n",
       "3  Aegon life iTerm insurance plan helps customer...   \n",
       "4  Have known Hirani for yrs, what if MeToo claim...   \n",
       "\n",
       "                                                text  \n",
       "0  Saurav Kant, an alumnus of upGrad and IIIT-B's...  \n",
       "1  Kunal Shah's credit card bill payment platform...  \n",
       "2  New Zealand defeated India by 8 wickets in the...  \n",
       "3  With Aegon Life iTerm Insurance plan, customer...  \n",
       "4  Speaking about the sexual harassment allegatio...  "
      ]
     },
     "execution_count": 51,
     "metadata": {},
     "output_type": "execute_result"
    }
   ],
   "source": [
    "data.head()"
   ]
  },
  {
   "cell_type": "code",
   "execution_count": 52,
   "id": "experimental-roommate",
   "metadata": {},
   "outputs": [],
   "source": [
    "from summa.summarizer import summarize"
   ]
  },
  {
   "cell_type": "code",
   "execution_count": 58,
   "id": "mounted-soldier",
   "metadata": {},
   "outputs": [
    {
     "name": "stdout",
     "output_type": "stream",
     "text": [
      "Summary 51\n",
      "원문 :  Former Finance Minister Yashwant Sinha on Tuesday demanded a probe into the alleged diversion of loans worth Ã¢ÂÂ¹31,000 crore by Dewan Housing Finance (DHFL). All agencies including regulators of the government have failed to track nefarious deals, he said. This comes after a media report on Tuesday accused DHFL's controlling shareholders of diverting funds to shell companies to buy assets.\n",
      "요약 :  Yashwant Sinha demands probe into alleged fund diversion by DHFL\n",
      "추출적 요약 :  Former Finance Minister Yashwant Sinha on Tuesday demanded a probe into the alleged diversion of loans worth Ã¢ÂÂ¹31,000 crore by Dewan Housing Finance (DHFL).\n",
      "\n",
      "\n",
      "Summary 52\n",
      "원문 :  US-based Boeing on Wednesday reported annual sales worth $101.12 billion in 2018, the first time the planemaker's sales crossed the $100-billion mark in its 102-year history. The company said it expects to deliver between 895 and 905 commercial aircraft in 2019. Boeing retained its position as the world's largest planemaker for the seventh straight year, delivering 806 aircraft in 2018. \n",
      "요약 :  Boeing sales cross $100bn for 1st time in its 102-yr history\n",
      "추출적 요약 :  Boeing retained its position as the world's largest planemaker for the seventh straight year, delivering 806 aircraft in 2018.\n",
      "\n",
      "\n",
      "Summary 53\n",
      "원문 :  text\n",
      "요약 :  headlines\n",
      "추출적 요약 :  \n",
      "\n",
      "\n",
      "Summary 54\n",
      "원문 :  OnePlus has emerged as India's best-selling premium smartphone brand of 2018, as per a report by Counterpoint. It captured 36% of the market share in the premium segment, in Q4 2018. Further, its OnePlus 6 emerged as the highest selling premium smartphone of 2018 followed by OnePlus 6T.\n",
      "요약 :  OnePlus named bestselling premium smartphone brand of 2018: Report\n",
      "추출적 요약 :  Further, its OnePlus 6 emerged as the highest selling premium smartphone of 2018 followed by OnePlus 6T.\n",
      "\n",
      "\n",
      "Summary 55\n",
      "원문 :  Filmmaker Pooja Bhatt, while talking about the presentation of women in her films, said, \"I can never look at a female body, even if it's naked, in a vulgar manner.\" \"Our audience can say...the women in my films are bold or sensual, but never ever vulgar,\" she added. Pooja further said her censor board is her \"own heart and mind\".\n",
      "요약 :  Can never look at female body, even if naked, in vulgar way: Pooja\n",
      "추출적 요약 :  \n",
      "\n",
      "\n",
      "Summary 56\n",
      "원문 :  Actress Mishti, who has featured in 'Manikarnika: The Queen of Jhansi', has said the film's co-director Kangana Ranaut made false promises to the cast. \"Kangana had said, 'I want dates because all characters look jumbled up...I'm trying my best to give everybody a prominent space on screen.' After watching the movie, there is no scope for other characters,\" Mishti added. \n",
      "요약 :  Kangana made fake promises to cast: 'Manikarnika' actress Mishti\n",
      "추출적 요약 :  Actress Mishti, who has featured in 'Manikarnika: The Queen of Jhansi', has said the film's co-director Kangana Ranaut made false promises to the cast.\n",
      "\n",
      "\n",
      "Summary 57\n",
      "원문 :  The high-powered committee led by PM Narendra Modi to select the next CBI Director will meet again on February 1, Congress leader Mallikarjun Kharge has said. The panel consisting of Kharge and Chief Justice of India Ranjan Gogoi met on January 24, but the meeting ended \"inconclusively\" after Kharge cited lack of details in the list of 80 IPS officers. \n",
      "요약 :  PM-led panel to meet on Friday to pick new CBI chief: Kharge\n",
      "추출적 요약 :  The high-powered committee led by PM Narendra Modi to select the next CBI Director will meet again on February 1, Congress leader Mallikarjun Kharge has said.\n",
      "\n",
      "\n",
      "Summary 58\n",
      "원문 :  Nevada State Athletic Commission has banned MMA fighters Conor McGregor and Khabib Nurmagomedov for six months and nine months respectively over their roles in the mass brawl that occurred after their fight at UFC 229 last October. McGregor and Khabib have been fined $50,000 (Ã¢ÂÂ¹35 lakh) and $500,000 (Ã¢ÂÂ¹3.5 crore) respectively. The brawl occurred after Nurmagomedov confronted McGregor's teammate.\n",
      "요약 :  McGregor fined Ã¢ÂÂ¹35 lakh, Khabib Ã¢ÂÂ¹3.5 crore for brawl; both banned\n",
      "추출적 요약 :  \n",
      "\n",
      "\n",
      "Summary 59\n",
      "원문 :  Pakistan captain Sarfaraz Ahmed, who has been banned for four matches over racist remarks, took an apparent dig at his critics by sharing a video of a child reciting 'log hai na' poem on Twitter. \"Pyaar karna hai to khud se kar...dushmani karne ke liye log hai na,\" the poem read. \"This is how the world is,\" Sarfaraz wrote.\n",
      "요약 :  Banned for 4 matches, Sarfaraz shares 'log hai na' poem for critics\n",
      "추출적 요약 :  \n",
      "\n",
      "\n",
      "Summary 60\n",
      "원문 :  Banned cricketer Sreesanth has told Supreme Court he initially confessed to Delhi Police about his alleged involvement in 2013 IPL spot-fixing scandal to escape continuous police torture. Sreesanth further said the bookie tried dragging him into spot-fixing but he didn't fall for it. Citing Sreesanth not informing BCCI about fixing approach, the apex court said Sreesanth's conduct \"wasn't good\".\n",
      "요약 :  Confessed to spot-fixing to escape police torture: Sreesanth to SC\n",
      "추출적 요약 :  Sreesanth further said the bookie tried dragging him into spot-fixing but he didn't fall for it.\n",
      "\n",
      "\n",
      "Summary 61\n",
      "원문 :  The Finance Ministry on Wednesday said the government will present an Interim Budget on February 1. The clarification came amid speculations that a full Budget may be presented during the session. The government recently assigned Piyush Goyal temporary additional charge of the Finance and Corporate Affairs ministries in the absence of Arun Jaitley, who is in the US for treatment.\n",
      "요약 :  Govt to present Interim Budget, not full Budget on February 1\n",
      "추출적 요약 :  The Finance Ministry on Wednesday said the government will present an Interim Budget on February 1.\n",
      "\n",
      "\n",
      "Summary 62\n",
      "원문 :  US President Donald Trump on Wednesday called his country's top intelligence chiefs \"naive\" and \"wrong\" on Iran and added that they should perhaps \"go back to school\". Trump claimed Iran is testing rockets, calling the country \"a source of potential danger and conflict\". Top US intelligence officials on Tuesday said that Iran isn't currently taking steps towards building nuclear weapons.\n",
      "요약 :  US intelligence naive and wrong, should go back to school: Trump\n",
      "추출적 요약 :  US President Donald Trump on Wednesday called his country's top intelligence chiefs \"naive\" and \"wrong\" on Iran and added that they should perhaps \"go back to school\".\n",
      "\n",
      "\n",
      "Summary 63\n",
      "원문 :  A senior priest at the Vatican who handled cases of sexual abuse has quit after being accused of sexual abuse by a former nun. The accused priest claimed he is innocent and said he would consider taking legal action. The Vatican said in a statement that a Church investigation of the case was underway.\n",
      "요약 :  Vatican priest handling sex abuse cases quits over alleged sex abuse\n",
      "추출적 요약 :  A senior priest at the Vatican who handled cases of sexual abuse has quit after being accused of sexual abuse by a former nun.\n",
      "\n",
      "\n",
      "Summary 64\n",
      "원문 :  A 22-year-old writer turned down a job offer, claiming she was bullied to the point of tears during her two-hour interview by a UK company's CEO. Olivia Bland added the \"brutal\" interview brought back painful memories of her abusive relationship. \"I am so sorry that anyone has been hurt, it is never my intent,\" Web Applications CEO Craig Dean replied. \n",
      "요약 :  Woman rejects job after CEO bullies her in interview; he apologises\n",
      "추출적 요약 :  A 22-year-old writer turned down a job offer, claiming she was bullied to the point of tears during her two-hour interview by a UK company's CEO.\n",
      "\n",
      "\n",
      "Summary 65\n",
      "원문 :  Noida Police has arrested Sector 20 station in-charge Manoj Pant and three journalists for allegedly extorting money from a call centre owner for removing his name from an FIR. The four were caught while taking bribe money of Ã¢ÂÂ¹8 lakh, police said. Pant was the lead investigator in the Paytm extortion case involving Founder Vijay Shekhar Sharma's secretary Sonia Dhawan.\n",
      "요약 :  Police officer probing Paytm extortion case arrested for extortion\n",
      "추출적 요약 :  Noida Police has arrested Sector 20 station in-charge Manoj Pant and three journalists for allegedly extorting money from a call centre owner for removing his name from an FIR.\n",
      "\n",
      "\n",
      "Summary 66\n",
      "원문 :  Airtel on Wednesday said that Qatar's sovereign wealth fund Qatar Investment Authority will invest $200 million through a primary equity issuance in Airtel Africa. India's second-largest telecom operator's Africa unit recently raised $1.25 billion from six investors. Airtel Africa, the holding company for Airtel's operations in 14 African countries, is preparing for an initial public offering.\n",
      "요약 :  Qatar to invest $200 million in Airtel Africa\n",
      "추출적 요약 :  Airtel Africa, the holding company for Airtel's operations in 14 African countries, is preparing for an initial public offering.\n",
      "\n",
      "\n",
      "Summary 67\n",
      "원문 :  Actor Shreyas Talpade said that 'Golmaal' filmmaker Rohit Shetty is still working on the script for the fifth instalment of the 'Golmaal' film franchise. \"He was telling us the other day that he...cracked some story. Once he's done with the...scripting, he'll take a call,Ã¢ÂÂ the actor added. The series features Shreyas along with Ajay Devgn, Arshad Warsi and Tusshar Kapoor.\n",
      "요약 :  Rohit Shetty still working on script for Golmaal 5: Shreyas\n",
      "추출적 요약 :  Actor Shreyas Talpade said that 'Golmaal' filmmaker Rohit Shetty is still working on the script for the fifth instalment of the 'Golmaal' film franchise.\n",
      "\n",
      "\n",
      "Summary 68\n",
      "원문 :  A 72-year-old man named Terry Sanderson has sued 'Avengers' actress Gwyneth Paltrow for allegedly crashing into him while skiing, and is seeking $3.1 million (over Ã¢ÂÂ¹22 crore) in damages. The lawsuit states the actress got up and skied away after knocking the man down, leaving him with broken ribs. The incident reportedly took place in 2016 in Utah, US. \n",
      "요약 :  Man sues Avengers actress Gwyneth for Ã¢ÂÂ¹22 crore over ski crash\n",
      "추출적 요약 :  A 72-year-old man named Terry Sanderson has sued 'Avengers' actress Gwyneth Paltrow for allegedly crashing into him while skiing, and is seeking $3.1 million (over Ã¢ÂÂ¹22 crore) in damages.\n",
      "\n",
      "\n",
      "Summary 69\n",
      "원문 :  Yami Gautam was felicitated by Border Security Force (BSF) in Amritsar for her performance in 'Uri: The Surgical Strike'. \"BSF is the first line of defence of our country and it gives me...pride to have met them,\" Yami said. The film, which also stars Vicky Kaushal, is based on the Indian Army's surgical strike operation which took place in 2016.\n",
      "요약 :  Yami Gautam felicitated by BSF for performance in 'Uri...'\n",
      "추출적 요약 :  Yami Gautam was felicitated by Border Security Force (BSF) in Amritsar for her performance in 'Uri: The Surgical Strike'.\n",
      "\n",
      "\n",
      "Summary 70\n",
      "원문 :  Social media giant Facebook has hired privacy critic Nate Cardozo, formerly the top legal counsel for US privacy watchdog EFF, as a privacy policy manager for WhatsApp. Cardozo had called Facebook a \"faceless corporation\" whose business model depends on user's confusion and indifference about privacy, in October 2015. Facebook has also hired attorney Robyn Greene as its privacy policy manager.\n",
      "요약 :  Facebook hires its privacy critic as privacy policy manager\n",
      "추출적 요약 :  \n",
      "\n",
      "\n",
      "Summary 71\n",
      "원문 :  Apple CEO Tim Cook said the company plans to lower some iPhones' prices in markets with currencies that weakened against the US dollar in the past year. \"WeÃ¢ÂÂve decided to go back to (iPhone prices) more commensurate with...local prices...a year ago,\" Cook added. The price cuts, in hopes of increasing sales, are reportedly occurring for second time in 12 years.\n",
      "요약 :  Apple to cut some iPhones' prices outside US over strong dollar\n",
      "추출적 요약 :  \"WeÃ¢ÂÂve decided to go back to (iPhone prices) more commensurate with...local prices...a year ago,\" Cook added.\n",
      "\n",
      "\n",
      "Summary 72\n",
      "원문 :  Scientists in Australia's Flinders University are testing a wetsuit prototype that could protect its wearer after a shark attack. The suit, made of synthetic material similar to the material used in bulletproof vests, could help reduce blood loss after a shark attack. \"The majority of fatalities from shark bites is due to blood loss...shock from blood loss,\" a scientist said.\n",
      "요약 :  Scientists test wetsuit to protect wearer after shark attack\n",
      "추출적 요약 :  \"The majority of fatalities from shark bites is due to blood loss...shock from blood loss,\" a scientist said.\n",
      "\n",
      "\n",
      "Summary 73\n",
      "원문 :  BJP National Secretary Rahul Sinha on Wednesday asked the party workers in West Bengal to come armed with sticks to PM Narendra Modi's rally in the state on February 2. His statement came a day after clashes broke out following BJP chief Amit Shah's WB rally. Sinha added the TMC is indulged in violence as they're afraid of BJP's strength.\n",
      "요약 :  Come armed with sticks for PM Modi's rally in WB: BJP leader\n",
      "추출적 요약 :  BJP National Secretary Rahul Sinha on Wednesday asked the party workers in West Bengal to come armed with sticks to PM Narendra Modi's rally in the state on February 2.\n",
      "\n",
      "\n",
      "Summary 74\n",
      "원문 :  BJP President Amit Shah on Wednesday took a dig at the Opposition parties saying that the 'mahagathbandhan' for the Opposition is 4B - \"Bua-Bhatija-Bhai-Behen\". He added that 4B for the BJP meant \"Badhta Bharat, Banta Bharat\". He said Opposition's government cannot take the country ahead and \"only Modiji can provide a 'mazboot' (strong) government\".\n",
      "요약 :  '4B' for Opposition is 'Bua-Bhatija-Bhai-Behen': Amit Shah\n",
      "추출적 요약 :  BJP President Amit Shah on Wednesday took a dig at the Opposition parties saying that the 'mahagathbandhan' for the Opposition is 4B - \"Bua-Bhatija-Bhai-Behen\".\n",
      "\n",
      "\n",
      "Summary 75\n",
      "원문 :  German automaker Volkswagen Group has retained the car industry's top spot in global sales, beating its Japanese rival Toyota. Volkswagen's sales, including its MAN and Scania heavy trucks and buses, rose 0.9% to 10.83 million in 2018, the company had said. Toyota came second with around 10.6 million deliveries, including its affiliated brands Daihatsu and Hino, in 2018.\n",
      "요약 :  Volkswagen retains top spot in global sales, beats Toyota\n",
      "추출적 요약 :  Volkswagen's sales, including its MAN and Scania heavy trucks and buses, rose 0.9% to 10.83 million in 2018, the company had said.\n",
      "\n",
      "\n",
      "Summary 76\n",
      "원문 :  Ousted Nissan Chairman Carlos Ghosn has said his arrest over alleged financial misconduct was led by \"plot and treason\" by the Japanese carmaker's executives who opposed its deeper integration with Renault and Mitsubishi. Ghosn added he had discussed the integration plans with Nissan's CEO in September, a month before his arrest. He further said he wouldn't flee if granted bail.\n",
      "요약 :  Plot, treason by Nissan executives led to my arrest: Ghosn\n",
      "추출적 요약 :  \n",
      "\n",
      "\n",
      "Summary 77\n",
      "원문 :  The government has cut down customs duty on import of parts and components for electric vehicles to 10-15%, down from the previous 15-30%. The Central Board of Indirect Taxes and Customs said disassembled parts will attract 10% duty, whereas 15% will be levied on pre-assembled packs. However, fully built electric vehicles will continue to attract 25% import duty.\n",
      "요약 :  Govt cuts customs duty on electric vehicle parts to 10-15%\n",
      "추출적 요약 :  The government has cut down customs duty on import of parts and components for electric vehicles to 10-15%, down from the previous 15-30%.\n",
      "\n",
      "\n",
      "Summary 78\n",
      "원문 :  Government officials on Wednesday said that a swine flu outbreak has killed 76 people this year in Rajasthan. Colder weather has worsened the seasonal outbreak of the H1N1 virus in the country, officials added. Rajasthan recorded more than a third of all swine flu deaths in India with Jodhpur being the worst affected area in the state, officials said.\n",
      "요약 :  Swine flu outbreak kills 76 in Rajasthan\n",
      "추출적 요약 :  Government officials on Wednesday said that a swine flu outbreak has killed 76 people this year in Rajasthan.\n",
      "\n",
      "\n",
      "Summary 79\n",
      "원문 :  North Korea is \"unlikely to completely give up its nuclear weapons and production capabilities\", Director of US' National Intelligence, Daniel Coats, said. \"North Korean leaders view nuclear arms as critical to regime survival,\" he added. His statements come despite North Korea's agreement with the US at the Singapore summit last year to denuclearise the Korean Peninsula. \n",
      "요약 :  N Korea unlikely to give up nuclear weapons: US intelligence chief\n",
      "추출적 요약 :  \"North Korean leaders view nuclear arms as critical to regime survival,\" he added.\n",
      "\n",
      "\n",
      "Summary 80\n",
      "원문 :  Jet Airways on Wednesday denied it was directed by GE Capital Aviation Services to ground its aircraft due to non-payment of dues. The airline said it's in the process of delivering three aircraft to lessors due to the expiry of lease terms. Further, three aircraft have been temporarily grounded to carry out an engine normalisation exercise, it added.\n",
      "요약 :  Jet Airways denies being told to ground aircraft\n",
      "추출적 요약 :  Further, three aircraft have been temporarily grounded to carry out an engine normalisation exercise, it added.\n",
      "\n",
      "\n",
      "Summary 81\n",
      "원문 :  Retired Justice Srikrishna's enquiry panel has found that ex-CEO Chanda Kochhar violated ICICI Bank's code of conduct. The bank said it'll treat Kochhar's exit as termination and will take back all bonuses paid to her from April 2009 until March 2018. The CBI recently filed a case against Kochhar, her husband, and Videocon MD in the ICICI-Videocon loan case.\n",
      "요약 :  ICICI fires Chanda Kochhar, to take back bonuses paid in last 9 yrs\n",
      "추출적 요약 :  Retired Justice Srikrishna's enquiry panel has found that ex-CEO Chanda Kochhar violated ICICI Bank's code of conduct.\n",
      "\n",
      "\n",
      "Summary 82\n",
      "원문 :  Ex-India cricketer Jacob Martin has been shifted to general ward from the ICU after being on a ventilator for nearly a month following a road accident, wherein he severely injured his lungs. Martin's wife Khyati mentioned there are chances that Jacob will be in hospital for two more months. BCCI, CSK and various cricketers provided financial assistance for Martin's treatment.\n",
      "요약 :  Ex-cricketer Martin out of ICU after being on ventilator for a month\n",
      "추출적 요약 :  Ex-India cricketer Jacob Martin has been shifted to general ward from the ICU after being on a ventilator for nearly a month following a road accident, wherein he severely injured his lungs.\n",
      "\n",
      "\n",
      "Summary 83\n",
      "원문 :  Sri Lanka all-rounder Thisara Perera has written to Sri Lanka Cricket CEO Ashley de Silva, asking the board to intervene after ODI captain Lasith Malinga's wife Tanya targeted him on Facebook. Tanya accused Perera of meeting country's Sports Minister to secure his place in the team. \"We've become laughing stock of whole country...because of one person's personal vendetta,\" Perera wrote.\n",
      "요약 :  Malinga's wife targets Perera on Facebook, he seeks board's help\n",
      "추출적 요약 :  Tanya accused Perera of meeting country's Sports Minister to secure his place in the team.\n",
      "\n",
      "\n",
      "Summary 84\n",
      "원문 :  Goa CM and ex-Defence Minister Manohar Parrikar has written a letter to Congress President Rahul Gandhi over his claim that Parrikar told him he has nothing to do with new Rafale deal. Parrikar wrote, \"Kindly do not use your visit to an ailing person to feed political opportunism.\" In their five-minute meeting, they didn't discuss anything about Rafale, he added.\n",
      "요약 :  Don't use visit to ailing man for political gains: Goa CM to Rahul\n",
      "추출적 요약 :  Goa CM and ex-Defence Minister Manohar Parrikar has written a letter to Congress President Rahul Gandhi over his claim that Parrikar told him he has nothing to do with new Rafale deal.\n",
      "\n",
      "\n",
      "Summary 85\n",
      "원문 :  Prime Minister Narendra Modi stopped his speech at the inauguration of the new terminal building at Surat airport after observing that a cameraman had fainted. PM Modi then asked his officers to urgently arrange for an ambulance for the cameraman. \"It's good that PM was paying attention to his surroundings during his speech,\" the cameraman later said from a hospital. \n",
      "요약 :  PM Modi stops speech after cameraman faints, asks officers to help\n",
      "추출적 요약 :  PM Modi then asked his officers to urgently arrange for an ambulance for the cameraman.\n",
      "\n",
      "\n",
      "Summary 86\n",
      "원문 :  A couple got divorced minutes after their wedding ceremony got over in Gujarat's Gondal as a disagreement broke out and relatives from both sides started throwing dishes at each other during lunch. The advocates representing both sides arrived at the marriage hall and got the couple divorced within minutes. The couple even reportedly returned the gifts exchanged during the ceremony.\n",
      "요약 :  Couple divorces minutes after marriage as families fight over lunch\n",
      "추출적 요약 :  A couple got divorced minutes after their wedding ceremony got over in Gujarat's Gondal as a disagreement broke out and relatives from both sides started throwing dishes at each other during lunch.\n",
      "\n",
      "\n",
      "Summary 87\n",
      "원문 :  Gujarat Education Minister Bhupendrasinh Chudasma has written a congratulatory message to a yoga ashram run by rape-convict Asaram's organisation for observing February 14 as \"Matru-Pitru Pujan Divas\" (Mother-Father worship day). After the Congress termed the letter as \"unfortunate\", saying it \"shows the nexus between BJP and godman\", Chudasma clarified, \"All I have done is sent best wishes.\" \n",
      "요약 :  Minister praises rape-convict Asaram over Matru-Pitru Divas\n",
      "추출적 요약 :  Gujarat Education Minister Bhupendrasinh Chudasma has written a congratulatory message to a yoga ashram run by rape-convict Asaram's organisation for observing February 14 as \"Matru-Pitru Pujan Divas\" (Mother-Father worship day).\n",
      "\n",
      "\n",
      "Summary 88\n",
      "원문 :  Venezuelan President NicolÃÂ¡s Maduro has claimed that his American counterpart Donald Trump ordered the Colombian government and the Colombian mafia to kill him. \"If something happens to me, Trump and Colombian President IvÃÂ¡n MÃÂ¡rquez will bear responsibility,\" he added. The US has blamed Maduro for the economic crisis in Venezuela and recognised opposition leader Juan GuaidÃÂ³ as interim President.\n",
      "요약 :  Trump ordered to kill me: Venezuela President Maduro\n",
      "추출적 요약 :  Venezuelan President NicolÃÂ¡s Maduro has claimed that his American counterpart Donald Trump ordered the Colombian government and the Colombian mafia to kill him.\n",
      "\n",
      "\n",
      "Summary 89\n",
      "원문 :  Eight Asian billionaires aged 90 or above on the Bloomberg Billionaires Index of world's 500 richest people have a combined net worth of $125 billion. The richest among them is Hong Kong's Li Ka Shing with a net worth of $30.5 billion. India's 90-year-old Pallonji Mistry, who controls 18.3% of Tata Sons through Shapoorji Pallonji Group, is worth $20.1 billion.\n",
      "요약 :  8 Asian billionaires aged over 90, including Mistry, control $125bn\n",
      "추출적 요약 :  The richest among them is Hong Kong's Li Ka Shing with a net worth of $30.5 billion.\n",
      "\n",
      "\n",
      "Summary 90\n",
      "원문 :  Tamil Nadu food safety officials on Wednesday raided and seized 1,000 kgs of banned plastic items from Hotel Saravana Bhavan in Chennai's Vadapalani. Officials began a surprise check in the branch at 8 am. The state government had banned single-use plastics from January 1 and said the banned items should be handed over at the offices of the city corporation.\n",
      "요약 :  1,000 kg banned plastic seized from Saravana Bhavan in Chennai\n",
      "추출적 요약 :  Tamil Nadu food safety officials on Wednesday raided and seized 1,000 kgs of banned plastic items from Hotel Saravana Bhavan in Chennai's Vadapalani.\n",
      "\n",
      "\n",
      "Summary 91\n",
      "원문 :  Actress Shamita Shetty was verbally abused and her driver was slapped in an incident of road rage in Mumbai on Tuesday, as per reports. The incident reportedly took place after a motorist who was accompanied by two friends, rammed his vehicle into Shamita's car. The men allegedly manhandled and threatened Shamita's driver when he stepped out to inspect the damage. \n",
      "요약 :  Shamita Shetty abused, driver slapped after accident: Report\n",
      "추출적 요약 :  Actress Shamita Shetty was verbally abused and her driver was slapped in an incident of road rage in Mumbai on Tuesday, as per reports.\n",
      "\n",
      "\n",
      "Summary 92\n",
      "원문 :  Actress Vaani Kapoor said that trolling has become a norm on social media, adding, \"There's no one who hasn't got trolled on social media.\" \"Everybody is out there to pull the other person down but it'll only bother [you] if you let it bother you,\" Vaani added. She further said, social media offers a platform \"where people enjoy belittling everybody\". \n",
      "요약 :  Trolling has become the norm on social media: Vaani\n",
      "추출적 요약 :  \n",
      "\n",
      "\n",
      "Summary 93\n",
      "원문 :  Actress Sushmita Sen took to Instagram to share a joke on the subject of marriage. \"Whoever invented marriage was creepy as hell. Like I love you so much IÃ¢ÂÂm gonna get the government involved so you canÃ¢ÂÂt leave,\" Sushmita's post read. \"This is an insult to [the] beauty of marriage,\" an Instagram user commented on her post.\n",
      "요약 :  Whoever invented marriage was creepy as hell: Sushmita posts joke\n",
      "추출적 요약 :  \"This is an insult to [the] beauty of marriage,\" an Instagram user commented on her post.\n",
      "\n",
      "\n",
      "Summary 94\n",
      "원문 :  Television actor Karanvir Bohra, who flew to Russia on Tuesday to attend a film festival, has been detained in Moscow due to passport damage. \"They [are] contemplating to deport me back to India,\" the actor wrote on Twitter. The Indian embassy in Russia's capital responded to his tweet and said that they were looking into the issue. \n",
      "요약 :  Actor Karanvir Bohra detained in Russia over passport damage\n",
      "추출적 요약 :  Television actor Karanvir Bohra, who flew to Russia on Tuesday to attend a film festival, has been detained in Moscow due to passport damage.\n",
      "\n",
      "\n",
      "Summary 95\n",
      "원문 :  While speaking about winning awards for his films, Shah Rukh Khan said, \"If I don't get an award, that award is at a loss.\" \"Sometimes, the prestige of an award increases when I receive it,\" the actor jokingly added. Shah Rukh further said that he was \"extremely ambitious\" but in a \"fair manner\". \n",
      "요약 :  If I don't get an award, that award is at loss: SRK\n",
      "추출적 요약 :  \n",
      "\n",
      "\n",
      "Summary 96\n",
      "원문 :  Actress Patralekhaa will make her debut in the Kannada film industry with the action-comedy film 'Where is my Kannadaka?' \"I can definitely say that itÃ¢ÂÂs a kind of role that I havenÃ¢ÂÂt portrayed on screen so far and that makes it special for me,\" the actress said in a statement. Shooting for the film will reportedly begin in April.\n",
      "요약 :  Actress Patralekhaa to make her Kannada film debut \n",
      "추출적 요약 :  \n",
      "\n",
      "\n",
      "Summary 97\n",
      "원문 :  Gmail on Tuesday faced a global outage, which also affected India, wherein certain users complained they faced a '404 error' message while trying to sign-in to their accounts. The error message read: \"The requested URL was not found on this server. That's all we know.\" Google responded saying \"problem with Gmail should be resolved (now). We apologise for the inconvenience\".\n",
      "요약 :  Gmail faces temporary global outage, users face '404 error'\n",
      "추출적 요약 :  Gmail on Tuesday faced a global outage, which also affected India, wherein certain users complained they faced a '404 error' message while trying to sign-in to their accounts.\n",
      "\n",
      "\n",
      "Summary 98\n",
      "원문 :  Shiv Sena chief Uddhav Thackeray has asked the BJP to decide about the alliance with the Sena within 15 days and said the BJP should make a concrete proposal on the alliance. Thackeray added that only if the BJP agrees to Sena's terms and conditions, the party will agree for an alliance. Sena is free to fight independently, he said. \n",
      "요약 :  Decide about an alliance within 15 days: Uddhav to BJP\n",
      "추출적 요약 :  Shiv Sena chief Uddhav Thackeray has asked the BJP to decide about the alliance with the Sena within 15 days and said the BJP should make a concrete proposal on the alliance.\n",
      "\n",
      "\n",
      "Summary 99\n",
      "원문 :  BJP President Amit Shah on Wednesday took a dig at the Opposition's proposed grand alliance saying if the \"mahagathbandhan comes to power, each opposition leader will be a Prime Minister every day of the week\". He added, \"[The] country will go on...holiday on Sunday\". He said the Opposition is thinking about leading the country but does not have a leader.\n",
      "요약 :  Grand alliance, if wins, will see a new PM every day: Shah\n",
      "추출적 요약 :  He said the Opposition is thinking about leading the country but does not have a leader.\n",
      "\n",
      "\n",
      "Summary 100\n",
      "원문 :  Prime Minister Narendra Modi on Wednesday said his government's demonetisation decision made houses affordable for the aspiring youth. He added decisions like demonetisation and RERA have put a check on black money that used to be \"parked in the real estate sector\". He said 'UDAN' (Ude Desh ka Aam Nagrik) scheme has boosted the development of the country's aviation sector.\n",
      "요약 :  Demonetisation made homes affordable for youth: PM Modi\n",
      "추출적 요약 :  He added decisions like demonetisation and RERA have put a check on black money that used to be \"parked in the real estate sector\".\n",
      "\n",
      "\n"
     ]
    }
   ],
   "source": [
    "for i in range(50, 100):\n",
    "    print(\"Summary\", i+1)\n",
    "    print(\"원문 : \", data['text'][i])\n",
    "    print(\"요약 : \", data['headlines'][i])\n",
    "    print(\"추출적 요약 : \", summarize(data['text'][i], words=16))\n",
    "    print(\"\\n\")"
   ]
  },
  {
   "cell_type": "markdown",
   "id": "essential-cabinet",
   "metadata": {},
   "source": [
    "# 회고"
   ]
  },
  {
   "cell_type": "markdown",
   "id": "unable-greeting",
   "metadata": {},
   "source": [
    "1. 처음으로 돌렸을 때 결과가 좋지않아 무엇때문인가 생각해봤더니 텍스트의 최대길이와 headline의 최대 길이를 많은 부분을 커버하도록 설정하지않아서 였던 것 같습니다.99프로 커버하도록 수치를 바꿔줬습니다.\n",
    "2. 추상적 요약과 추출적요약 두가지 모델을 적용시켜봤습니다. \n",
    "3. 모델을 적용시켜본 결과 추상적요약은 실제 헤드라인과 예측 헤드라인이 핵심 단어는 어느정도 같은것이 있긴했으나 문법적으로 말이안되는 것들이 많았습니다. \n",
    "4. 추출적 요약은 핵심 단어포함도잘되고 문법적으로도 추상적요약보다 더 완성도가 높게 나왔습니다. 추출적요약이 추상적 요약보다 훨씬 좋은 결과를 얻었습니다.\n",
    "5. 추출적 요약을 적용할 때 빈 부분이 많아 여러 파라미터를 적용시켜봤으나 여전히 빈 부분이 좀 있어 개선이 필요해보입니다."
   ]
  },
  {
   "cell_type": "code",
   "execution_count": null,
   "id": "colonial-environment",
   "metadata": {},
   "outputs": [],
   "source": []
  }
 ],
 "metadata": {
  "kernelspec": {
   "display_name": "Python 3",
   "language": "python",
   "name": "python3"
  },
  "language_info": {
   "codemirror_mode": {
    "name": "ipython",
    "version": 3
   },
   "file_extension": ".py",
   "mimetype": "text/x-python",
   "name": "python",
   "nbconvert_exporter": "python",
   "pygments_lexer": "ipython3",
   "version": "3.7.9"
  }
 },
 "nbformat": 4,
 "nbformat_minor": 5
}
