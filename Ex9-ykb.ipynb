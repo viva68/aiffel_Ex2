{
 "cells": [
  {
   "cell_type": "markdown",
   "id": "incoming-execution",
   "metadata": {},
   "source": [
    "# Ex9 아이유팬이 좋아할 만한 다른 아티스트 찾기"
   ]
  },
  {
   "cell_type": "markdown",
   "id": "postal-elder",
   "metadata": {},
   "source": [
    "## Movielens 영화 추천 실습"
   ]
  },
  {
   "cell_type": "markdown",
   "id": "bound-blues",
   "metadata": {},
   "source": [
    "### 유저 아이디, 영화 아이디, 별점, 시간이 담긴 rating.dat파일을 읽어옵니다."
   ]
  },
  {
   "cell_type": "code",
   "execution_count": 1,
   "id": "imperial-dragon",
   "metadata": {},
   "outputs": [
    {
     "data": {
      "text/html": [
       "<div>\n",
       "<style scoped>\n",
       "    .dataframe tbody tr th:only-of-type {\n",
       "        vertical-align: middle;\n",
       "    }\n",
       "\n",
       "    .dataframe tbody tr th {\n",
       "        vertical-align: top;\n",
       "    }\n",
       "\n",
       "    .dataframe thead th {\n",
       "        text-align: right;\n",
       "    }\n",
       "</style>\n",
       "<table border=\"1\" class=\"dataframe\">\n",
       "  <thead>\n",
       "    <tr style=\"text-align: right;\">\n",
       "      <th></th>\n",
       "      <th>user_id</th>\n",
       "      <th>movie_id</th>\n",
       "      <th>ratings</th>\n",
       "      <th>timestamp</th>\n",
       "    </tr>\n",
       "  </thead>\n",
       "  <tbody>\n",
       "    <tr>\n",
       "      <th>0</th>\n",
       "      <td>1</td>\n",
       "      <td>1193</td>\n",
       "      <td>5</td>\n",
       "      <td>978300760</td>\n",
       "    </tr>\n",
       "    <tr>\n",
       "      <th>1</th>\n",
       "      <td>1</td>\n",
       "      <td>661</td>\n",
       "      <td>3</td>\n",
       "      <td>978302109</td>\n",
       "    </tr>\n",
       "    <tr>\n",
       "      <th>2</th>\n",
       "      <td>1</td>\n",
       "      <td>914</td>\n",
       "      <td>3</td>\n",
       "      <td>978301968</td>\n",
       "    </tr>\n",
       "    <tr>\n",
       "      <th>3</th>\n",
       "      <td>1</td>\n",
       "      <td>3408</td>\n",
       "      <td>4</td>\n",
       "      <td>978300275</td>\n",
       "    </tr>\n",
       "    <tr>\n",
       "      <th>4</th>\n",
       "      <td>1</td>\n",
       "      <td>2355</td>\n",
       "      <td>5</td>\n",
       "      <td>978824291</td>\n",
       "    </tr>\n",
       "  </tbody>\n",
       "</table>\n",
       "</div>"
      ],
      "text/plain": [
       "   user_id  movie_id  ratings  timestamp\n",
       "0        1      1193        5  978300760\n",
       "1        1       661        3  978302109\n",
       "2        1       914        3  978301968\n",
       "3        1      3408        4  978300275\n",
       "4        1      2355        5  978824291"
      ]
     },
     "execution_count": 1,
     "metadata": {},
     "output_type": "execute_result"
    }
   ],
   "source": [
    "import pandas as pd\n",
    "import os\n",
    "rating_file_path=os.getenv('HOME') + '/aiffel/recommendata_iu/data/ml-1m/ratings.dat'\n",
    "ratings_cols = ['user_id', 'movie_id', 'ratings', 'timestamp']\n",
    "ratings = pd.read_csv(rating_file_path, sep='::', names=ratings_cols, engine='python', encoding = \"ISO-8859-1\")\n",
    "orginal_data_size = len(ratings)\n",
    "ratings.head()"
   ]
  },
  {
   "cell_type": "markdown",
   "id": "coated-freedom",
   "metadata": {},
   "source": [
    "### 별점이 3점이상일 때만 선호하는것으로 여기므로 3이상 데이터만 추출합니다."
   ]
  },
  {
   "cell_type": "code",
   "execution_count": 2,
   "id": "choice-northern",
   "metadata": {},
   "outputs": [
    {
     "name": "stdout",
     "output_type": "stream",
     "text": [
      "orginal_data_size: 1000209, filtered_data_size: 836478\n",
      "Ratio of Remaining Data is 83.63%\n"
     ]
    }
   ],
   "source": [
    "ratings = ratings[ratings['ratings']>=3]\n",
    "filtered_data_size = len(ratings)\n",
    "\n",
    "print(f'orginal_data_size: {orginal_data_size}, filtered_data_size: {filtered_data_size}')\n",
    "print(f'Ratio of Remaining Data is {filtered_data_size / orginal_data_size:.2%}')"
   ]
  },
  {
   "cell_type": "markdown",
   "id": "defined-european",
   "metadata": {},
   "source": [
    "###  별점을 counts로 이름을 바꿉니다."
   ]
  },
  {
   "cell_type": "code",
   "execution_count": 3,
   "id": "continued-milton",
   "metadata": {
    "scrolled": false
   },
   "outputs": [
    {
     "data": {
      "text/html": [
       "<div>\n",
       "<style scoped>\n",
       "    .dataframe tbody tr th:only-of-type {\n",
       "        vertical-align: middle;\n",
       "    }\n",
       "\n",
       "    .dataframe tbody tr th {\n",
       "        vertical-align: top;\n",
       "    }\n",
       "\n",
       "    .dataframe thead th {\n",
       "        text-align: right;\n",
       "    }\n",
       "</style>\n",
       "<table border=\"1\" class=\"dataframe\">\n",
       "  <thead>\n",
       "    <tr style=\"text-align: right;\">\n",
       "      <th></th>\n",
       "      <th>user_id</th>\n",
       "      <th>movie_id</th>\n",
       "      <th>counts</th>\n",
       "      <th>timestamp</th>\n",
       "    </tr>\n",
       "  </thead>\n",
       "  <tbody>\n",
       "    <tr>\n",
       "      <th>0</th>\n",
       "      <td>1</td>\n",
       "      <td>1193</td>\n",
       "      <td>5</td>\n",
       "      <td>978300760</td>\n",
       "    </tr>\n",
       "    <tr>\n",
       "      <th>1</th>\n",
       "      <td>1</td>\n",
       "      <td>661</td>\n",
       "      <td>3</td>\n",
       "      <td>978302109</td>\n",
       "    </tr>\n",
       "    <tr>\n",
       "      <th>2</th>\n",
       "      <td>1</td>\n",
       "      <td>914</td>\n",
       "      <td>3</td>\n",
       "      <td>978301968</td>\n",
       "    </tr>\n",
       "    <tr>\n",
       "      <th>3</th>\n",
       "      <td>1</td>\n",
       "      <td>3408</td>\n",
       "      <td>4</td>\n",
       "      <td>978300275</td>\n",
       "    </tr>\n",
       "    <tr>\n",
       "      <th>4</th>\n",
       "      <td>1</td>\n",
       "      <td>2355</td>\n",
       "      <td>5</td>\n",
       "      <td>978824291</td>\n",
       "    </tr>\n",
       "  </tbody>\n",
       "</table>\n",
       "</div>"
      ],
      "text/plain": [
       "   user_id  movie_id  counts  timestamp\n",
       "0        1      1193       5  978300760\n",
       "1        1       661       3  978302109\n",
       "2        1       914       3  978301968\n",
       "3        1      3408       4  978300275\n",
       "4        1      2355       5  978824291"
      ]
     },
     "execution_count": 3,
     "metadata": {},
     "output_type": "execute_result"
    }
   ],
   "source": [
    "# ratings 컬럼의 이름을 counts로 바꿉니다.\n",
    "ratings.rename(columns={'ratings':'counts'}, inplace=True)\n",
    "ratings['counts']\n",
    "ratings.head()"
   ]
  },
  {
   "cell_type": "markdown",
   "id": "sunset-seeking",
   "metadata": {},
   "source": [
    "### 필요없는 열(timestamp)는 삭제합니다."
   ]
  },
  {
   "cell_type": "code",
   "execution_count": 4,
   "id": "dependent-agent",
   "metadata": {},
   "outputs": [
    {
     "data": {
      "text/html": [
       "<div>\n",
       "<style scoped>\n",
       "    .dataframe tbody tr th:only-of-type {\n",
       "        vertical-align: middle;\n",
       "    }\n",
       "\n",
       "    .dataframe tbody tr th {\n",
       "        vertical-align: top;\n",
       "    }\n",
       "\n",
       "    .dataframe thead th {\n",
       "        text-align: right;\n",
       "    }\n",
       "</style>\n",
       "<table border=\"1\" class=\"dataframe\">\n",
       "  <thead>\n",
       "    <tr style=\"text-align: right;\">\n",
       "      <th></th>\n",
       "      <th>user_id</th>\n",
       "      <th>movie_id</th>\n",
       "      <th>counts</th>\n",
       "    </tr>\n",
       "  </thead>\n",
       "  <tbody>\n",
       "    <tr>\n",
       "      <th>0</th>\n",
       "      <td>1</td>\n",
       "      <td>1193</td>\n",
       "      <td>5</td>\n",
       "    </tr>\n",
       "    <tr>\n",
       "      <th>1</th>\n",
       "      <td>1</td>\n",
       "      <td>661</td>\n",
       "      <td>3</td>\n",
       "    </tr>\n",
       "    <tr>\n",
       "      <th>2</th>\n",
       "      <td>1</td>\n",
       "      <td>914</td>\n",
       "      <td>3</td>\n",
       "    </tr>\n",
       "    <tr>\n",
       "      <th>3</th>\n",
       "      <td>1</td>\n",
       "      <td>3408</td>\n",
       "      <td>4</td>\n",
       "    </tr>\n",
       "    <tr>\n",
       "      <th>4</th>\n",
       "      <td>1</td>\n",
       "      <td>2355</td>\n",
       "      <td>5</td>\n",
       "    </tr>\n",
       "  </tbody>\n",
       "</table>\n",
       "</div>"
      ],
      "text/plain": [
       "   user_id  movie_id  counts\n",
       "0        1      1193       5\n",
       "1        1       661       3\n",
       "2        1       914       3\n",
       "3        1      3408       4\n",
       "4        1      2355       5"
      ]
     },
     "execution_count": 4,
     "metadata": {},
     "output_type": "execute_result"
    }
   ],
   "source": [
    "ratings=ratings.drop(['timestamp'],axis=1)\n",
    "ratings.head()"
   ]
  },
  {
   "cell_type": "markdown",
   "id": "renewable-wagner",
   "metadata": {},
   "source": [
    "### 영화의 이름 장르가 담긴 movies.dat파일을 읽어옵니다."
   ]
  },
  {
   "cell_type": "code",
   "execution_count": 5,
   "id": "responsible-deadline",
   "metadata": {
    "scrolled": true
   },
   "outputs": [
    {
     "data": {
      "text/html": [
       "<div>\n",
       "<style scoped>\n",
       "    .dataframe tbody tr th:only-of-type {\n",
       "        vertical-align: middle;\n",
       "    }\n",
       "\n",
       "    .dataframe tbody tr th {\n",
       "        vertical-align: top;\n",
       "    }\n",
       "\n",
       "    .dataframe thead th {\n",
       "        text-align: right;\n",
       "    }\n",
       "</style>\n",
       "<table border=\"1\" class=\"dataframe\">\n",
       "  <thead>\n",
       "    <tr style=\"text-align: right;\">\n",
       "      <th></th>\n",
       "      <th>movie_id</th>\n",
       "      <th>title</th>\n",
       "      <th>genre</th>\n",
       "    </tr>\n",
       "  </thead>\n",
       "  <tbody>\n",
       "    <tr>\n",
       "      <th>0</th>\n",
       "      <td>1</td>\n",
       "      <td>Toy Story (1995)</td>\n",
       "      <td>Animation|Children's|Comedy</td>\n",
       "    </tr>\n",
       "    <tr>\n",
       "      <th>1</th>\n",
       "      <td>2</td>\n",
       "      <td>Jumanji (1995)</td>\n",
       "      <td>Adventure|Children's|Fantasy</td>\n",
       "    </tr>\n",
       "    <tr>\n",
       "      <th>2</th>\n",
       "      <td>3</td>\n",
       "      <td>Grumpier Old Men (1995)</td>\n",
       "      <td>Comedy|Romance</td>\n",
       "    </tr>\n",
       "    <tr>\n",
       "      <th>3</th>\n",
       "      <td>4</td>\n",
       "      <td>Waiting to Exhale (1995)</td>\n",
       "      <td>Comedy|Drama</td>\n",
       "    </tr>\n",
       "    <tr>\n",
       "      <th>4</th>\n",
       "      <td>5</td>\n",
       "      <td>Father of the Bride Part II (1995)</td>\n",
       "      <td>Comedy</td>\n",
       "    </tr>\n",
       "  </tbody>\n",
       "</table>\n",
       "</div>"
      ],
      "text/plain": [
       "   movie_id                               title                         genre\n",
       "0         1                    Toy Story (1995)   Animation|Children's|Comedy\n",
       "1         2                      Jumanji (1995)  Adventure|Children's|Fantasy\n",
       "2         3             Grumpier Old Men (1995)                Comedy|Romance\n",
       "3         4            Waiting to Exhale (1995)                  Comedy|Drama\n",
       "4         5  Father of the Bride Part II (1995)                        Comedy"
      ]
     },
     "execution_count": 5,
     "metadata": {},
     "output_type": "execute_result"
    }
   ],
   "source": [
    "movie_file_path=os.getenv('HOME') + '/aiffel/recommendata_iu/data/ml-1m/movies.dat'\n",
    "cols = ['movie_id', 'title', 'genre'] \n",
    "movies = pd.read_csv(movie_file_path, sep='::', names=cols, engine='python', encoding='ISO-8859-1')\n",
    "movies.head()\n"
   ]
  },
  {
   "cell_type": "markdown",
   "id": "emotional-cooling",
   "metadata": {},
   "source": [
    "### 필요없는 열을 삭제합니다.(장르)"
   ]
  },
  {
   "cell_type": "code",
   "execution_count": 6,
   "id": "geographic-optimum",
   "metadata": {},
   "outputs": [
    {
     "data": {
      "text/html": [
       "<div>\n",
       "<style scoped>\n",
       "    .dataframe tbody tr th:only-of-type {\n",
       "        vertical-align: middle;\n",
       "    }\n",
       "\n",
       "    .dataframe tbody tr th {\n",
       "        vertical-align: top;\n",
       "    }\n",
       "\n",
       "    .dataframe thead th {\n",
       "        text-align: right;\n",
       "    }\n",
       "</style>\n",
       "<table border=\"1\" class=\"dataframe\">\n",
       "  <thead>\n",
       "    <tr style=\"text-align: right;\">\n",
       "      <th></th>\n",
       "      <th>movie_id</th>\n",
       "      <th>title</th>\n",
       "    </tr>\n",
       "  </thead>\n",
       "  <tbody>\n",
       "    <tr>\n",
       "      <th>0</th>\n",
       "      <td>1</td>\n",
       "      <td>Toy Story (1995)</td>\n",
       "    </tr>\n",
       "    <tr>\n",
       "      <th>1</th>\n",
       "      <td>2</td>\n",
       "      <td>Jumanji (1995)</td>\n",
       "    </tr>\n",
       "    <tr>\n",
       "      <th>2</th>\n",
       "      <td>3</td>\n",
       "      <td>Grumpier Old Men (1995)</td>\n",
       "    </tr>\n",
       "    <tr>\n",
       "      <th>3</th>\n",
       "      <td>4</td>\n",
       "      <td>Waiting to Exhale (1995)</td>\n",
       "    </tr>\n",
       "    <tr>\n",
       "      <th>4</th>\n",
       "      <td>5</td>\n",
       "      <td>Father of the Bride Part II (1995)</td>\n",
       "    </tr>\n",
       "  </tbody>\n",
       "</table>\n",
       "</div>"
      ],
      "text/plain": [
       "   movie_id                               title\n",
       "0         1                    Toy Story (1995)\n",
       "1         2                      Jumanji (1995)\n",
       "2         3             Grumpier Old Men (1995)\n",
       "3         4            Waiting to Exhale (1995)\n",
       "4         5  Father of the Bride Part II (1995)"
      ]
     },
     "execution_count": 6,
     "metadata": {},
     "output_type": "execute_result"
    }
   ],
   "source": [
    "movies=movies.drop(['genre'],axis=1)\n",
    "movies.head()"
   ]
  },
  {
   "cell_type": "markdown",
   "id": "gorgeous-puzzle",
   "metadata": {},
   "source": [
    "### 1. ratings에 있는 유니크한 영화 개수 \n",
    "### 2. ratings에 있는 유니크한 사용자 개수\n",
    "### 3. 가장 인기있는 영화 30개 (인기순) 을 출력해 봤습니다."
   ]
  },
  {
   "cell_type": "code",
   "execution_count": 7,
   "id": "expensive-stockholm",
   "metadata": {},
   "outputs": [
    {
     "name": "stdout",
     "output_type": "stream",
     "text": [
      "num movie: 3628\n",
      "num user: 6039\n"
     ]
    }
   ],
   "source": [
    "num_movie = ratings['movie_id'].nunique()\n",
    "num_user = ratings['user_id'].nunique()\n",
    "print(f\"num movie: {num_movie}\")\n",
    "print(f\"num user: {num_user}\")\n"
   ]
  },
  {
   "cell_type": "code",
   "execution_count": 8,
   "id": "invisible-oracle",
   "metadata": {},
   "outputs": [
    {
     "name": "stdout",
     "output_type": "stream",
     "text": [
      "836478\n",
      "3883\n"
     ]
    }
   ],
   "source": [
    "print(len(ratings))\n",
    "print(len(movies))"
   ]
  },
  {
   "cell_type": "markdown",
   "id": "dutch-toilet",
   "metadata": {},
   "source": [
    "### 인기순 영화 제목을 뽑기위해 ratings와 movies를 movie_id 기준으로 merge 했습니다. "
   ]
  },
  {
   "cell_type": "code",
   "execution_count": 9,
   "id": "cathedral-retailer",
   "metadata": {
    "scrolled": true
   },
   "outputs": [
    {
     "data": {
      "text/html": [
       "<div>\n",
       "<style scoped>\n",
       "    .dataframe tbody tr th:only-of-type {\n",
       "        vertical-align: middle;\n",
       "    }\n",
       "\n",
       "    .dataframe tbody tr th {\n",
       "        vertical-align: top;\n",
       "    }\n",
       "\n",
       "    .dataframe thead th {\n",
       "        text-align: right;\n",
       "    }\n",
       "</style>\n",
       "<table border=\"1\" class=\"dataframe\">\n",
       "  <thead>\n",
       "    <tr style=\"text-align: right;\">\n",
       "      <th></th>\n",
       "      <th>user_id</th>\n",
       "      <th>movie_id</th>\n",
       "      <th>counts</th>\n",
       "      <th>title</th>\n",
       "    </tr>\n",
       "  </thead>\n",
       "  <tbody>\n",
       "    <tr>\n",
       "      <th>0</th>\n",
       "      <td>1</td>\n",
       "      <td>1193</td>\n",
       "      <td>5</td>\n",
       "      <td>One Flew Over the Cuckoo's Nest (1975)</td>\n",
       "    </tr>\n",
       "    <tr>\n",
       "      <th>1</th>\n",
       "      <td>2</td>\n",
       "      <td>1193</td>\n",
       "      <td>5</td>\n",
       "      <td>One Flew Over the Cuckoo's Nest (1975)</td>\n",
       "    </tr>\n",
       "    <tr>\n",
       "      <th>2</th>\n",
       "      <td>12</td>\n",
       "      <td>1193</td>\n",
       "      <td>4</td>\n",
       "      <td>One Flew Over the Cuckoo's Nest (1975)</td>\n",
       "    </tr>\n",
       "    <tr>\n",
       "      <th>3</th>\n",
       "      <td>15</td>\n",
       "      <td>1193</td>\n",
       "      <td>4</td>\n",
       "      <td>One Flew Over the Cuckoo's Nest (1975)</td>\n",
       "    </tr>\n",
       "    <tr>\n",
       "      <th>4</th>\n",
       "      <td>17</td>\n",
       "      <td>1193</td>\n",
       "      <td>5</td>\n",
       "      <td>One Flew Over the Cuckoo's Nest (1975)</td>\n",
       "    </tr>\n",
       "  </tbody>\n",
       "</table>\n",
       "</div>"
      ],
      "text/plain": [
       "   user_id  movie_id  counts                                   title\n",
       "0        1      1193       5  One Flew Over the Cuckoo's Nest (1975)\n",
       "1        2      1193       5  One Flew Over the Cuckoo's Nest (1975)\n",
       "2       12      1193       4  One Flew Over the Cuckoo's Nest (1975)\n",
       "3       15      1193       4  One Flew Over the Cuckoo's Nest (1975)\n",
       "4       17      1193       5  One Flew Over the Cuckoo's Nest (1975)"
      ]
     },
     "execution_count": 9,
     "metadata": {},
     "output_type": "execute_result"
    }
   ],
   "source": [
    "data=pd.merge(ratings,movies)\n",
    "data.head()"
   ]
  },
  {
   "cell_type": "markdown",
   "id": "cubic-identifier",
   "metadata": {},
   "source": [
    "### user_id기준으로 groupby를 하여 가장 많이본 순서대로 이름을 출력했습니다."
   ]
  },
  {
   "cell_type": "code",
   "execution_count": 10,
   "id": "sonic-cycle",
   "metadata": {},
   "outputs": [
    {
     "data": {
      "text/plain": [
       "title\n",
       "American Beauty (1999)                                   3211\n",
       "Star Wars: Episode IV - A New Hope (1977)                2910\n",
       "Star Wars: Episode V - The Empire Strikes Back (1980)    2885\n",
       "Star Wars: Episode VI - Return of the Jedi (1983)        2716\n",
       "Saving Private Ryan (1998)                               2561\n",
       "Terminator 2: Judgment Day (1991)                        2509\n",
       "Silence of the Lambs, The (1991)                         2498\n",
       "Raiders of the Lost Ark (1981)                           2473\n",
       "Back to the Future (1985)                                2460\n",
       "Matrix, The (1999)                                       2434\n",
       "Jurassic Park (1993)                                     2413\n",
       "Sixth Sense, The (1999)                                  2385\n",
       "Fargo (1996)                                             2371\n",
       "Braveheart (1995)                                        2314\n",
       "Men in Black (1997)                                      2297\n",
       "Schindler's List (1993)                                  2257\n",
       "Princess Bride, The (1987)                               2252\n",
       "Shakespeare in Love (1998)                               2213\n",
       "L.A. Confidential (1997)                                 2210\n",
       "Shawshank Redemption, The (1994)                         2194\n",
       "Godfather, The (1972)                                    2167\n",
       "Groundhog Day (1993)                                     2121\n",
       "E.T. the Extra-Terrestrial (1982)                        2102\n",
       "Being John Malkovich (1999)                              2066\n",
       "Ghostbusters (1984)                                      2051\n",
       "Pulp Fiction (1994)                                      2030\n",
       "Forrest Gump (1994)                                      2022\n",
       "Terminator, The (1984)                                   2019\n",
       "Toy Story (1995)                                         2000\n",
       "Fugitive, The (1993)                                     1941\n",
       "Name: user_id, dtype: int64"
      ]
     },
     "execution_count": 10,
     "metadata": {},
     "output_type": "execute_result"
    }
   ],
   "source": [
    "movie_count = data.groupby('title')['user_id'].count()\n",
    "data2=movie_count.sort_values(ascending=False).head(30)\n",
    "data2"
   ]
  },
  {
   "cell_type": "markdown",
   "id": "refined-pension",
   "metadata": {},
   "source": [
    "### 제가 좋아하는 영화 5개를 데이터의 마지막부분에 삽입했습니다."
   ]
  },
  {
   "cell_type": "code",
   "execution_count": 11,
   "id": "annual-grove",
   "metadata": {
    "scrolled": true
   },
   "outputs": [
    {
     "data": {
      "text/html": [
       "<div>\n",
       "<style scoped>\n",
       "    .dataframe tbody tr th:only-of-type {\n",
       "        vertical-align: middle;\n",
       "    }\n",
       "\n",
       "    .dataframe tbody tr th {\n",
       "        vertical-align: top;\n",
       "    }\n",
       "\n",
       "    .dataframe thead th {\n",
       "        text-align: right;\n",
       "    }\n",
       "</style>\n",
       "<table border=\"1\" class=\"dataframe\">\n",
       "  <thead>\n",
       "    <tr style=\"text-align: right;\">\n",
       "      <th></th>\n",
       "      <th>user_id</th>\n",
       "      <th>movie_id</th>\n",
       "      <th>counts</th>\n",
       "      <th>title</th>\n",
       "    </tr>\n",
       "  </thead>\n",
       "  <tbody>\n",
       "    <tr>\n",
       "      <th>836473</th>\n",
       "      <td>5851</td>\n",
       "      <td>3607.0</td>\n",
       "      <td>5</td>\n",
       "      <td>One Little Indian (1973)</td>\n",
       "    </tr>\n",
       "    <tr>\n",
       "      <th>836474</th>\n",
       "      <td>5854</td>\n",
       "      <td>3026.0</td>\n",
       "      <td>4</td>\n",
       "      <td>Slaughterhouse (1987)</td>\n",
       "    </tr>\n",
       "    <tr>\n",
       "      <th>836475</th>\n",
       "      <td>5854</td>\n",
       "      <td>690.0</td>\n",
       "      <td>3</td>\n",
       "      <td>Promise, The (Versprechen, Das) (1994)</td>\n",
       "    </tr>\n",
       "    <tr>\n",
       "      <th>836476</th>\n",
       "      <td>5938</td>\n",
       "      <td>2909.0</td>\n",
       "      <td>4</td>\n",
       "      <td>Five Wives, Three Secretaries and Me (1998)</td>\n",
       "    </tr>\n",
       "    <tr>\n",
       "      <th>836477</th>\n",
       "      <td>5948</td>\n",
       "      <td>1360.0</td>\n",
       "      <td>5</td>\n",
       "      <td>Identification of a Woman (Identificazione di ...</td>\n",
       "    </tr>\n",
       "    <tr>\n",
       "      <th>0</th>\n",
       "      <td>ykb</td>\n",
       "      <td>NaN</td>\n",
       "      <td>5</td>\n",
       "      <td>Star Wars: Episode IV - A New Hope (1977)</td>\n",
       "    </tr>\n",
       "    <tr>\n",
       "      <th>1</th>\n",
       "      <td>ykb</td>\n",
       "      <td>NaN</td>\n",
       "      <td>5</td>\n",
       "      <td>Star Wars: Episode V - The Empire Strikes Back...</td>\n",
       "    </tr>\n",
       "    <tr>\n",
       "      <th>2</th>\n",
       "      <td>ykb</td>\n",
       "      <td>NaN</td>\n",
       "      <td>5</td>\n",
       "      <td>Star Wars: Episode VI - Return of the Jedi (1983)</td>\n",
       "    </tr>\n",
       "    <tr>\n",
       "      <th>3</th>\n",
       "      <td>ykb</td>\n",
       "      <td>NaN</td>\n",
       "      <td>5</td>\n",
       "      <td>Men in Black (1997)</td>\n",
       "    </tr>\n",
       "    <tr>\n",
       "      <th>4</th>\n",
       "      <td>ykb</td>\n",
       "      <td>NaN</td>\n",
       "      <td>5</td>\n",
       "      <td>E.T. the Extra-Terrestrial (1982)</td>\n",
       "    </tr>\n",
       "  </tbody>\n",
       "</table>\n",
       "</div>"
      ],
      "text/plain": [
       "       user_id  movie_id  counts  \\\n",
       "836473    5851    3607.0       5   \n",
       "836474    5854    3026.0       4   \n",
       "836475    5854     690.0       3   \n",
       "836476    5938    2909.0       4   \n",
       "836477    5948    1360.0       5   \n",
       "0          ykb       NaN       5   \n",
       "1          ykb       NaN       5   \n",
       "2          ykb       NaN       5   \n",
       "3          ykb       NaN       5   \n",
       "4          ykb       NaN       5   \n",
       "\n",
       "                                                    title  \n",
       "836473                           One Little Indian (1973)  \n",
       "836474                              Slaughterhouse (1987)  \n",
       "836475             Promise, The (Versprechen, Das) (1994)  \n",
       "836476        Five Wives, Three Secretaries and Me (1998)  \n",
       "836477  Identification of a Woman (Identificazione di ...  \n",
       "0               Star Wars: Episode IV - A New Hope (1977)  \n",
       "1       Star Wars: Episode V - The Empire Strikes Back...  \n",
       "2       Star Wars: Episode VI - Return of the Jedi (1983)  \n",
       "3                                     Men in Black (1997)  \n",
       "4                       E.T. the Extra-Terrestrial (1982)  "
      ]
     },
     "execution_count": 11,
     "metadata": {},
     "output_type": "execute_result"
    }
   ],
   "source": [
    "my_favorite = ['Star Wars: Episode IV - A New Hope (1977)','Star Wars: Episode V - The Empire Strikes Back (1980)', 'Star Wars: Episode VI - Return of the Jedi (1983)' ,'Men in Black (1997)','E.T. the Extra-Terrestrial (1982)']\n",
    "\n",
    "my_playlist = pd.DataFrame({'user_id': ['ykb']*5, 'title': my_favorite, 'counts':[5]*5})\n",
    "\n",
    "if not data.isin({'user_id':['ykb']})['user_id'].any():  # user_id에 'zimin'이라는 데이터가 없다면\n",
    "    data = data.append(my_playlist)                           # 위에 임의로 만든 my_favorite 데이터를 추가해 줍니다. \n",
    "\n",
    "data.tail(10)       # 잘 추가되었는지 확인해 봅시다.\n"
   ]
  },
  {
   "cell_type": "markdown",
   "id": "described-albany",
   "metadata": {},
   "source": [
    "### movie_id는 이제 필요없어지므로 삭제합니다."
   ]
  },
  {
   "cell_type": "code",
   "execution_count": 12,
   "id": "champion-payment",
   "metadata": {},
   "outputs": [
    {
     "data": {
      "text/html": [
       "<div>\n",
       "<style scoped>\n",
       "    .dataframe tbody tr th:only-of-type {\n",
       "        vertical-align: middle;\n",
       "    }\n",
       "\n",
       "    .dataframe tbody tr th {\n",
       "        vertical-align: top;\n",
       "    }\n",
       "\n",
       "    .dataframe thead th {\n",
       "        text-align: right;\n",
       "    }\n",
       "</style>\n",
       "<table border=\"1\" class=\"dataframe\">\n",
       "  <thead>\n",
       "    <tr style=\"text-align: right;\">\n",
       "      <th></th>\n",
       "      <th>user_id</th>\n",
       "      <th>counts</th>\n",
       "      <th>title</th>\n",
       "    </tr>\n",
       "  </thead>\n",
       "  <tbody>\n",
       "    <tr>\n",
       "      <th>836473</th>\n",
       "      <td>5851</td>\n",
       "      <td>5</td>\n",
       "      <td>One Little Indian (1973)</td>\n",
       "    </tr>\n",
       "    <tr>\n",
       "      <th>836474</th>\n",
       "      <td>5854</td>\n",
       "      <td>4</td>\n",
       "      <td>Slaughterhouse (1987)</td>\n",
       "    </tr>\n",
       "    <tr>\n",
       "      <th>836475</th>\n",
       "      <td>5854</td>\n",
       "      <td>3</td>\n",
       "      <td>Promise, The (Versprechen, Das) (1994)</td>\n",
       "    </tr>\n",
       "    <tr>\n",
       "      <th>836476</th>\n",
       "      <td>5938</td>\n",
       "      <td>4</td>\n",
       "      <td>Five Wives, Three Secretaries and Me (1998)</td>\n",
       "    </tr>\n",
       "    <tr>\n",
       "      <th>836477</th>\n",
       "      <td>5948</td>\n",
       "      <td>5</td>\n",
       "      <td>Identification of a Woman (Identificazione di ...</td>\n",
       "    </tr>\n",
       "    <tr>\n",
       "      <th>0</th>\n",
       "      <td>ykb</td>\n",
       "      <td>5</td>\n",
       "      <td>Star Wars: Episode IV - A New Hope (1977)</td>\n",
       "    </tr>\n",
       "    <tr>\n",
       "      <th>1</th>\n",
       "      <td>ykb</td>\n",
       "      <td>5</td>\n",
       "      <td>Star Wars: Episode V - The Empire Strikes Back...</td>\n",
       "    </tr>\n",
       "    <tr>\n",
       "      <th>2</th>\n",
       "      <td>ykb</td>\n",
       "      <td>5</td>\n",
       "      <td>Star Wars: Episode VI - Return of the Jedi (1983)</td>\n",
       "    </tr>\n",
       "    <tr>\n",
       "      <th>3</th>\n",
       "      <td>ykb</td>\n",
       "      <td>5</td>\n",
       "      <td>Men in Black (1997)</td>\n",
       "    </tr>\n",
       "    <tr>\n",
       "      <th>4</th>\n",
       "      <td>ykb</td>\n",
       "      <td>5</td>\n",
       "      <td>E.T. the Extra-Terrestrial (1982)</td>\n",
       "    </tr>\n",
       "  </tbody>\n",
       "</table>\n",
       "</div>"
      ],
      "text/plain": [
       "       user_id  counts                                              title\n",
       "836473    5851       5                           One Little Indian (1973)\n",
       "836474    5854       4                              Slaughterhouse (1987)\n",
       "836475    5854       3             Promise, The (Versprechen, Das) (1994)\n",
       "836476    5938       4        Five Wives, Three Secretaries and Me (1998)\n",
       "836477    5948       5  Identification of a Woman (Identificazione di ...\n",
       "0          ykb       5          Star Wars: Episode IV - A New Hope (1977)\n",
       "1          ykb       5  Star Wars: Episode V - The Empire Strikes Back...\n",
       "2          ykb       5  Star Wars: Episode VI - Return of the Jedi (1983)\n",
       "3          ykb       5                                Men in Black (1997)\n",
       "4          ykb       5                  E.T. the Extra-Terrestrial (1982)"
      ]
     },
     "execution_count": 12,
     "metadata": {},
     "output_type": "execute_result"
    }
   ],
   "source": [
    "data=data.drop(['movie_id'],axis=1)\n",
    "data.tail(10)"
   ]
  },
  {
   "cell_type": "markdown",
   "id": "printable-exchange",
   "metadata": {},
   "source": [
    "### 유저 ID와 영화제목에 대한 인덱싱 값을 만듭니다."
   ]
  },
  {
   "cell_type": "code",
   "execution_count": 13,
   "id": "played-german",
   "metadata": {
    "scrolled": true
   },
   "outputs": [
    {
     "name": "stdout",
     "output_type": "stream",
     "text": [
      "6039\n"
     ]
    }
   ],
   "source": [
    "user_unique = data['user_id'].unique()\n",
    "movie_unique = data['title'].unique()\n",
    "\n",
    "# 유저, 아티스트 indexing 하는 코드 idx는 index의 약자입니다.\n",
    "user_to_idx = {v:k for k,v in enumerate(user_unique)}\n",
    "movie_to_idx = {v:k for k,v in enumerate(movie_unique)}\n",
    "\n",
    "print(user_to_idx['ykb']) \n"
   ]
  },
  {
   "cell_type": "markdown",
   "id": "featured-favor",
   "metadata": {},
   "source": [
    "### 유저아이디와 타이틀에대하여 인덱싱값을 데이터에다가 넣어줬습니다."
   ]
  },
  {
   "cell_type": "code",
   "execution_count": 14,
   "id": "induced-stanford",
   "metadata": {},
   "outputs": [
    {
     "name": "stdout",
     "output_type": "stream",
     "text": [
      "user_id column indexing OK!!\n",
      "movie column indexing OK!!\n"
     ]
    },
    {
     "data": {
      "text/html": [
       "<div>\n",
       "<style scoped>\n",
       "    .dataframe tbody tr th:only-of-type {\n",
       "        vertical-align: middle;\n",
       "    }\n",
       "\n",
       "    .dataframe tbody tr th {\n",
       "        vertical-align: top;\n",
       "    }\n",
       "\n",
       "    .dataframe thead th {\n",
       "        text-align: right;\n",
       "    }\n",
       "</style>\n",
       "<table border=\"1\" class=\"dataframe\">\n",
       "  <thead>\n",
       "    <tr style=\"text-align: right;\">\n",
       "      <th></th>\n",
       "      <th>user_id</th>\n",
       "      <th>counts</th>\n",
       "      <th>title</th>\n",
       "    </tr>\n",
       "  </thead>\n",
       "  <tbody>\n",
       "    <tr>\n",
       "      <th>0</th>\n",
       "      <td>0</td>\n",
       "      <td>5</td>\n",
       "      <td>0</td>\n",
       "    </tr>\n",
       "    <tr>\n",
       "      <th>1</th>\n",
       "      <td>1</td>\n",
       "      <td>5</td>\n",
       "      <td>0</td>\n",
       "    </tr>\n",
       "    <tr>\n",
       "      <th>2</th>\n",
       "      <td>2</td>\n",
       "      <td>4</td>\n",
       "      <td>0</td>\n",
       "    </tr>\n",
       "    <tr>\n",
       "      <th>3</th>\n",
       "      <td>3</td>\n",
       "      <td>4</td>\n",
       "      <td>0</td>\n",
       "    </tr>\n",
       "    <tr>\n",
       "      <th>4</th>\n",
       "      <td>4</td>\n",
       "      <td>5</td>\n",
       "      <td>0</td>\n",
       "    </tr>\n",
       "    <tr>\n",
       "      <th>...</th>\n",
       "      <td>...</td>\n",
       "      <td>...</td>\n",
       "      <td>...</td>\n",
       "    </tr>\n",
       "    <tr>\n",
       "      <th>0</th>\n",
       "      <td>6039</td>\n",
       "      <td>5</td>\n",
       "      <td>44</td>\n",
       "    </tr>\n",
       "    <tr>\n",
       "      <th>1</th>\n",
       "      <td>6039</td>\n",
       "      <td>5</td>\n",
       "      <td>117</td>\n",
       "    </tr>\n",
       "    <tr>\n",
       "      <th>2</th>\n",
       "      <td>6039</td>\n",
       "      <td>5</td>\n",
       "      <td>64</td>\n",
       "    </tr>\n",
       "    <tr>\n",
       "      <th>3</th>\n",
       "      <td>6039</td>\n",
       "      <td>5</td>\n",
       "      <td>175</td>\n",
       "    </tr>\n",
       "    <tr>\n",
       "      <th>4</th>\n",
       "      <td>6039</td>\n",
       "      <td>5</td>\n",
       "      <td>26</td>\n",
       "    </tr>\n",
       "  </tbody>\n",
       "</table>\n",
       "<p>836483 rows × 3 columns</p>\n",
       "</div>"
      ],
      "text/plain": [
       "    user_id  counts  title\n",
       "0         0       5      0\n",
       "1         1       5      0\n",
       "2         2       4      0\n",
       "3         3       4      0\n",
       "4         4       5      0\n",
       "..      ...     ...    ...\n",
       "0      6039       5     44\n",
       "1      6039       5    117\n",
       "2      6039       5     64\n",
       "3      6039       5    175\n",
       "4      6039       5     26\n",
       "\n",
       "[836483 rows x 3 columns]"
      ]
     },
     "execution_count": 14,
     "metadata": {},
     "output_type": "execute_result"
    }
   ],
   "source": [
    "# indexing을 통해 데이터 컬럼 내 값을 바꾸는 코드\n",
    "# dictionary 자료형의 get 함수는 https://wikidocs.net/16 을 참고하세요.\n",
    "\n",
    "# user_to_idx.get을 통해 user_id 컬럼의 모든 값을 인덱싱한 Series를 구해 봅시다. \n",
    "# 혹시 정상적으로 인덱싱되지 않은 row가 있다면 인덱스가 NaN이 될 테니 dropna()로 제거합니다. \n",
    "temp_user_data = data['user_id'].map(user_to_idx.get).dropna()\n",
    "if len(temp_user_data) == len(data):   # 모든 row가 정상적으로 인덱싱되었다면\n",
    "    print('user_id column indexing OK!!')\n",
    "    data['user_id'] = temp_user_data   # data['user_id']을 인덱싱된 Series로 교체해 줍니다. \n",
    "else:\n",
    "    print('user_id column indexing Fail!!')\n",
    "\n",
    "# artist_to_idx을 통해 artist 컬럼도 동일한 방식으로 인덱싱해 줍니다. \n",
    "temp_movie_data = data['title'].map(movie_to_idx.get).dropna()\n",
    "if len(temp_movie_data) == len(data):\n",
    "    print('movie column indexing OK!!')\n",
    "    data['title'] = temp_movie_data\n",
    "else:\n",
    "    print('movie column indexing Fail!!')\n",
    "\n",
    "data\n",
    "\n"
   ]
  },
  {
   "cell_type": "markdown",
   "id": "circular-peoples",
   "metadata": {},
   "source": [
    "### scr 메트릭스를 가공한 데이터 기반으로 만들었습니다."
   ]
  },
  {
   "cell_type": "code",
   "execution_count": 15,
   "id": "continental-supplement",
   "metadata": {},
   "outputs": [
    {
     "data": {
      "text/plain": [
       "<6040x3628 sparse matrix of type '<class 'numpy.longlong'>'\n",
       "\twith 836483 stored elements in Compressed Sparse Row format>"
      ]
     },
     "execution_count": 15,
     "metadata": {},
     "output_type": "execute_result"
    }
   ],
   "source": [
    "from scipy.sparse import csr_matrix\n",
    "\n",
    "num_movie = data['title'].nunique()\n",
    "num_user = data['user_id'].nunique()\n",
    "csr_data = csr_matrix((data.counts, (data.user_id, data.title)), shape= (num_user, num_movie))\n",
    "csr_data"
   ]
  },
  {
   "cell_type": "markdown",
   "id": "biological-carol",
   "metadata": {},
   "source": [
    "### 기본 세팅값을 설정해줬습니다."
   ]
  },
  {
   "cell_type": "code",
   "execution_count": 16,
   "id": "overall-possible",
   "metadata": {},
   "outputs": [],
   "source": [
    "from implicit.als import AlternatingLeastSquares\n",
    "import os\n",
    "import numpy as np\n",
    "\n",
    "# implicit 라이브러리에서 권장하고 있는 부분입니다. 학습 내용과는 무관합니다.\n",
    "os.environ['OPENBLAS_NUM_THREADS']='1'\n",
    "os.environ['KMP_DUPLICATE_LIB_OK']='True'\n",
    "os.environ['MKL_NUM_THREADS']='1'"
   ]
  },
  {
   "cell_type": "markdown",
   "id": "short-chancellor",
   "metadata": {},
   "source": [
    "### 훈련할때의 파라미터값 성정했습니다."
   ]
  },
  {
   "cell_type": "code",
   "execution_count": 17,
   "id": "conventional-acquisition",
   "metadata": {},
   "outputs": [],
   "source": [
    "als_model = AlternatingLeastSquares(factors=1500, regularization=0.01, use_gpu=False, iterations=15, dtype=np.float32)"
   ]
  },
  {
   "cell_type": "code",
   "execution_count": 18,
   "id": "solved-garage",
   "metadata": {},
   "outputs": [
    {
     "data": {
      "text/plain": [
       "<3628x6040 sparse matrix of type '<class 'numpy.longlong'>'\n",
       "\twith 836483 stored elements in Compressed Sparse Column format>"
      ]
     },
     "execution_count": 18,
     "metadata": {},
     "output_type": "execute_result"
    }
   ],
   "source": [
    "csr_data_transpose = csr_data.T\n",
    "csr_data_transpose"
   ]
  },
  {
   "cell_type": "code",
   "execution_count": 19,
   "id": "geographic-formula",
   "metadata": {
    "scrolled": true
   },
   "outputs": [
    {
     "data": {
      "application/vnd.jupyter.widget-view+json": {
       "model_id": "c7a81c4b34b64433a23bc2f871c06cc8",
       "version_major": 2,
       "version_minor": 0
      },
      "text/plain": [
       "  0%|          | 0/15 [00:00<?, ?it/s]"
      ]
     },
     "metadata": {},
     "output_type": "display_data"
    }
   ],
   "source": [
    "als_model.fit(csr_data_transpose)"
   ]
  },
  {
   "cell_type": "markdown",
   "id": "direct-moisture",
   "metadata": {},
   "source": [
    "### 제가 좋아하는 영화 중 하나인 맨인블랙과 저의 유저아이디 ykb에 대한 벡터를 뽑았습니다."
   ]
  },
  {
   "cell_type": "code",
   "execution_count": 20,
   "id": "distinct-scientist",
   "metadata": {
    "scrolled": true
   },
   "outputs": [
    {
     "name": "stdout",
     "output_type": "stream",
     "text": [
      "슝=3\n"
     ]
    }
   ],
   "source": [
    "ykb, MeninBlack = user_to_idx['ykb'], movie_to_idx['Men in Black (1997)']\n",
    "ykb_vector, MeninBlack_vector = als_model.user_factors[ykb], als_model.item_factors[MeninBlack]\n",
    "\n",
    "print('슝=3')"
   ]
  },
  {
   "cell_type": "code",
   "execution_count": 21,
   "id": "acquired-baking",
   "metadata": {
    "scrolled": true
   },
   "outputs": [
    {
     "data": {
      "text/plain": [
       "array([ 2.19790578e-01, -1.09886885e+00, -7.16196775e-01,  3.54425460e-01,\n",
       "        2.80894518e-01,  5.37232041e-01,  2.54187524e-01,  9.18065608e-02,\n",
       "        5.55480659e-01, -2.95272022e-01,  5.73143773e-02,  1.01621956e-01,\n",
       "       -6.25047028e-01, -1.64370507e-01, -2.09388752e-02, -2.48384550e-01,\n",
       "       -5.38793325e-01,  4.22819525e-01, -3.53986800e-01, -9.35392361e-03,\n",
       "       -2.26437405e-01, -1.29937038e-01,  7.75648952e-01, -2.81162471e-01,\n",
       "        3.72987747e-01,  5.73588669e-01,  4.61037159e-02, -1.96407825e-01,\n",
       "       -4.95271564e-01,  5.47562063e-01,  5.24464212e-02, -6.08492017e-01,\n",
       "        1.33233652e-01,  1.72935203e-01, -7.10373819e-01,  8.79221737e-01,\n",
       "        3.24885398e-01, -1.66777328e-01,  6.56710505e-01,  4.59131569e-01,\n",
       "        2.79026657e-01, -6.58334270e-02, -1.68131053e-01,  1.47500724e-01,\n",
       "        3.46129149e-01,  4.40572679e-01,  2.21618712e-01,  7.14963824e-02,\n",
       "        3.60649675e-01, -5.81205845e-01, -4.27757323e-01,  4.58763570e-01,\n",
       "        1.50751337e-01, -3.90964866e-01, -2.03999683e-01,  2.39956379e-03,\n",
       "        1.70393392e-01,  2.78539181e-01, -4.81356919e-01,  4.65769738e-01,\n",
       "       -4.55944985e-01, -4.52731133e-01, -3.26753289e-01,  1.80712491e-01,\n",
       "       -1.51562825e-01, -6.81484461e-01,  2.95295000e-01,  1.76083639e-01,\n",
       "       -2.08552852e-01, -6.55340314e-01, -2.25117892e-01, -3.29036176e-01,\n",
       "       -4.00837630e-01,  7.75803506e-01,  1.16833888e-01,  4.96554494e-01,\n",
       "        4.84779119e-01, -1.24746136e-01,  3.45397264e-01, -1.34995878e-01,\n",
       "        8.67077557e-04, -4.96820897e-01,  2.85771918e-02,  2.58309960e-01,\n",
       "        6.33177698e-01, -2.65081555e-01, -7.48227477e-01, -3.43442649e-01,\n",
       "       -7.24054873e-01, -3.89368296e-01,  4.99064587e-02,  4.28224862e-01,\n",
       "        8.97089317e-02, -4.71579045e-01,  1.01207577e-01, -5.93823910e-01,\n",
       "       -6.53690146e-03,  1.36591375e-01,  6.62543654e-01,  1.20377734e-01,\n",
       "       -3.40208650e-01, -1.36639206e-02,  2.79422939e-01, -4.38768953e-01,\n",
       "        4.28194255e-01,  3.36689144e-01,  1.12778269e-01,  7.02417865e-02,\n",
       "       -3.21523547e-01,  1.72983974e-01,  2.21971363e-01, -1.93994030e-01,\n",
       "        6.89856261e-02,  6.43897295e-01,  3.28603238e-01, -1.27147317e-01,\n",
       "       -2.85320580e-01,  2.84544248e-02, -2.15805590e-01, -9.08139348e-02,\n",
       "        2.58084655e-01,  3.02232504e-01, -1.99945256e-01, -8.02138895e-02,\n",
       "        2.08393052e-01,  1.36900812e-01,  9.25025344e-01,  5.26878595e-01,\n",
       "        3.28318626e-01, -2.90693909e-01, -1.16211765e-01, -7.07523167e-01,\n",
       "        2.76645064e-01, -1.88467503e-02, -8.27789485e-01, -4.15388733e-01,\n",
       "       -5.45341134e-01,  4.12765980e-01, -3.79933089e-01,  2.48745218e-01,\n",
       "       -3.63178700e-02,  7.60644913e-01,  4.73267078e-01, -4.18431461e-01,\n",
       "       -8.00458014e-01,  1.57828763e-01, -4.29953597e-02, -1.89220667e-01,\n",
       "       -1.91714272e-01,  2.29251131e-01,  4.79787350e-01, -2.40631729e-01,\n",
       "       -1.24545537e-01,  3.57586741e-01, -2.44741559e-01, -8.65526944e-02,\n",
       "        3.91313434e-01,  1.34799838e-01,  3.66295934e-01, -6.98190093e-01,\n",
       "       -5.40302768e-02,  1.27991036e-01, -2.48156190e-01, -4.39228803e-01,\n",
       "        1.03580859e-02,  5.57434782e-02,  4.57862675e-01, -2.03619935e-02,\n",
       "       -1.11669794e-01, -3.87526721e-01, -1.99738979e-01, -9.38265920e-02,\n",
       "        2.10300878e-01, -5.93344152e-01,  2.72091299e-01, -5.41704237e-01,\n",
       "        6.23832226e-01, -3.65125954e-01, -2.89581597e-01,  3.27288248e-02,\n",
       "        3.63439202e-01, -1.52674660e-01,  7.85598934e-01, -5.44387698e-01,\n",
       "        1.68861002e-01,  3.23757231e-01,  3.60828042e-01,  9.70405489e-02,\n",
       "        2.45366812e-01, -3.12967986e-01, -5.05677581e-01,  1.01996720e-01,\n",
       "       -2.04973876e-01, -2.93762058e-01,  1.91803783e-01, -8.29324946e-02,\n",
       "       -7.35102355e-01, -5.00391185e-01, -3.94925177e-02,  7.68606007e-01,\n",
       "        1.56865939e-01,  6.54563606e-02, -8.50894228e-02, -1.28572017e-01,\n",
       "        6.18636787e-01, -8.45488727e-01,  1.23614125e-01, -2.83827335e-01,\n",
       "        1.95824653e-01,  3.56495112e-01, -5.70030689e-01,  7.00613260e-01,\n",
       "       -2.30984345e-01,  4.24299501e-02,  6.64386526e-02, -1.30697265e-01,\n",
       "       -3.81347597e-01, -2.10116476e-01, -1.40892014e-01, -3.51186007e-01,\n",
       "        4.56799030e-01, -2.53979653e-01,  4.44712974e-02, -4.29415971e-01,\n",
       "       -1.99798629e-01,  1.65583774e-01,  3.43064755e-01, -3.31459075e-01,\n",
       "       -1.85710981e-01,  2.83376753e-01,  7.80557275e-01,  3.26209456e-01,\n",
       "       -3.90571296e-01, -4.12140846e-01,  4.02315110e-01, -3.07689488e-01,\n",
       "       -4.09786999e-01, -3.20093066e-01,  2.85289615e-01,  7.40032196e-01,\n",
       "       -4.22368310e-02, -2.17090342e-02, -2.13642165e-01, -9.10748541e-02,\n",
       "        9.53196511e-02, -2.64785826e-01,  2.23385677e-01,  7.74190724e-01,\n",
       "        2.10154906e-01,  1.97205991e-02, -6.33756042e-01, -7.04143405e-01,\n",
       "        3.76224786e-01,  2.06850931e-01,  3.99130136e-01,  7.74410963e-01,\n",
       "       -5.71563952e-02,  6.56975627e-01,  5.46643674e-01,  1.53128207e-02,\n",
       "        1.13900751e-01, -2.99738646e-01,  7.48541877e-02, -3.09211016e-01,\n",
       "        4.58069816e-02, -7.16921985e-01,  1.04210250e-01, -5.18890738e-01,\n",
       "       -2.28775769e-01,  5.33778429e-01,  5.02818882e-01,  7.56901801e-02,\n",
       "        4.14593369e-02,  1.04554392e-01,  8.95171046e-01, -2.42801324e-01,\n",
       "        8.87387916e-02, -1.51528716e-01,  2.07494646e-01, -1.66846216e-01,\n",
       "        6.14300035e-02, -1.06253684e-01, -9.59214449e-01, -1.80110514e-01,\n",
       "       -2.48105749e-01, -1.90600440e-01,  2.90064514e-01,  1.65707901e-01,\n",
       "       -3.74215990e-01,  9.86806750e-02, -3.46516073e-01,  1.52150393e-01,\n",
       "        3.53256941e-01, -4.04736191e-01,  8.08797628e-02,  7.26505667e-02,\n",
       "       -1.23662494e-01,  3.04190338e-01,  5.27792454e-01,  1.37974456e-01],\n",
       "      dtype=float32)"
      ]
     },
     "execution_count": 21,
     "metadata": {},
     "output_type": "execute_result"
    }
   ],
   "source": [
    "ykb_vector"
   ]
  },
  {
   "cell_type": "markdown",
   "id": "still-arizona",
   "metadata": {},
   "source": [
    "### 내적을하니 0.77가 나왔습니다."
   ]
  },
  {
   "cell_type": "code",
   "execution_count": 22,
   "id": "dated-blues",
   "metadata": {
    "scrolled": true
   },
   "outputs": [
    {
     "data": {
      "text/plain": [
       "0.7711379"
      ]
     },
     "execution_count": 22,
     "metadata": {},
     "output_type": "execute_result"
    }
   ],
   "source": [
    "np.dot(ykb_vector, MeninBlack_vector)"
   ]
  },
  {
   "cell_type": "markdown",
   "id": "affecting-explosion",
   "metadata": {},
   "source": [
    "###  제가 좋아하는 영화리스트에 없는 영화중 아무거나를 넣어 제 아이디와 내적을한 결과 매우 낮은 값이 나왔습니다."
   ]
  },
  {
   "cell_type": "code",
   "execution_count": 23,
   "id": "apart-diesel",
   "metadata": {},
   "outputs": [
    {
     "data": {
      "text/plain": [
       "0.0031649247"
      ]
     },
     "execution_count": 23,
     "metadata": {},
     "output_type": "execute_result"
    }
   ],
   "source": [
    "Indian = movie_to_idx['One Little Indian (1973)']\n",
    "Indian_vector = als_model.item_factors[Indian]\n",
    "np.dot(ykb_vector, Indian_vector)"
   ]
  },
  {
   "cell_type": "markdown",
   "id": "molecular-reservoir",
   "metadata": {},
   "source": [
    "### 스타워즈와 유사한 영화 리스트를 뽑았습니다."
   ]
  },
  {
   "cell_type": "code",
   "execution_count": 24,
   "id": "lovely-colonial",
   "metadata": {},
   "outputs": [
    {
     "data": {
      "text/plain": [
       "['Star Wars: Episode IV - A New Hope (1977)',\n",
       " 'Star Wars: Episode V - The Empire Strikes Back (1980)',\n",
       " 'Reckless (1995)',\n",
       " 'Desert Blue (1999)',\n",
       " 'Bushwhacked (1995)',\n",
       " 'Zachariah (1971)',\n",
       " 'Sunset Strip (2000)',\n",
       " 'Clean Slate (Coup de Torchon) (1981)',\n",
       " 'Closer You Get, The (2000)',\n",
       " 'Boys (1996)',\n",
       " 'Hav Plenty (1997)',\n",
       " 'Deadtime Stories (1987)',\n",
       " 'Just the Ticket (1999)',\n",
       " 'Gold Diggers: The Secret of Bear Mountain (1995)',\n",
       " 'Match, The (1999)']"
      ]
     },
     "execution_count": 24,
     "metadata": {},
     "output_type": "execute_result"
    }
   ],
   "source": [
    "favorite_movie = 'Star Wars: Episode IV - A New Hope (1977)'\n",
    "movie_id = movie_to_idx[favorite_movie]\n",
    "similar_movie = als_model.similar_items(movie_id, N=15)\n",
    "idx_to_movie = {v:k for k,v in movie_to_idx.items()}\n",
    "[idx_to_movie[i[0]] for i in similar_movie]"
   ]
  },
  {
   "cell_type": "markdown",
   "id": "systematic-interval",
   "metadata": {},
   "source": [
    "### 제가 좋아할만한 영화 리스트를 받았습니다."
   ]
  },
  {
   "cell_type": "code",
   "execution_count": 25,
   "id": "invisible-symposium",
   "metadata": {},
   "outputs": [
    {
     "data": {
      "text/plain": [
       "['Jurassic Park (1993)',\n",
       " 'Star Wars: Episode I - The Phantom Menace (1999)',\n",
       " 'Raiders of the Lost Ark (1981)',\n",
       " 'Terminator 2: Judgment Day (1991)',\n",
       " 'Matrix, The (1999)',\n",
       " 'Forrest Gump (1994)',\n",
       " 'Galaxy Quest (1999)',\n",
       " 'Face/Off (1997)',\n",
       " 'Wizard of Oz, The (1939)',\n",
       " 'Superman (1978)',\n",
       " 'Close Encounters of the Third Kind (1977)',\n",
       " \"One Flew Over the Cuckoo's Nest (1975)\",\n",
       " 'Total Recall (1990)',\n",
       " 'Independence Day (ID4) (1996)',\n",
       " 'Dr. Strangelove or: How I Learned to Stop Worrying and Love the Bomb (1963)',\n",
       " '2001: A Space Odyssey (1968)',\n",
       " 'Babe (1995)',\n",
       " 'Remember the Titans (2000)',\n",
       " 'Back to the Future (1985)',\n",
       " 'Willy Wonka and the Chocolate Factory (1971)']"
      ]
     },
     "execution_count": 25,
     "metadata": {},
     "output_type": "execute_result"
    }
   ],
   "source": [
    "user = user_to_idx['ykb']\n",
    "movie_recommended = als_model.recommend(user, csr_data, N=20, filter_already_liked_items=True)\n",
    "[idx_to_movie[i[0]] for i in movie_recommended]"
   ]
  },
  {
   "cell_type": "markdown",
   "id": "typical-rhythm",
   "metadata": {},
   "source": [
    "# 회고"
   ]
  },
  {
   "cell_type": "markdown",
   "id": "addressed-barcelona",
   "metadata": {},
   "source": [
    "* 제가 훈련시킨 모델을 기반으로 스타워즈(SF,액션,판타지)영화와 비슷한 영화를 뽑아봤습니다. 그결과 스타워즈의 다른 시리즈물이 나오고 터미네이터, 백투더퓨처, 매트릭스 등 대부분의 추천영화가 SF, 액션 판타지 영화가 나와 만족스런 결과가 나왔습니다.\n",
    "\n",
    "* 제가 좋아하는영화인 SF,판타지,액션영화들을 목록에 넣고 모델을 훈련시킨다음 제가 좋아할많나 영화 리스트를 추천받아 봤습니다. 그 결과 쥬라기공원, 터미네이터, 매트릭스 등 SF, 판타지, 액션류의 영화를 잘 추천받았습니다.\n",
    "\n",
    "* 사용자와 아이템 벡터 내적수치를 올리기 위해 사용자와 아이템의 차원수를 계속 올려서 0.77까지 올려봤습니다. 그 결과 제가 의도했던 sf, 판타지, 액션 영화들만 추천하는 것이 아니라 다른 종류의 영화가 추천을 했습니다. 왜그런가 생각해보니 사용자가 sf물을 좋아한다고 sf영화만 보지않을 수 있고 연기자, 감독 등 여러가지 요소로 영화 선택을 할 수 있다고 생각합니다. 그래서 영화 추천이 좀더 다양한 장르로 추천이 됐다고 생각합니다.   "
   ]
  }
 ],
 "metadata": {
  "kernelspec": {
   "display_name": "Python 3",
   "language": "python",
   "name": "python3"
  },
  "language_info": {
   "codemirror_mode": {
    "name": "ipython",
    "version": 3
   },
   "file_extension": ".py",
   "mimetype": "text/x-python",
   "name": "python",
   "nbconvert_exporter": "python",
   "pygments_lexer": "ipython3",
   "version": "3.7.9"
  }
 },
 "nbformat": 4,
 "nbformat_minor": 5
}
