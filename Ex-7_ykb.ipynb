{
 "cells": [
  {
   "cell_type": "markdown",
   "id": "cross-killer",
   "metadata": {},
   "source": [
    "# Ex8 영화리뷰 텍스트 감성분석하기"
   ]
  },
  {
   "cell_type": "markdown",
   "id": "occupied-ranking",
   "metadata": {},
   "source": [
    "## 필요 라이브러리 또는 모듈 입력"
   ]
  },
  {
   "cell_type": "code",
   "execution_count": 1,
   "id": "deluxe-customs",
   "metadata": {
    "scrolled": true
   },
   "outputs": [],
   "source": [
    "import pandas as pd\n",
    "import urllib.request\n",
    "%matplotlib inline\n",
    "import matplotlib.pyplot as plt\n",
    "import re\n",
    "from konlpy.tag import Okt\n",
    "from tensorflow import keras\n",
    "from tensorflow.keras.preprocessing.text import Tokenizer\n",
    "import numpy as np\n",
    "from tensorflow.keras.preprocessing.sequence import pad_sequences\n",
    "from collections import Counter\n",
    "import missingno as msno\n",
    "# 데이터를 읽어봅시다. \n",
    "train_data = pd.read_table('~/aiffel/sentiment_classification/data/ratings_train.txt')\n",
    "test_data = pd.read_table('~/aiffel/sentiment_classification/data/ratings_test.txt')\n",
    "\n"
   ]
  },
  {
   "cell_type": "markdown",
   "id": "median-hebrew",
   "metadata": {},
   "source": [
    "## 네이버 영화리뷰데이터 확인하기."
   ]
  },
  {
   "cell_type": "markdown",
   "id": "organizational-silly",
   "metadata": {},
   "source": [
    "### 데이터 구성 확인"
   ]
  },
  {
   "cell_type": "code",
   "execution_count": 2,
   "id": "behind-bronze",
   "metadata": {
    "scrolled": true
   },
   "outputs": [
    {
     "data": {
      "text/html": [
       "<div>\n",
       "<style scoped>\n",
       "    .dataframe tbody tr th:only-of-type {\n",
       "        vertical-align: middle;\n",
       "    }\n",
       "\n",
       "    .dataframe tbody tr th {\n",
       "        vertical-align: top;\n",
       "    }\n",
       "\n",
       "    .dataframe thead th {\n",
       "        text-align: right;\n",
       "    }\n",
       "</style>\n",
       "<table border=\"1\" class=\"dataframe\">\n",
       "  <thead>\n",
       "    <tr style=\"text-align: right;\">\n",
       "      <th></th>\n",
       "      <th>id</th>\n",
       "      <th>document</th>\n",
       "      <th>label</th>\n",
       "    </tr>\n",
       "  </thead>\n",
       "  <tbody>\n",
       "    <tr>\n",
       "      <th>0</th>\n",
       "      <td>9976970</td>\n",
       "      <td>아 더빙.. 진짜 짜증나네요 목소리</td>\n",
       "      <td>0</td>\n",
       "    </tr>\n",
       "    <tr>\n",
       "      <th>1</th>\n",
       "      <td>3819312</td>\n",
       "      <td>흠...포스터보고 초딩영화줄....오버연기조차 가볍지 않구나</td>\n",
       "      <td>1</td>\n",
       "    </tr>\n",
       "    <tr>\n",
       "      <th>2</th>\n",
       "      <td>10265843</td>\n",
       "      <td>너무재밓었다그래서보는것을추천한다</td>\n",
       "      <td>0</td>\n",
       "    </tr>\n",
       "    <tr>\n",
       "      <th>3</th>\n",
       "      <td>9045019</td>\n",
       "      <td>교도소 이야기구먼 ..솔직히 재미는 없다..평점 조정</td>\n",
       "      <td>0</td>\n",
       "    </tr>\n",
       "    <tr>\n",
       "      <th>4</th>\n",
       "      <td>6483659</td>\n",
       "      <td>사이몬페그의 익살스런 연기가 돋보였던 영화!스파이더맨에서 늙어보이기만 했던 커스틴 ...</td>\n",
       "      <td>1</td>\n",
       "    </tr>\n",
       "  </tbody>\n",
       "</table>\n",
       "</div>"
      ],
      "text/plain": [
       "         id                                           document  label\n",
       "0   9976970                                아 더빙.. 진짜 짜증나네요 목소리      0\n",
       "1   3819312                  흠...포스터보고 초딩영화줄....오버연기조차 가볍지 않구나      1\n",
       "2  10265843                                  너무재밓었다그래서보는것을추천한다      0\n",
       "3   9045019                      교도소 이야기구먼 ..솔직히 재미는 없다..평점 조정      0\n",
       "4   6483659  사이몬페그의 익살스런 연기가 돋보였던 영화!스파이더맨에서 늙어보이기만 했던 커스틴 ...      1"
      ]
     },
     "execution_count": 2,
     "metadata": {},
     "output_type": "execute_result"
    }
   ],
   "source": [
    "train_data.head()"
   ]
  },
  {
   "cell_type": "markdown",
   "id": "environmental-upset",
   "metadata": {},
   "source": [
    "* train 데이터와 test 데이터의 컬럼은 같고 id, document, label이 있음을 확인할 수 있습니다."
   ]
  },
  {
   "cell_type": "markdown",
   "id": "centered-moderator",
   "metadata": {},
   "source": [
    "### 결측치 확인"
   ]
  },
  {
   "cell_type": "markdown",
   "id": "stuffed-acceptance",
   "metadata": {},
   "source": [
    "* mnno.matrix 메소드를 통해 결측치를 시각화 해봤습니다."
   ]
  },
  {
   "cell_type": "code",
   "execution_count": 3,
   "id": "strange-surprise",
   "metadata": {
    "scrolled": true
   },
   "outputs": [
    {
     "data": {
      "text/plain": [
       "<AxesSubplot:>"
      ]
     },
     "execution_count": 3,
     "metadata": {},
     "output_type": "execute_result"
    },
    {
     "data": {
      "image/png": "[encoded data removed]",
      "text/plain": [
       "<Figure size 1800x720 with 2 Axes>"
      ]
     },
     "metadata": {
      "needs_background": "light"
     },
     "output_type": "display_data"
    }
   ],
   "source": [
    "data = pd.concat((train_data, test_data), axis=0)\n",
    "msno.matrix(data)"
   ]
  },
  {
   "cell_type": "markdown",
   "id": "polish-disaster",
   "metadata": {},
   "source": [
    "* 데이터가 많은 것에 비해 결측치의 양이 적어 눈으로 확인할 수 없었습니다. 그래서 pd.isnull 메소드를 통해 직접 확인해봤습니다."
   ]
  },
  {
   "cell_type": "code",
   "execution_count": 4,
   "id": "parliamentary-latino",
   "metadata": {},
   "outputs": [
    {
     "name": "stdout",
     "output_type": "stream",
     "text": [
      "id : 0\n",
      "document : 8\n",
      "label : 0\n"
     ]
    }
   ],
   "source": [
    "for c in data.columns:\n",
    "    print('{} : {}'.format(c, len(data.loc[pd.isnull(data[c]), c].values)))"
   ]
  },
  {
   "cell_type": "markdown",
   "id": "specified-projector",
   "metadata": {},
   "source": [
    "* document에서 8개의 결측치가 있는 것을 확인하였습니다."
   ]
  },
  {
   "cell_type": "markdown",
   "id": "victorian-separate",
   "metadata": {},
   "source": [
    "### 중복값 확인"
   ]
  },
  {
   "cell_type": "markdown",
   "id": "focal-volleyball",
   "metadata": {},
   "source": [
    "* duplicated 함수를 통해 각열마다 id와 document 값의 중복값이 있는지 확인해 보겠습니다."
   ]
  },
  {
   "cell_type": "code",
   "execution_count": 5,
   "id": "subjective-coach",
   "metadata": {
    "scrolled": true
   },
   "outputs": [
    {
     "name": "stdout",
     "output_type": "stream",
     "text": [
      "False    200000\n",
      "dtype: int64\n",
      "False    194544\n",
      "True       5456\n",
      "dtype: int64\n"
     ]
    }
   ],
   "source": [
    "print(data.duplicated([\"id\"]).value_counts())\n",
    "print(data.duplicated([\"document\"]).value_counts())"
   ]
  },
  {
   "cell_type": "markdown",
   "id": "isolated-tradition",
   "metadata": {},
   "source": [
    "* document에서 5456개의 중복값이 있는 것을 볼 수 있습니다."
   ]
  },
  {
   "cell_type": "code",
   "execution_count": 6,
   "id": "delayed-translator",
   "metadata": {},
   "outputs": [],
   "source": [
    "raw=data['document'].tolist()"
   ]
  },
  {
   "cell_type": "markdown",
   "id": "equal-department",
   "metadata": {},
   "source": [
    "## 데이터 로더 구성을 통한 데이터 전처리\n",
    "\n",
    "* drop_duplicates로 데이터의 중복 제거.\n",
    "* dripna 로 결측치제거\n",
    "* mecab을 활용한 한국어 토큰화\n",
    "* 리스트 컴프리헨션을 활용한 불용어 제거\n",
    "* word to index 구성\n",
    "* 텍스트 스트링을 사전 인덱스 스트링으로 변환."
   ]
  },
  {
   "cell_type": "code",
   "execution_count": 7,
   "id": "suited-norman",
   "metadata": {},
   "outputs": [],
   "source": [
    "from konlpy.tag import Mecab\n",
    "tokenizer = Mecab()\n",
    "stopwords = ['의','가','이','은','들','는','좀','잘','걍','과','도','를','으로','자','에','와','한','하다']\n",
    "\n",
    "def load_data(train_data, test_data, num_words=10000):\n",
    "    train_data.drop_duplicates(subset=['document'], inplace=True)\n",
    "    train_data = train_data.dropna(how = 'any') \n",
    "    test_data.drop_duplicates(subset=['document'], inplace=True)\n",
    "    test_data = test_data.dropna(how = 'any') \n",
    "    \n",
    "    X_train = []\n",
    "    for sentence in train_data['document']:\n",
    "        temp_X = tokenizer.morphs(sentence) # 토큰화\n",
    "        temp_X = [word for word in temp_X if not word in stopwords] # 불용어 제거\n",
    "        X_train.append(temp_X)\n",
    "\n",
    "    X_test = []\n",
    "    for sentence in test_data['document']:\n",
    "        temp_X = tokenizer.morphs(sentence) # 토큰화\n",
    "        temp_X = [word for word in temp_X if not word in stopwords] # 불용어 제거\n",
    "        X_test.append(temp_X)\n",
    "    \n",
    "    words = np.concatenate(X_train).tolist()\n",
    "    counter = Counter(words)\n",
    "    counter = counter.most_common(10000-4)\n",
    "    vocab = ['', '', '', ''] + [key for key, _ in counter]\n",
    "    word_to_index = {word:index for index, word in enumerate(vocab)}\n",
    "        \n",
    "    def wordlist_to_indexlist(wordlist):\n",
    "        return [word_to_index[word] if word in word_to_index else word_to_index[''] for word in wordlist]\n",
    "        \n",
    "    X_train = list(map(wordlist_to_indexlist, X_train))\n",
    "    X_test = list(map(wordlist_to_indexlist, X_test))\n",
    "        \n",
    "    return X_train, np.array(list(train_data['label'])), X_test, np.array(list(test_data['label'])), word_to_index\n",
    "    \n",
    "X_train, y_train, X_test, y_test, word_to_index = load_data(train_data, test_data)\n",
    "index_to_word = {index:word for word, index in word_to_index.items()}"
   ]
  },
  {
   "cell_type": "markdown",
   "id": "opposed-genre",
   "metadata": {},
   "source": [
    "## 엔코더 디코더 함수 만들기"
   ]
  },
  {
   "cell_type": "code",
   "execution_count": 8,
   "id": "stopped-spread",
   "metadata": {},
   "outputs": [],
   "source": [
    "# 문장 1개를 활용할 딕셔너리와 함께 주면, 단어 인덱스 리스트 벡터로 변환해 주는 함수입니다. \n",
    "# 단, 모든 문장은 <BOS>로 시작하는 것으로 합니다. \n",
    "def get_encoded_sentence(sentence, word_to_index):\n",
    "    return [word_to_index['<BOS>']]+[word_to_index[word] if word in word_to_index else word_to_index['<UNK>'] for word in sentence.split()]\n",
    "\n",
    "# 여러 개의 문장 리스트를 한꺼번에 단어 인덱스 리스트 벡터로 encode해 주는 함수입니다. \n",
    "def get_encoded_sentences(sentences, word_to_index):\n",
    "    return [get_encoded_sentence(sentence, word_to_index) for sentence in sentences]\n",
    "\n",
    "# 숫자 벡터로 encode된 문장을 원래대로 decode하는 함수입니다. \n",
    "def get_decoded_sentence(encoded_sentence, index_to_word):\n",
    "    return ' '.join(index_to_word[index] if index in index_to_word else '<UNK>' for index in encoded_sentence[1:])  #[1:]를 통해 <BOS>를 제외\n",
    "\n",
    "# 여러 개의 숫자 벡터로 encode된 문장을 한꺼번에 원래대로 decode하는 함수입니다. \n",
    "def get_decoded_sentences(encoded_sentences, index_to_word):\n",
    "    return [get_decoded_sentence(encoded_sentence, index_to_word) for encoded_sentence in encoded_sentences]"
   ]
  },
  {
   "cell_type": "markdown",
   "id": "unsigned-studio",
   "metadata": {},
   "source": [
    "## 문장의 최대 길이 조절하기\n",
    "* 처음에는 단어 갯수의 평균에서 2배의 표준편차를 더하여 최대길이를 설정해본 결과 전체문장의 93프로를 포함된다고 나왔습니다. 그래서 95프로 이상 포함하기위해 표준편차의 2.5배를 평균에서 더한 값을 길이의 최대값으로 결정했습니다."
   ]
  },
  {
   "cell_type": "code",
   "execution_count": 9,
   "id": "decent-brazilian",
   "metadata": {},
   "outputs": [
    {
     "name": "stdout",
     "output_type": "stream",
     "text": [
      "문장길이 평균 :  15.96940191154864\n",
      "문장길이 최대 :  116\n",
      "문장길이 표준편차 :  12.843571191092\n",
      "pad_sequences maxlen :  48\n",
      "전체 문장의 0.9548784420929768%가 maxlen 설정값 이내에 포함됩니다. \n"
     ]
    }
   ],
   "source": [
    "total_data_text = list(X_train) + list(X_test)\n",
    "# 텍스트데이터 문장길이의 리스트를 생성한 후\n",
    "num_tokens = [len(tokens) for tokens in total_data_text]\n",
    "num_tokens = np.array(num_tokens)\n",
    "# 문장길이의 평균값, 최대값, 표준편차를 계산해 본다. \n",
    "print('문장길이 평균 : ', np.mean(num_tokens))\n",
    "print('문장길이 최대 : ', np.max(num_tokens))\n",
    "print('문장길이 표준편차 : ', np.std(num_tokens))\n",
    "\n",
    "# 예를들어, 최대 길이를 (평균 + 2*표준편차)로 한다면,  \n",
    "max_tokens = np.mean(num_tokens) + 2.5 * np.std(num_tokens)\n",
    "maxlen = int(max_tokens)\n",
    "print('pad_sequences maxlen : ', maxlen)\n",
    "print('전체 문장의 {}%가 maxlen 설정값 이내에 포함됩니다. '.format(np.sum(num_tokens < max_tokens) / len(num_tokens)))"
   ]
  },
  {
   "cell_type": "code",
   "execution_count": 10,
   "id": "governmental-headline",
   "metadata": {
    "scrolled": false
   },
   "outputs": [
    {
     "data": {
      "image/png": "[encoded data removed]",
      "text/plain": [
       "<Figure size 432x288 with 1 Axes>"
      ]
     },
     "metadata": {
      "needs_background": "light"
     },
     "output_type": "display_data"
    }
   ],
   "source": [
    "bins=[10,20,30,40,50,60,70,80]\n",
    "plt.hist(num_tokens,bins=bins)\n",
    "plt.title('histogram of num_tokens', fontsize=20)\n",
    "plt.xlabel('length of sentence', fontsize=20)\n",
    "plt.ylabel('frequency',fontsize=20)\n",
    "plt.show()"
   ]
  },
  {
   "cell_type": "markdown",
   "id": "copyrighted-milwaukee",
   "metadata": {},
   "source": [
    "* 문장길이의 히스토그램을 그려봤습니다. 위에 계산한것처럼 문장의 길이가 15인경우가 가장많았고 문장의 길이가 길어질수록 빈도수가 exponential하게 줄어듬을 볼 수 있습니다."
   ]
  },
  {
   "cell_type": "markdown",
   "id": "marine-farmer",
   "metadata": {},
   "source": [
    "### 딕셔너리 가공 및 패딩하기\n",
    "* 딕셔너리 앞에 관례적으로 pad, bos, unk, unused를 넣어준다."
   ]
  },
  {
   "cell_type": "code",
   "execution_count": 11,
   "id": "pregnant-holder",
   "metadata": {},
   "outputs": [],
   "source": [
    "word_to_index[\"<PAD>\"] = 0\n",
    "word_to_index[\"<BOS>\"] = 1\n",
    "word_to_index[\"<UNK>\"] = 2  # unknown\n",
    "word_to_index[\"<UNUSED>\"] = 3\n",
    "\n",
    "index_to_word[0] = \"<PAD>\"\n",
    "index_to_word[1] = \"<BOS>\"\n",
    "index_to_word[2] = \"<UNK>\"\n",
    "index_to_word[3] = \"<UNUSED>\""
   ]
  },
  {
   "cell_type": "markdown",
   "id": "wrapped-master",
   "metadata": {},
   "source": [
    "* padding을 할때 풀잎스쿨에서 post는 뒤로갈 수록 feature가 희미해지는 현상이 생긴다고하여 rnn은 뒤의 데이터가 중요하다고하여 pre 패딩이 post 패딩보다 좋은 성능을 보인다고합니다. 그래서 pre로 설정했습니다."
   ]
  },
  {
   "cell_type": "code",
   "execution_count": 12,
   "id": "activated-wisconsin",
   "metadata": {},
   "outputs": [
    {
     "name": "stdout",
     "output_type": "stream",
     "text": [
      "(146182, 48)\n"
     ]
    }
   ],
   "source": [
    "x_train = keras.preprocessing.sequence.pad_sequences(X_train,\n",
    "                                                        value=word_to_index[\"<PAD>\"],\n",
    "                                                        padding='pre', # 혹은 'pre'\n",
    "                                                        maxlen=maxlen)\n",
    "\n",
    "x_test = keras.preprocessing.sequence.pad_sequences(X_test,\n",
    "                                                       value=word_to_index[\"<PAD>\"],\n",
    "                                                       padding='pre', # 혹은 'pre'\n",
    "                                                       maxlen=maxlen)\n",
    "\n",
    "print(x_train.shape)"
   ]
  },
  {
   "cell_type": "markdown",
   "id": "disturbed-electricity",
   "metadata": {},
   "source": [
    "## 3가지 모델로 학습하기."
   ]
  },
  {
   "cell_type": "markdown",
   "id": "amended-advertiser",
   "metadata": {},
   "source": [
    "### LSTM 적용해보기."
   ]
  },
  {
   "cell_type": "code",
   "execution_count": 13,
   "id": "adult-space",
   "metadata": {},
   "outputs": [
    {
     "name": "stdout",
     "output_type": "stream",
     "text": [
      "Model: \"sequential\"\n",
      "_________________________________________________________________\n",
      "Layer (type)                 Output Shape              Param #   \n",
      "=================================================================\n",
      "embedding (Embedding)        (None, None, 16)          160000    \n",
      "_________________________________________________________________\n",
      "lstm (LSTM)                  (None, 8)                 800       \n",
      "_________________________________________________________________\n",
      "dense (Dense)                (None, 8)                 72        \n",
      "_________________________________________________________________\n",
      "dense_1 (Dense)              (None, 1)                 9         \n",
      "=================================================================\n",
      "Total params: 160,881\n",
      "Trainable params: 160,881\n",
      "Non-trainable params: 0\n",
      "_________________________________________________________________\n"
     ]
    }
   ],
   "source": [
    "vocab_size = 10000    # 어휘 사전의 크기입니다(10,000개의 단어)\n",
    "word_vector_dim = 16  # 워드 벡터의 차원 수 (변경 가능한 하이퍼파라미터)\n",
    "# model 설계\n",
    "model = keras.Sequential()\n",
    "model.add(keras.layers.Embedding(vocab_size, word_vector_dim, input_shape = (None, )))\n",
    "model.add(keras.layers.LSTM(8))# default로 activation은 tanh, rec activation은 sigmoid를 사용합니다.\n",
    "model.add(keras.layers.Dense(8, activation = 'relu'))# 출력의 차원을 양의 정수로 받습니다.\n",
    "model.add(keras.layers.Dense(1, activation = 'sigmoid'))# 최종 출력은 긍정(1) 혹은 부정(0)의 숫자로 sigmoid를 사용합니다.\n",
    "model.summary()\n"
   ]
  },
  {
   "cell_type": "markdown",
   "id": "functional-makeup",
   "metadata": {},
   "source": [
    "### 훈련데이터와 검증데이터를 나눴습니다."
   ]
  },
  {
   "cell_type": "code",
   "execution_count": 14,
   "id": "incredible-rubber",
   "metadata": {},
   "outputs": [
    {
     "name": "stdout",
     "output_type": "stream",
     "text": [
      "(136182, 48)\n",
      "(136182,)\n"
     ]
    }
   ],
   "source": [
    "x_val = x_train[:10000]# 인덱싱을 활용하여 x__train의 10000건의 데이터를 분리합니다.\n",
    "y_val = y_train[:10000]\n",
    "\n",
    "# validation set을 제외한 나머지 15000건\n",
    "partial_x_train = x_train[10000:]# 인덱싱을 활용하여 분리하고 남은 데이터를 x_train으로 사용합니다.\n",
    "partial_y_train = y_train[10000:]\n",
    "\n",
    "print(partial_x_train.shape)\n",
    "print(partial_y_train.shape)"
   ]
  },
  {
   "cell_type": "markdown",
   "id": "blank-producer",
   "metadata": {},
   "source": [
    "### 콜벡 함수로 early stop을 적용하고 모델을 훈련시켰습니다."
   ]
  },
  {
   "cell_type": "code",
   "execution_count": 15,
   "id": "collectible-stations",
   "metadata": {},
   "outputs": [
    {
     "name": "stdout",
     "output_type": "stream",
     "text": [
      "Epoch 1/20\n",
      "266/266 [==============================] - 6s 13ms/step - loss: 0.5892 - accuracy: 0.6949 - val_loss: 0.3604 - val_accuracy: 0.8437\n",
      "Epoch 2/20\n",
      "266/266 [==============================] - 3s 10ms/step - loss: 0.3429 - accuracy: 0.8575 - val_loss: 0.3398 - val_accuracy: 0.8524\n",
      "Epoch 3/20\n",
      "266/266 [==============================] - 3s 10ms/step - loss: 0.3141 - accuracy: 0.8701 - val_loss: 0.3370 - val_accuracy: 0.8541\n",
      "Epoch 4/20\n",
      "266/266 [==============================] - 3s 10ms/step - loss: 0.3017 - accuracy: 0.8765 - val_loss: 0.3379 - val_accuracy: 0.8532\n",
      "Epoch 5/20\n",
      "266/266 [==============================] - 3s 10ms/step - loss: 0.2912 - accuracy: 0.8813 - val_loss: 0.3388 - val_accuracy: 0.8536\n",
      "Epoch 6/20\n",
      "266/266 [==============================] - 3s 10ms/step - loss: 0.2850 - accuracy: 0.8828 - val_loss: 0.3389 - val_accuracy: 0.8536\n",
      "Epoch 00006: early stopping\n"
     ]
    }
   ],
   "source": [
    "model.compile(optimizer='adam',# optimizer는 Adam으로,\n",
    "              loss='binary_crossentropy',#이진분류이기 때문에 binary_crossentrophy로,\n",
    "              metrics=['accuracy'])# metric은 accuracy를 기준으로 학습합니다.\n",
    "              \n",
    "epochs=20  # 몇 epoch를 훈련하면 좋을지 결과를 보면서 바꾸어 봅시다. \n",
    "early_stop = keras.callbacks.EarlyStopping(monitor='val_accuracy', min_delta=0, patience=3, verbose=1)\n",
    "\n",
    "history = model.fit(partial_x_train,\n",
    "                    partial_y_train,\n",
    "                    epochs=epochs,\n",
    "                    callbacks=[early_stop],\n",
    "                    batch_size=512,\n",
    "                    validation_data=(x_val, y_val),\n",
    "                    verbose=1)"
   ]
  },
  {
   "cell_type": "code",
   "execution_count": 16,
   "id": "identical-austria",
   "metadata": {},
   "outputs": [
    {
     "name": "stdout",
     "output_type": "stream",
     "text": [
      "dict_keys(['loss', 'accuracy', 'val_loss', 'val_accuracy'])\n"
     ]
    }
   ],
   "source": [
    "history_dict = history.history\n",
    "print(history_dict.keys()) # epoch에 따른 그래프를 그려볼 수 있는 항목들"
   ]
  },
  {
   "cell_type": "markdown",
   "id": "clean-format",
   "metadata": {},
   "source": [
    "### 테스트 정확도가 0.848이 나왔습니다."
   ]
  },
  {
   "cell_type": "code",
   "execution_count": 17,
   "id": "unlimited-nashville",
   "metadata": {},
   "outputs": [
    {
     "name": "stdout",
     "output_type": "stream",
     "text": [
      "1537/1537 - 5s - loss: 0.3521 - accuracy: 0.8480\n",
      "[0.3521021008491516, 0.8479768633842468]\n"
     ]
    }
   ],
   "source": [
    "results = model.evaluate(x_test,  y_test, verbose=2)\n",
    "\n",
    "print(results)"
   ]
  },
  {
   "cell_type": "markdown",
   "id": "visible-absorption",
   "metadata": {},
   "source": [
    "### 훈련데이터와 검증데이터의 로스와 정확도에 대한 그래프를 그려봤습니다."
   ]
  },
  {
   "cell_type": "code",
   "execution_count": 18,
   "id": "funky-farming",
   "metadata": {},
   "outputs": [
    {
     "data": {
      "image/png": "[encoded data removed]",
      "text/plain": [
       "<Figure size 432x288 with 1 Axes>"
      ]
     },
     "metadata": {
      "needs_background": "light"
     },
     "output_type": "display_data"
    }
   ],
   "source": [
    "import matplotlib.pyplot as plt\n",
    "\n",
    "acc = history_dict['accuracy']\n",
    "val_acc = history_dict['val_accuracy']\n",
    "loss = history_dict['loss']\n",
    "val_loss = history_dict['val_loss']\n",
    "\n",
    "epochs = range(1, len(acc) + 1)\n",
    "\n",
    "# \"bo\"는 \"파란색 점\"입니다\n",
    "plt.plot(epochs, loss, 'bo', label='Training loss')\n",
    "# b는 \"파란 실선\"입니다\n",
    "plt.plot(epochs, val_loss, 'b', label='Validation loss')\n",
    "plt.title('Training and validation loss')\n",
    "plt.xlabel('Epochs')\n",
    "plt.ylabel('Loss')\n",
    "plt.legend()\n",
    "\n",
    "plt.show()"
   ]
  },
  {
   "cell_type": "code",
   "execution_count": 19,
   "id": "random-avenue",
   "metadata": {},
   "outputs": [
    {
     "data": {
      "image/png": "[encoded data removed]",
      "text/plain": [
       "<Figure size 432x288 with 1 Axes>"
      ]
     },
     "metadata": {
      "needs_background": "light"
     },
     "output_type": "display_data"
    }
   ],
   "source": [
    "plt.clf()   # 그림을 초기화합니다\n",
    "\n",
    "plt.plot(epochs, acc, 'bo', label='Training acc')\n",
    "plt.plot(epochs, val_acc, 'b', label='Validation acc')\n",
    "plt.title('Training and validation accuracy')\n",
    "plt.xlabel('Epochs')\n",
    "plt.ylabel('Accuracy')\n",
    "plt.legend()\n",
    "\n",
    "plt.show()"
   ]
  },
  {
   "cell_type": "markdown",
   "id": "spread-blair",
   "metadata": {},
   "source": [
    "### 1-D CNN 모델 적용하기"
   ]
  },
  {
   "cell_type": "markdown",
   "id": "separated-biodiversity",
   "metadata": {},
   "source": [
    "* 1D CNN도 하나의 적용할 수 있는 모델이기 때문에 적용해 봤습니다."
   ]
  },
  {
   "cell_type": "code",
   "execution_count": 20,
   "id": "vital-south",
   "metadata": {
    "scrolled": false
   },
   "outputs": [
    {
     "name": "stdout",
     "output_type": "stream",
     "text": [
      "Model: \"sequential_1\"\n",
      "_________________________________________________________________\n",
      "Layer (type)                 Output Shape              Param #   \n",
      "=================================================================\n",
      "embedding_1 (Embedding)      (None, None, 32)          320000    \n",
      "_________________________________________________________________\n",
      "conv1d (Conv1D)              (None, None, 16)          3600      \n",
      "_________________________________________________________________\n",
      "max_pooling1d (MaxPooling1D) (None, None, 16)          0         \n",
      "_________________________________________________________________\n",
      "conv1d_1 (Conv1D)            (None, None, 16)          1808      \n",
      "_________________________________________________________________\n",
      "global_max_pooling1d (Global (None, 16)                0         \n",
      "_________________________________________________________________\n",
      "dense_2 (Dense)              (None, 8)                 136       \n",
      "_________________________________________________________________\n",
      "dense_3 (Dense)              (None, 1)                 9         \n",
      "=================================================================\n",
      "Total params: 325,553\n",
      "Trainable params: 325,553\n",
      "Non-trainable params: 0\n",
      "_________________________________________________________________\n"
     ]
    }
   ],
   "source": [
    "vocab_size2 = 10000  # 어휘 사전의 크기입니다(10개의 단어)\n",
    "word_vector_dim2 = 32  # 단어 하나를 표현하는 임베딩 벡터의 차원 수입니다. \n",
    "\n",
    "model2 = keras.Sequential()\n",
    "model2.add(keras.layers.Embedding(vocab_size2, word_vector_dim2, input_shape=(None,)))\n",
    "model2.add(keras.layers.Conv1D(16, 7, activation='relu'))\n",
    "model2.add(keras.layers.MaxPooling1D(5))\n",
    "model2.add(keras.layers.Conv1D(16, 7, activation='relu'))\n",
    "model2.add(keras.layers.GlobalMaxPooling1D())\n",
    "model2.add(keras.layers.Dense(8, activation='relu'))\n",
    "model2.add(keras.layers.Dense(1, activation='sigmoid'))  # 최종 출력은 긍정/부정을 나타내는 1dim 입니다.\n",
    "\n",
    "model2.summary()"
   ]
  },
  {
   "cell_type": "code",
   "execution_count": 21,
   "id": "still-conversion",
   "metadata": {},
   "outputs": [],
   "source": [
    "model2.compile(optimizer='adam',\n",
    "              loss='binary_crossentropy',\n",
    "              metrics=['accuracy'])"
   ]
  },
  {
   "cell_type": "markdown",
   "id": "executed-printing",
   "metadata": {},
   "source": [
    "###  early stop을 적용하여 훈련했습니다."
   ]
  },
  {
   "cell_type": "code",
   "execution_count": 22,
   "id": "fossil-neighbor",
   "metadata": {
    "scrolled": true
   },
   "outputs": [
    {
     "name": "stdout",
     "output_type": "stream",
     "text": [
      "Epoch 1/20\n",
      "266/266 [==============================] - 8s 21ms/step - loss: 0.5967 - accuracy: 0.6542 - val_loss: 0.3943 - val_accuracy: 0.8178\n",
      "Epoch 2/20\n",
      "266/266 [==============================] - 2s 9ms/step - loss: 0.3596 - accuracy: 0.8401 - val_loss: 0.3774 - val_accuracy: 0.8271\n",
      "Epoch 3/20\n",
      "266/266 [==============================] - 2s 9ms/step - loss: 0.3173 - accuracy: 0.8608 - val_loss: 0.3780 - val_accuracy: 0.8240\n",
      "Epoch 4/20\n",
      "266/266 [==============================] - 2s 9ms/step - loss: 0.2779 - accuracy: 0.8823 - val_loss: 0.3924 - val_accuracy: 0.8254\n",
      "Epoch 5/20\n",
      "266/266 [==============================] - 2s 9ms/step - loss: 0.2341 - accuracy: 0.9044 - val_loss: 0.4251 - val_accuracy: 0.8134\n",
      "Epoch 00005: early stopping\n"
     ]
    }
   ],
   "source": [
    "early_stop = keras.callbacks.EarlyStopping(monitor='val_accuracy', min_delta=0, patience=3, verbose=1)\n",
    "\n",
    "history = model2.fit(partial_x_train,\n",
    "                    partial_y_train,\n",
    "                    epochs=20,\n",
    "                    batch_size=512,\n",
    "                    callbacks=[early_stop],\n",
    "                    validation_data=(x_val, y_val),\n",
    "                    verbose=1)"
   ]
  },
  {
   "cell_type": "markdown",
   "id": "fallen-aluminum",
   "metadata": {},
   "source": [
    "### 테스트 정확도가 0.81로 결과가 LSTM보다 좋지 못했습니다."
   ]
  },
  {
   "cell_type": "code",
   "execution_count": 23,
   "id": "portuguese-ethernet",
   "metadata": {
    "scrolled": false
   },
   "outputs": [
    {
     "name": "stdout",
     "output_type": "stream",
     "text": [
      "1537/1537 - 4s - loss: 0.4421 - accuracy: 0.8129\n",
      "[0.4420726001262665, 0.8128648996353149]\n"
     ]
    }
   ],
   "source": [
    "results = model2.evaluate(x_test,  y_test, verbose=2)\n",
    "\n",
    "print(results)"
   ]
  },
  {
   "cell_type": "markdown",
   "id": "indirect-killing",
   "metadata": {},
   "source": [
    "### 훈련데이터와 검증데이터의 로스와 정확도에 대한 그래프를 그려봤습니다."
   ]
  },
  {
   "cell_type": "code",
   "execution_count": 24,
   "id": "ignored-justice",
   "metadata": {},
   "outputs": [
    {
     "data": {
      "image/png": "[encoded data removed]",
      "text/plain": [
       "<Figure size 432x288 with 1 Axes>"
      ]
     },
     "metadata": {
      "needs_background": "light"
     },
     "output_type": "display_data"
    }
   ],
   "source": [
    "history_dict = history.history\n",
    "acc = history_dict['accuracy']\n",
    "val_acc = history_dict['val_accuracy']\n",
    "loss = history_dict['loss']\n",
    "val_loss = history_dict['val_loss']\n",
    "\n",
    "epochs = range(1, len(acc) + 1)\n",
    "\n",
    "# \"bo\"는 \"파란색 점\"입니다\n",
    "plt.plot(epochs, loss, 'bo', label='Training loss')\n",
    "# b는 \"파란 실선\"입니다\n",
    "plt.plot(epochs, val_loss, 'b', label='Validation loss')\n",
    "plt.title('Training and validation loss')\n",
    "plt.xlabel('Epochs')\n",
    "plt.ylabel('Loss')\n",
    "plt.legend()\n",
    "\n",
    "plt.show()"
   ]
  },
  {
   "cell_type": "code",
   "execution_count": 25,
   "id": "adult-double",
   "metadata": {},
   "outputs": [
    {
     "data": {
      "image/png": "[encoded data removed]",
      "text/plain": [
       "<Figure size 432x288 with 1 Axes>"
      ]
     },
     "metadata": {
      "needs_background": "light"
     },
     "output_type": "display_data"
    }
   ],
   "source": [
    "plt.clf()   # 그림을 초기화합니다\n",
    "\n",
    "plt.plot(epochs, acc, 'bo', label='Training acc')\n",
    "plt.plot(epochs, val_acc, 'b', label='Validation acc')\n",
    "plt.title('Training and validation accuracy')\n",
    "plt.xlabel('Epochs')\n",
    "plt.ylabel('Accuracy')\n",
    "plt.legend()\n",
    "\n",
    "plt.show()"
   ]
  },
  {
   "cell_type": "markdown",
   "id": "typical-edward",
   "metadata": {},
   "source": [
    "### maxPooling 1layer 적용하기"
   ]
  },
  {
   "cell_type": "markdown",
   "id": "optional-fever",
   "metadata": {},
   "source": [
    "* maxPooling도 적용해볼만한 하나의 모델이기 때문에 적용해봤습니다."
   ]
  },
  {
   "cell_type": "code",
   "execution_count": 41,
   "id": "valuable-admission",
   "metadata": {
    "scrolled": true
   },
   "outputs": [
    {
     "name": "stdout",
     "output_type": "stream",
     "text": [
      "Model: \"sequential_4\"\n",
      "_________________________________________________________________\n",
      "Layer (type)                 Output Shape              Param #   \n",
      "=================================================================\n",
      "embedding_4 (Embedding)      (None, None, 16)          160000    \n",
      "_________________________________________________________________\n",
      "global_max_pooling1d_2 (Glob (None, 16)                0         \n",
      "_________________________________________________________________\n",
      "dense_8 (Dense)              (None, 8)                 136       \n",
      "_________________________________________________________________\n",
      "dense_9 (Dense)              (None, 1)                 9         \n",
      "=================================================================\n",
      "Total params: 160,145\n",
      "Trainable params: 160,145\n",
      "Non-trainable params: 0\n",
      "_________________________________________________________________\n"
     ]
    }
   ],
   "source": [
    "vocab_size3 = 10000  # 어휘 사전의 크기입니다(10개의 단어)\n",
    "word_vector_dim3 = 16   # 단어 하나를 표현하는 임베딩 벡터의 차원 수입니다. \n",
    "\n",
    "model3 = keras.Sequential()\n",
    "model3.add(keras.layers.Embedding(vocab_size3, word_vector_dim3, input_shape=(None,)))\n",
    "model3.add(keras.layers.GlobalMaxPooling1D())\n",
    "model3.add(keras.layers.Dense(8, activation='relu'))\n",
    "model3.add(keras.layers.Dense(1, activation='sigmoid'))  # 최종 출력은 긍정/부정을 나타내는 1dim 입니다.\n",
    "\n",
    "model3.summary()"
   ]
  },
  {
   "cell_type": "code",
   "execution_count": 27,
   "id": "antique-resistance",
   "metadata": {},
   "outputs": [],
   "source": [
    "model2.compile(optimizer='adam',\n",
    "              loss='binary_crossentropy',\n",
    "              metrics=['accuracy'])"
   ]
  },
  {
   "cell_type": "markdown",
   "id": "vertical-publication",
   "metadata": {},
   "source": [
    "### early stop을 적용하여 훈련했습니다."
   ]
  },
  {
   "cell_type": "code",
   "execution_count": 28,
   "id": "passive-brass",
   "metadata": {},
   "outputs": [
    {
     "name": "stdout",
     "output_type": "stream",
     "text": [
      "Epoch 1/20\n",
      "266/266 [==============================] - 3s 10ms/step - loss: 0.1937 - accuracy: 0.9230 - val_loss: 0.4557 - val_accuracy: 0.8187\n",
      "Epoch 2/20\n",
      "266/266 [==============================] - 2s 9ms/step - loss: 0.1551 - accuracy: 0.9386 - val_loss: 0.5132 - val_accuracy: 0.8153\n",
      "Epoch 3/20\n",
      "266/266 [==============================] - 2s 9ms/step - loss: 0.1303 - accuracy: 0.9491 - val_loss: 0.5725 - val_accuracy: 0.8109\n",
      "Epoch 4/20\n",
      "266/266 [==============================] - 2s 9ms/step - loss: 0.1109 - accuracy: 0.9566 - val_loss: 0.6346 - val_accuracy: 0.8036\n",
      "Epoch 00004: early stopping\n"
     ]
    }
   ],
   "source": [
    "early_stop = keras.callbacks.EarlyStopping(monitor='val_accuracy', min_delta=0, patience=3, verbose=1)\n",
    "\n",
    "history = model2.fit(partial_x_train,\n",
    "                    partial_y_train,\n",
    "                    epochs=20,\n",
    "                    callbacks=[early_stop],\n",
    "                    batch_size=512,\n",
    "                    validation_data=(x_val, y_val),\n",
    "                    verbose=1)"
   ]
  },
  {
   "cell_type": "markdown",
   "id": "alpine-hands",
   "metadata": {},
   "source": [
    "### 테스트 정확도가 0.7984로 다른모델들에비해 안좋았습니다."
   ]
  },
  {
   "cell_type": "code",
   "execution_count": 29,
   "id": "third-grade",
   "metadata": {},
   "outputs": [
    {
     "name": "stdout",
     "output_type": "stream",
     "text": [
      "1537/1537 - 3s - loss: 0.6605 - accuracy: 0.7984\n",
      "[0.6605461835861206, 0.7984417080879211]\n"
     ]
    }
   ],
   "source": [
    "results = model2.evaluate(x_test,  y_test, verbose=2)\n",
    "\n",
    "print(results)"
   ]
  },
  {
   "cell_type": "markdown",
   "id": "actual-archives",
   "metadata": {},
   "source": [
    "### 훈련데이터와 검증데이터의 로스와 정확도에 대한 그래프를 그려봤습니다."
   ]
  },
  {
   "cell_type": "code",
   "execution_count": 30,
   "id": "indian-wesley",
   "metadata": {},
   "outputs": [
    {
     "data": {
      "image/png": "[encoded data removed]",
      "text/plain": [
       "<Figure size 432x288 with 1 Axes>"
      ]
     },
     "metadata": {
      "needs_background": "light"
     },
     "output_type": "display_data"
    }
   ],
   "source": [
    "history_dict = history.history\n",
    "acc = history_dict['accuracy']\n",
    "val_acc = history_dict['val_accuracy']\n",
    "loss = history_dict['loss']\n",
    "val_loss = history_dict['val_loss']\n",
    "\n",
    "epochs = range(1, len(acc) + 1)\n",
    "\n",
    "# \"bo\"는 \"파란색 점\"입니다\n",
    "plt.plot(epochs, loss, 'bo', label='Training loss')\n",
    "# b는 \"파란 실선\"입니다\n",
    "plt.plot(epochs, val_loss, 'b', label='Validation loss')\n",
    "plt.title('Training and validation loss')\n",
    "plt.xlabel('Epochs')\n",
    "plt.ylabel('Loss')\n",
    "plt.legend()\n",
    "\n",
    "plt.show()"
   ]
  },
  {
   "cell_type": "code",
   "execution_count": 31,
   "id": "fitting-harassment",
   "metadata": {},
   "outputs": [
    {
     "data": {
      "image/png": "[encoded data removed]",
      "text/plain": [
       "<Figure size 432x288 with 1 Axes>"
      ]
     },
     "metadata": {
      "needs_background": "light"
     },
     "output_type": "display_data"
    }
   ],
   "source": [
    "plt.clf()   # 그림을 초기화합니다\n",
    "\n",
    "plt.plot(epochs, acc, 'bo', label='Training acc')\n",
    "plt.plot(epochs, val_acc, 'b', label='Validation acc')\n",
    "plt.title('Training and validation accuracy')\n",
    "plt.xlabel('Epochs')\n",
    "plt.ylabel('Accuracy')\n",
    "plt.legend()\n",
    "\n",
    "plt.show()"
   ]
  },
  {
   "cell_type": "markdown",
   "id": "arranged-stake",
   "metadata": {},
   "source": [
    "## gensim의 유사단어 찾기를 활용한 임베딩 레이어 분석"
   ]
  },
  {
   "cell_type": "markdown",
   "id": "animated-thomson",
   "metadata": {},
   "source": [
    "### 학습된 임베딩레이어를 가져왔습니다."
   ]
  },
  {
   "cell_type": "code",
   "execution_count": 32,
   "id": "desperate-immune",
   "metadata": {},
   "outputs": [
    {
     "name": "stdout",
     "output_type": "stream",
     "text": [
      "(10000, 16)\n"
     ]
    }
   ],
   "source": [
    "embedding_layer = model.layers[0]\n",
    "weights = embedding_layer.get_weights()[0]\n",
    "print(weights.shape)    # shape: (vocab_size, embedding_dim)"
   ]
  },
  {
   "cell_type": "code",
   "execution_count": 33,
   "id": "bottom-insertion",
   "metadata": {},
   "outputs": [],
   "source": [
    "import os\n",
    "\n",
    "# 학습한 Embedding 파라미터를 파일에 써서 저장합니다. \n",
    "word2vec_file_path = os.getenv('HOME')+'/aiffel/sentiment_classification/data/word2vec.txt'\n",
    "f = open(word2vec_file_path, 'w')\n",
    "f.write('{} {}\\n'.format(vocab_size-4, word_vector_dim))  # 몇개의 벡터를 얼마 사이즈로 기재할지 타이틀을 씁니다.\n",
    "\n",
    "# 단어 개수(에서 특수문자 4개는 제외하고)만큼의 워드 벡터를 파일에 기록합니다. \n",
    "vectors = model.get_weights()[0]\n",
    "for i in range(4,vocab_size):\n",
    "    f.write('{} {}\\n'.format(index_to_word[i], ' '.join(map(str, list(vectors[i, :])))))\n",
    "f.close()"
   ]
  },
  {
   "cell_type": "markdown",
   "id": "preceding-maria",
   "metadata": {},
   "source": [
    "### 기존에 학습된 모델로 gensim을 활용해 사랑과 유사한 단어를 출력해봤습니다."
   ]
  },
  {
   "cell_type": "code",
   "execution_count": 34,
   "id": "optional-radar",
   "metadata": {},
   "outputs": [
    {
     "data": {
      "text/plain": [
       "array([-0.09000323,  0.12405784, -0.07397222,  0.06512106,  0.14286599,\n",
       "        0.07866777, -0.05906132,  0.13709566, -0.08980451, -0.11728635,\n",
       "       -0.0651167 ,  0.0686473 ,  0.05625439, -0.09282461,  0.09473711,\n",
       "        0.07636973], dtype=float32)"
      ]
     },
     "execution_count": 34,
     "metadata": {},
     "output_type": "execute_result"
    }
   ],
   "source": [
    "from gensim.models.keyedvectors import Word2VecKeyedVectors\n",
    "\n",
    "word_vectors = Word2VecKeyedVectors.load_word2vec_format(word2vec_file_path, binary=False)\n",
    "\n",
    "vector = word_vectors['사랑']\n",
    "vector"
   ]
  },
  {
   "cell_type": "markdown",
   "id": "domestic-cruise",
   "metadata": {},
   "source": [
    "### 따듯, 귀여움과 같은 몇몇단어는 사랑과 유사해보이지만 대부분의 단어는 상관없어보였습니다."
   ]
  },
  {
   "cell_type": "code",
   "execution_count": 35,
   "id": "alike-pension",
   "metadata": {
    "scrolled": true
   },
   "outputs": [
    {
     "data": {
      "text/plain": [
       "[('멋지', 0.9748193025588989),\n",
       " ('귀여움', 0.9746495485305786),\n",
       " ('박신양', 0.9743257761001587),\n",
       " ('놓치', 0.9738006591796875),\n",
       " ('개꿀', 0.9737414121627808),\n",
       " ('따뜻', 0.9718996286392212),\n",
       " ('어쨋든', 0.9717445373535156),\n",
       " ('따듯', 0.9716466665267944),\n",
       " ('명작', 0.97150719165802),\n",
       " ('어우러진', 0.9700005054473877)]"
      ]
     },
     "execution_count": 35,
     "metadata": {},
     "output_type": "execute_result"
    }
   ],
   "source": [
    "word_vectors.similar_by_word(\"사랑\")"
   ]
  },
  {
   "cell_type": "markdown",
   "id": "dying-ticket",
   "metadata": {},
   "source": [
    "### 미리학습된 한국어 임베딩 데이터를 가져와서 gensim 유사단어찾기를 수행해봤습니다. 그결과 대부분의 단어가 사랑과 유사한 단어가 나옴을 볼 수 있었습니다."
   ]
  },
  {
   "cell_type": "code",
   "execution_count": 36,
   "id": "dominant-plaza",
   "metadata": {},
   "outputs": [
    {
     "data": {
      "text/plain": [
       "[('슬픔', 0.7216662764549255),\n",
       " ('행복', 0.6759077310562134),\n",
       " ('절망', 0.6468985080718994),\n",
       " ('기쁨', 0.6458414196968079),\n",
       " ('이별', 0.6334798336029053),\n",
       " ('추억', 0.6320937275886536),\n",
       " ('인생', 0.6216273307800293),\n",
       " ('애정', 0.6206069588661194),\n",
       " ('연인', 0.6186063289642334),\n",
       " ('유혹', 0.5965287685394287)]"
      ]
     },
     "execution_count": 36,
     "metadata": {},
     "output_type": "execute_result"
    }
   ],
   "source": [
    "import gensim\n",
    "word2vec_path = os.getenv('HOME')+'/aiffel/sentiment_classification/data/ko.bin'\n",
    "word2vec=gensim.models.Word2Vec.load(word2vec_path)\n",
    "\n",
    "vector = word2vec.wv.most_similar(\"사랑\")\n",
    "vector\n",
    "#ord2vec = KeyedVectors.load_word2vec_format(word2vec_path, binary=True, limit=1000000)\n",
    "#vector = word2vec['com']\n",
    "#vector     # 무려 300dim의 워드 벡터입니다."
   ]
  },
  {
   "cell_type": "markdown",
   "id": "artistic-picture",
   "metadata": {},
   "source": [
    "## Word2Vec을 활용하여 성능향상해보기"
   ]
  },
  {
   "cell_type": "markdown",
   "id": "informal-wilson",
   "metadata": {},
   "source": [
    "### 자체적 임베딩에서는 3가지모델을 적용해 봤을 때 LSTM 모델이 가장 좋은 테스트 정확도가 나와서 Word2Vec 기반 학습을 할때 LSTM을 적용했습니다."
   ]
  },
  {
   "cell_type": "code",
   "execution_count": 37,
   "id": "absent-dover",
   "metadata": {},
   "outputs": [
    {
     "name": "stdout",
     "output_type": "stream",
     "text": [
      "Model: \"sequential_3\"\n",
      "_________________________________________________________________\n",
      "Layer (type)                 Output Shape              Param #   \n",
      "=================================================================\n",
      "embedding_3 (Embedding)      (None, 48, 600)           6000000   \n",
      "_________________________________________________________________\n",
      "lstm_1 (LSTM)                (None, 8)                 19488     \n",
      "_________________________________________________________________\n",
      "dense_6 (Dense)              (None, 8)                 72        \n",
      "_________________________________________________________________\n",
      "dense_7 (Dense)              (None, 1)                 9         \n",
      "=================================================================\n",
      "Total params: 6,019,569\n",
      "Trainable params: 6,019,569\n",
      "Non-trainable params: 0\n",
      "_________________________________________________________________\n"
     ]
    }
   ],
   "source": [
    "from tensorflow.keras.initializers import Constant\n",
    "vocab_size = 10000    # 어휘 사전의 크기입니다(10,000개의 단어)\n",
    "word_vector_dim =600  # 워드 벡터의 차원 수 \n",
    "\n",
    "# 모델 구성\n",
    "model = keras.Sequential()\n",
    "model.add(keras.layers.Embedding(vocab_size, \n",
    "                                 word_vector_dim, \n",
    "                                 input_length=maxlen, \n",
    "                                 trainable=True))   # trainable을 True로 주면 Fine-tuning\n",
    "model.add(keras.layers.LSTM(8))# default로 activation은 tanh, rec activation은 sigmoid를 사용합니다.\n",
    "model.add(keras.layers.Dense(8, activation = 'relu'))# 출력의 차원을 양의 정수로 받습니다.\n",
    "model.add(keras.layers.Dense(1, activation = 'sigmoid'))# 최종 출력은 긍정(1) 혹은 부정(0)의 숫자로 sigmoid를 사용합니다.\n",
    "model.summary()"
   ]
  },
  {
   "cell_type": "markdown",
   "id": "coordinate-detector",
   "metadata": {},
   "source": [
    "### 과적합 방지를 위해 early stop을 적용하여 모델을 훈련했습니다."
   ]
  },
  {
   "cell_type": "code",
   "execution_count": null,
   "id": "promising-notion",
   "metadata": {},
   "outputs": [],
   "source": [
    "model.compile(optimizer='adam',\n",
    "              loss='binary_crossentropy',\n",
    "              metrics=['accuracy'])\n",
    "\n",
    "epochs=20  # 몇 epoch를 훈련하면 좋을지 결과를 보면서 바꾸어 봅시다. \n",
    "early_stop = keras.callbacks.EarlyStopping(monitor='val_accuracy', min_delta=0, patience=3, verbose=1)\n",
    "history = model.fit(partial_x_train,\n",
    "                    partial_y_train,\n",
    "                    epochs=epochs,\n",
    "                    batch_size=512,\n",
    "                    callbacks=[early_stop],\n",
    "                    validation_data=(x_val, y_val),\n",
    "                    verbose=1)"
   ]
  },
  {
   "cell_type": "markdown",
   "id": "environmental-constraint",
   "metadata": {},
   "source": [
    "###  최종 결과가 0.8521로 이전(0.84)에 비해 좋아짐을 볼수있습니다."
   ]
  },
  {
   "cell_type": "code",
   "execution_count": 39,
   "id": "experienced-arrow",
   "metadata": {
    "scrolled": true
   },
   "outputs": [
    {
     "name": "stdout",
     "output_type": "stream",
     "text": [
      "1537/1537 - 6s - loss: 0.3861 - accuracy: 0.8521\n",
      "[0.3860599100589752, 0.8520861864089966]\n"
     ]
    }
   ],
   "source": [
    "results = model.evaluate(x_test,  y_test, verbose=2)\n",
    "\n",
    "print(results)"
   ]
  },
  {
   "cell_type": "markdown",
   "id": "accurate-fabric",
   "metadata": {},
   "source": [
    "### 회고\n",
    "* 자체 임베딩을 하여 3가지 모델을 적용시켜본 결과 LSTM모델이 가장 좋은 성능을보였습니다. 그리고 가장 성능이 좋았던 LSTM 모델을 기반으로 word2vector를 적용시켜 85.2프로의 테스트 정확도를 갖도록 했습니다. \n",
    "\n",
    "* 성능을 개선하기 위해 여러가지 조치를 취했습니다.\n",
    "1. 첫번째로는 문장의 최대길이를 설정할 때 최대 길이안에 95%이상이 들어가도록 최대길이 값을 높였습니다. 이전에는 데이터양이 많아서(정규분포에 가까워서 )평균+2시그마를 하면 됐었는데 데이터 량이적어서그런지 평균+ 2시그마를 해도 95프로 이하의 포함관계를 보였습니다. 그래서 평균+2.5시그마로 문장의 최대길이를 설정했습니다. \n",
    "2. 두번째로는 문장의 길이를 맞추기위해 padding을할 때 pre 패딩으로 설정했습니다. 왜냐하면 LSTM 같은 recurrent 모델은 문장의 단어들이 차례대로 입력이 들어가며, 마지막 단어가 입력으로 들어갈때는 앞 단어들의 시퀀스 모델링이 반영된 가장 중요한 상태라고 볼수있습니다. pre padding의 경우에는 앞단에 0이 채워져 제로 패딩이 입력으로 들어가는 일 없이 올바른 시퀀스 모델링이 진행되지만 반면에 post-padding은 뒷단에 0이 채워져 마지막 단어로 제로패딩이 입력 될 수 있습니다. 이러한 현상은 순차적인 모델에서 뒤로갈수록 특성이 희미해지는 long-dependency 현상을 심화시킬 수 있습니다. 따라서 pre padding이 poast padding 보다 recurrent 모델에서 더 좋은 성능을 보인다고 합니다.\n",
    "3. 모델을 학습시킬 때 early stop기능 적용했습니다. 과도한 epoch는 모델이 훈련데이터를 지나치게 학습하게 되어 과적합이 일어날 수 있습니다. keras에서는 early stop기능을 제공하여 학습이 어느정도 학습이 완료됐을 경우 훈련을 정지시켜 과적합을 방지합니다. 이러한 기능을 제 모델에도 적용했습니다.\n",
    "4. word2vector를 적용시키고 난 후에도 저는 테스트 정확도가 85프로가 넘지 않았습니다. 이때 하이퍼 파라미터인 단어의 차원을 높이니 테스트 정확도가 올라갔습니다. 왜그런가 생각해보니 단어의 차원은 단어를 얼마나 미세하게 표현할지를 의미합니다. 우리의 데이터의 양이 꽤 많으므로 단어의 차원을 높여 그만큼 미세하게 표현하는것이 성능에 유리하다고 생각합니다. \n",
    "\n",
    "* 이번 Ex를 통해 좀더 NLP에 가까워진 느낌이 들어 개인적으로 매우 유익했습니다. 이런 좋은 실습을 할 수 있게 해주셔서 감사합니다. \n"
   ]
  },
  {
   "cell_type": "code",
   "execution_count": null,
   "id": "informed-emission",
   "metadata": {},
   "outputs": [],
   "source": []
  }
 ],
 "metadata": {
  "kernelspec": {
   "display_name": "Python 3",
   "language": "python",
   "name": "python3"
  },
  "language_info": {
   "codemirror_mode": {
    "name": "ipython",
    "version": 3
   },
   "file_extension": ".py",
   "mimetype": "text/x-python",
   "name": "python",
   "nbconvert_exporter": "python",
   "pygments_lexer": "ipython3",
   "version": "3.7.9"
  }
 },
 "nbformat": 4,
 "nbformat_minor": 5
}
